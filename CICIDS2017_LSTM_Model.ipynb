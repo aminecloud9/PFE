{
  "nbformat": 4,
  "nbformat_minor": 0,
  "metadata": {
    "colab": {
      "name": "CICIDS2017_LSTM_Model",
      "provenance": [],
      "collapsed_sections": [],
      "mount_file_id": "1uleDWIWtAeo5MXZ2cAetU-XyUYyx5b8U",
      "authorship_tag": "ABX9TyPOGxDyL3fNv7Kx8UH3g2FP",
      "include_colab_link": true
    },
    "kernelspec": {
      "display_name": "Python 3",
      "name": "python3"
    }
  },
  "cells": [
    {
      "cell_type": "markdown",
      "metadata": {
        "id": "view-in-github",
        "colab_type": "text"
      },
      "source": [
        "<a href=\"https://colab.research.google.com/github/aminecloud9/PFE/blob/main/CICIDS2017_LSTM_Model.ipynb\" target=\"_parent\"><img src=\"https://colab.research.google.com/assets/colab-badge.svg\" alt=\"Open In Colab\"/></a>"
      ]
    },
    {
      "cell_type": "code",
      "metadata": {
        "id": "zubbW2t0qkI4"
      },
      "source": [
        "%matplotlib inline\n",
        "import matplotlib.pyplot as plt\n",
        "import numpy as np\n",
        "import pandas as pd\n",
        "\n",
        "from __future__ import print_function\n",
        "import numpy as np\n",
        "np.random.seed(1337)  # for reproducibility\n",
        "from keras.preprocessing import sequence\n",
        "from keras.utils import np_utils\n",
        "from keras.models import Sequential\n",
        "from keras.optimizers import SGD\n",
        "from keras.layers import Dense, Dropout, Activation, Embedding\n",
        "from keras.layers import LSTM, SimpleRNN, GRU\n",
        "from keras.datasets import imdb\n",
        "from keras.utils.np_utils import to_categorical\n",
        "from sklearn.metrics import (precision_score, recall_score,\n",
        "                             f1_score, accuracy_score,mean_squared_error,mean_absolute_error)\n",
        "from sklearn import metrics\n",
        "from sklearn.preprocessing import Normalizer\n",
        "import h5py\n",
        "from keras import callbacks\n",
        "from keras import callbacks\n",
        "from keras.callbacks import ModelCheckpoint, EarlyStopping, ReduceLROnPlateau, CSVLogger"
      ],
      "execution_count": 1,
      "outputs": []
    },
    {
      "cell_type": "markdown",
      "metadata": {
        "id": "stUM1OvK4IWu"
      },
      "source": [
        "Download dataset"
      ]
    },
    {
      "cell_type": "code",
      "metadata": {
        "id": "yGP9ArVErwIu"
      },
      "source": [
        "data=pd.read_csv('/content/drive/MyDrive/globalData.csv')\n",
        "#Labels=pd.read_csv('/content/drive/MyDrive/CICIDS2017_Labels.csv')"
      ],
      "execution_count": 2,
      "outputs": []
    },
    {
      "cell_type": "code",
      "metadata": {
        "id": "-fPDhHCXHzE-"
      },
      "source": [
        "Y = data.values[:,-1]\n",
        "X = data.iloc[: , :-1]"
      ],
      "execution_count": 3,
      "outputs": []
    },
    {
      "cell_type": "markdown",
      "metadata": {
        "id": "CMBicShqKInv"
      },
      "source": [
        "Data scaling"
      ]
    },
    {
      "cell_type": "code",
      "metadata": {
        "colab": {
          "base_uri": "https://localhost:8080/"
        },
        "id": "mY6EXElLKNJO",
        "outputId": "10ac12f2-dc85-4639-be5b-dfb5a4e8c19d"
      },
      "source": [
        "scaler = StandardScaler()\n",
        "X= np.nan_to_num(X)\n",
        "X = scaler.fit_transform(X)"
      ],
      "execution_count": 4,
      "outputs": [
        {
          "output_type": "stream",
          "text": [
            "/usr/local/lib/python3.7/dist-packages/numpy/core/fromnumeric.py:87: RuntimeWarning: overflow encountered in reduce\n",
            "  return ufunc.reduce(obj, axis, dtype, out, **passkwargs)\n",
            "/usr/local/lib/python3.7/dist-packages/numpy/core/fromnumeric.py:87: RuntimeWarning: overflow encountered in reduce\n",
            "  return ufunc.reduce(obj, axis, dtype, out, **passkwargs)\n",
            "/usr/local/lib/python3.7/dist-packages/sklearn/preprocessing/_data.py:808: RuntimeWarning: invalid value encountered in true_divide\n",
            "  X /= self.scale_\n"
          ],
          "name": "stderr"
        }
      ]
    },
    {
      "cell_type": "markdown",
      "metadata": {
        "id": "BG2uwLAl4cNK"
      },
      "source": [
        "Split dateset"
      ]
    },
    {
      "cell_type": "code",
      "metadata": {
        "id": "j-4aCMAUrn3D"
      },
      "source": [
        "#Import Module\n",
        "from sklearn.model_selection import train_test_split\n",
        "\n",
        "\n",
        "train_X, test_X, train_y, test_y = train_test_split(X, Y, \n",
        "                                                     train_size=0.7,\n",
        "                                                     test_size=0.3,\n",
        "                                                     random_state=122)"
      ],
      "execution_count": 5,
      "outputs": []
    },
    {
      "cell_type": "code",
      "metadata": {
        "id": "ZB9DHJQnvXWS"
      },
      "source": [
        "del(X)\n",
        "del(Y)"
      ],
      "execution_count": 9,
      "outputs": []
    },
    {
      "cell_type": "code",
      "metadata": {
        "id": "JsRwlMa74-Po"
      },
      "source": [
        "train_X[:,pd.isna(train_X).any()].tolist()"
      ],
      "execution_count": null,
      "outputs": []
    },
    {
      "cell_type": "code",
      "metadata": {
        "id": "W7FOxrdJ2tye"
      },
      "source": [
        "# reshape input to be [samples, time steps, features]\n",
        "import keras\n",
        "\n",
        "#X_train = np.reshape(data.values[:,:-1].astype('float32'), (data.values[:,:-1].shape[0], 1, data.values[:,:-1].shape[1]))\n",
        "X_train = np.reshape(train_X.astype('float32'), (train_X.shape[0], 1, train_X.shape[1]))\n",
        "X_test = np.reshape(test_X.astype('float32'), (test_X.shape[0], 1, test_X.shape[1]))\n",
        "#y_train = keras.utils.to_categorical(pd.factorize(data.values[:,77])[0],15)\n",
        "test_y = pd.factorize(test_y)\n",
        "train_y = pd.factorize(train_y)\n",
        "y_train = keras.utils.to_categorical(train_y[0],train_y[1].shape[0])\n",
        "y_train = y_train.astype('int')\n",
        "y_train = np.reshape(y_train,(y_train.shape[0],1,y_train.shape[1]))\n",
        "y_test = keras.utils.to_categorical(test_y[0],train_y[1].shape[0])\n",
        "y_test = y_test.astype('int')\n",
        "y_test = np.reshape(y_test,(y_test.shape[0],1,y_test.shape[1]))"
      ],
      "execution_count": 27,
      "outputs": []
    },
    {
      "cell_type": "code",
      "metadata": {
        "id": "Bmi9FeVpM7z8"
      },
      "source": [
        "import time\n",
        "data_dim = X_train.shape[2]\n",
        "timesteps = 1\n",
        "num_classes = y_train.shape[2]\n",
        "batch_size = 1\n",
        "\n",
        "model = Sequential()\n",
        "model.add(LSTM(50, return_sequences=True, stateful=False, batch_input_shape=(batch_size, timesteps, data_dim)))\n",
        "model.add(Dropout(0.1))\n",
        "model.add(LSTM(50, return_sequences=True, stateful=False))\n",
        "model.add(Dropout(0.1))\n",
        "model.add(LSTM(50, stateful=True))\n",
        "model.add(Dropout(0.1))\n",
        "model.add(Dense(num_classes, activation='softmax'))\n",
        "model.compile(loss='binary_crossentropy', optimizer='adam', metrics=['accuracy'])\n",
        "\n",
        "\n",
        "start = time.time()\n",
        "\n",
        "start_time = time.time()\n",
        "model.fit(X_train, y_train,batch_size=batch_size, epochs=2, shuffle=False)\n",
        "finish_time = time.time() - start_time\n",
        "#model.save(\"/content/drive/My Drive/final_model_NSL-KDD_brute_Multiclass.h5\")"
      ],
      "execution_count": null,
      "outputs": []
    },
    {
      "cell_type": "code",
      "metadata": {
        "colab": {
          "base_uri": "https://localhost:8080/"
        },
        "id": "Z2X1EbkTFiow",
        "outputId": "6467fec1-26ed-448b-b7bd-abd3c402be51"
      },
      "source": [
        "import time\n",
        "#train_object_num=len(train_data)\n",
        "#print(test[0])\n",
        "#model training\n",
        "batch_size = 512\n",
        "model=Sequential()\n",
        "model.add(LSTM(32,input_dim=X_train.shape[2],return_sequences=True,kernel_initializer='uniform',activation='relu'))\n",
        "model.add(LSTM(32,kernel_initializer='uniform',return_sequences=True,activation='relu'))\n",
        "#model.add(LSTM(128,kernel_initializer='uniform',activation='relu'))\n",
        "#model.add(Dense(256,activation='relu'))\n",
        "#model.add(Dense(128,activation='relu'))\n",
        "model.add(Dense(64,activation='relu'))\n",
        "#model.add(Dense(16,activation='relu'))\n",
        "model.add(Dense(y_train.shape[2],activation='sigmoid'))\n",
        "model.compile(loss='binary_crossentropy',optimizer='NADAM',metrics=['accuracy'])\n",
        "model.summary()\n",
        "start_time = time.time()\n",
        "history = model.fit(X_train,y_train,validation_split=.3,epochs=100,batch_size=batch_size,verbose=1)\n",
        "finish_time = time.time() - start_time\n",
        "model.save(\"/content/drive/My Drive/model_CICIDS_brute_data_valsplit.3.h5\")"
      ],
      "execution_count": null,
      "outputs": [
        {
          "output_type": "stream",
          "text": [
            "Model: \"sequential_9\"\n",
            "_________________________________________________________________\n",
            "Layer (type)                 Output Shape              Param #   \n",
            "=================================================================\n",
            "lstm_9 (LSTM)                (None, None, 32)          13056     \n",
            "_________________________________________________________________\n",
            "lstm_10 (LSTM)               (None, None, 32)          8320      \n",
            "_________________________________________________________________\n",
            "dense_9 (Dense)              (None, None, 64)          2112      \n",
            "_________________________________________________________________\n",
            "dense_10 (Dense)             (None, None, 7)           455       \n",
            "=================================================================\n",
            "Total params: 23,943\n",
            "Trainable params: 23,943\n",
            "Non-trainable params: 0\n",
            "_________________________________________________________________\n",
            "Epoch 1/100\n",
            "2710/2710 [==============================] - 26s 8ms/step - loss: nan - accuracy: 0.7962 - val_loss: nan - val_accuracy: 0.8034\n",
            "Epoch 2/100\n",
            "2710/2710 [==============================] - 23s 8ms/step - loss: nan - accuracy: 0.8033 - val_loss: nan - val_accuracy: 0.8034\n",
            "Epoch 3/100\n",
            "2710/2710 [==============================] - 23s 8ms/step - loss: nan - accuracy: 0.8022 - val_loss: nan - val_accuracy: 0.8034\n",
            "Epoch 4/100\n",
            "2710/2710 [==============================] - 23s 8ms/step - loss: nan - accuracy: 0.8036 - val_loss: nan - val_accuracy: 0.8034\n",
            "Epoch 5/100\n",
            "2710/2710 [==============================] - 24s 9ms/step - loss: nan - accuracy: 0.8027 - val_loss: nan - val_accuracy: 0.8034\n",
            "Epoch 6/100\n",
            "2710/2710 [==============================] - 23s 9ms/step - loss: nan - accuracy: 0.8029 - val_loss: nan - val_accuracy: 0.8034\n",
            "Epoch 7/100\n",
            "2710/2710 [==============================] - 23s 8ms/step - loss: nan - accuracy: 0.8026 - val_loss: nan - val_accuracy: 0.8034\n",
            "Epoch 8/100\n",
            "2710/2710 [==============================] - 23s 8ms/step - loss: nan - accuracy: 0.8026 - val_loss: nan - val_accuracy: 0.8034\n",
            "Epoch 9/100\n",
            "2710/2710 [==============================] - 23s 9ms/step - loss: nan - accuracy: 0.8031 - val_loss: nan - val_accuracy: 0.8034\n",
            "Epoch 10/100\n",
            "2710/2710 [==============================] - 23s 8ms/step - loss: nan - accuracy: 0.8032 - val_loss: nan - val_accuracy: 0.8034\n",
            "Epoch 11/100\n",
            "2710/2710 [==============================] - 24s 9ms/step - loss: nan - accuracy: 0.8030 - val_loss: nan - val_accuracy: 0.8034\n",
            "Epoch 12/100\n",
            "2710/2710 [==============================] - 24s 9ms/step - loss: nan - accuracy: 0.8029 - val_loss: nan - val_accuracy: 0.8034\n",
            "Epoch 13/100\n",
            "2710/2710 [==============================] - 22s 8ms/step - loss: nan - accuracy: 0.8033 - val_loss: nan - val_accuracy: 0.8034\n",
            "Epoch 14/100\n",
            "2710/2710 [==============================] - 23s 9ms/step - loss: nan - accuracy: 0.8027 - val_loss: nan - val_accuracy: 0.8034\n",
            "Epoch 15/100\n",
            "2710/2710 [==============================] - 22s 8ms/step - loss: nan - accuracy: 0.8035 - val_loss: nan - val_accuracy: 0.8034\n",
            "Epoch 16/100\n",
            "2710/2710 [==============================] - 24s 9ms/step - loss: nan - accuracy: 0.8022 - val_loss: nan - val_accuracy: 0.8034\n",
            "Epoch 17/100\n",
            "2710/2710 [==============================] - 23s 8ms/step - loss: nan - accuracy: 0.8026 - val_loss: nan - val_accuracy: 0.8034\n",
            "Epoch 18/100\n",
            "2710/2710 [==============================] - 24s 9ms/step - loss: nan - accuracy: 0.8028 - val_loss: nan - val_accuracy: 0.8034\n",
            "Epoch 19/100\n",
            "2710/2710 [==============================] - 24s 9ms/step - loss: nan - accuracy: 0.8027 - val_loss: nan - val_accuracy: 0.8034\n",
            "Epoch 20/100\n",
            "2710/2710 [==============================] - 28s 10ms/step - loss: nan - accuracy: 0.8032 - val_loss: nan - val_accuracy: 0.8034\n",
            "Epoch 21/100\n",
            "2710/2710 [==============================] - 23s 8ms/step - loss: nan - accuracy: 0.8025 - val_loss: nan - val_accuracy: 0.8034\n",
            "Epoch 22/100\n",
            "2710/2710 [==============================] - 23s 8ms/step - loss: nan - accuracy: 0.8028 - val_loss: nan - val_accuracy: 0.8034\n",
            "Epoch 23/100\n",
            "2710/2710 [==============================] - 23s 8ms/step - loss: nan - accuracy: 0.8024 - val_loss: nan - val_accuracy: 0.8034\n",
            "Epoch 24/100\n",
            "2710/2710 [==============================] - 23s 8ms/step - loss: nan - accuracy: 0.8024 - val_loss: nan - val_accuracy: 0.8034\n",
            "Epoch 25/100\n",
            "2710/2710 [==============================] - 24s 9ms/step - loss: nan - accuracy: 0.8028 - val_loss: nan - val_accuracy: 0.8034\n",
            "Epoch 26/100\n",
            "2710/2710 [==============================] - 22s 8ms/step - loss: nan - accuracy: 0.8026 - val_loss: nan - val_accuracy: 0.8034\n",
            "Epoch 27/100\n",
            "2710/2710 [==============================] - 24s 9ms/step - loss: nan - accuracy: 0.8025 - val_loss: nan - val_accuracy: 0.8034\n",
            "Epoch 28/100\n",
            "2710/2710 [==============================] - 23s 8ms/step - loss: nan - accuracy: 0.8027 - val_loss: nan - val_accuracy: 0.8034\n",
            "Epoch 29/100\n",
            "2710/2710 [==============================] - 24s 9ms/step - loss: nan - accuracy: 0.8033 - val_loss: nan - val_accuracy: 0.8034\n",
            "Epoch 30/100\n",
            "2710/2710 [==============================] - 23s 8ms/step - loss: nan - accuracy: 0.8033 - val_loss: nan - val_accuracy: 0.8034\n",
            "Epoch 31/100\n",
            "2710/2710 [==============================] - 23s 9ms/step - loss: nan - accuracy: 0.8025 - val_loss: nan - val_accuracy: 0.8034\n",
            "Epoch 32/100\n",
            "2710/2710 [==============================] - 23s 9ms/step - loss: nan - accuracy: 0.8030 - val_loss: nan - val_accuracy: 0.8034\n",
            "Epoch 33/100\n",
            "2710/2710 [==============================] - 23s 9ms/step - loss: nan - accuracy: 0.8026 - val_loss: nan - val_accuracy: 0.8034\n",
            "Epoch 34/100\n",
            "2710/2710 [==============================] - 23s 9ms/step - loss: nan - accuracy: 0.8027 - val_loss: nan - val_accuracy: 0.8034\n",
            "Epoch 35/100\n",
            "2710/2710 [==============================] - 22s 8ms/step - loss: nan - accuracy: 0.8031 - val_loss: nan - val_accuracy: 0.8034\n",
            "Epoch 36/100\n",
            "2710/2710 [==============================] - 23s 8ms/step - loss: nan - accuracy: 0.8030 - val_loss: nan - val_accuracy: 0.8034\n",
            "Epoch 37/100\n",
            "2710/2710 [==============================] - 22s 8ms/step - loss: nan - accuracy: 0.8031 - val_loss: nan - val_accuracy: 0.8034\n",
            "Epoch 38/100\n",
            "2710/2710 [==============================] - 23s 8ms/step - loss: nan - accuracy: 0.8027 - val_loss: nan - val_accuracy: 0.8034\n",
            "Epoch 39/100\n",
            "2710/2710 [==============================] - 24s 9ms/step - loss: nan - accuracy: 0.8028 - val_loss: nan - val_accuracy: 0.8034\n",
            "Epoch 40/100\n",
            "2710/2710 [==============================] - 22s 8ms/step - loss: nan - accuracy: 0.8031 - val_loss: nan - val_accuracy: 0.8034\n",
            "Epoch 41/100\n",
            "2710/2710 [==============================] - 24s 9ms/step - loss: nan - accuracy: 0.8030 - val_loss: nan - val_accuracy: 0.8034\n",
            "Epoch 42/100\n",
            "2710/2710 [==============================] - 23s 9ms/step - loss: nan - accuracy: 0.8024 - val_loss: nan - val_accuracy: 0.8034\n",
            "Epoch 43/100\n",
            "2710/2710 [==============================] - 24s 9ms/step - loss: nan - accuracy: 0.8028 - val_loss: nan - val_accuracy: 0.8034\n",
            "Epoch 44/100\n",
            "2710/2710 [==============================] - 22s 8ms/step - loss: nan - accuracy: 0.8025 - val_loss: nan - val_accuracy: 0.8034\n",
            "Epoch 45/100\n",
            "2710/2710 [==============================] - 24s 9ms/step - loss: nan - accuracy: 0.8024 - val_loss: nan - val_accuracy: 0.8034\n",
            "Epoch 46/100\n",
            "2710/2710 [==============================] - 31s 11ms/step - loss: nan - accuracy: 0.8024 - val_loss: nan - val_accuracy: 0.8034\n",
            "Epoch 47/100\n",
            "2710/2710 [==============================] - 23s 8ms/step - loss: nan - accuracy: 0.8031 - val_loss: nan - val_accuracy: 0.8034\n",
            "Epoch 48/100\n",
            "2710/2710 [==============================] - 24s 9ms/step - loss: nan - accuracy: 0.8029 - val_loss: nan - val_accuracy: 0.8034\n",
            "Epoch 49/100\n",
            "2710/2710 [==============================] - 23s 8ms/step - loss: nan - accuracy: 0.8026 - val_loss: nan - val_accuracy: 0.8034\n",
            "Epoch 50/100\n",
            "2710/2710 [==============================] - 24s 9ms/step - loss: nan - accuracy: 0.8032 - val_loss: nan - val_accuracy: 0.8034\n",
            "Epoch 51/100\n",
            "2710/2710 [==============================] - 23s 8ms/step - loss: nan - accuracy: 0.8029 - val_loss: nan - val_accuracy: 0.8034\n",
            "Epoch 52/100\n",
            "2710/2710 [==============================] - 24s 9ms/step - loss: nan - accuracy: 0.8034 - val_loss: nan - val_accuracy: 0.8034\n",
            "Epoch 53/100\n",
            "2710/2710 [==============================] - 24s 9ms/step - loss: nan - accuracy: 0.8030 - val_loss: nan - val_accuracy: 0.8034\n",
            "Epoch 54/100\n",
            "2710/2710 [==============================] - 23s 9ms/step - loss: nan - accuracy: 0.8027 - val_loss: nan - val_accuracy: 0.8034\n",
            "Epoch 55/100\n",
            "2710/2710 [==============================] - 24s 9ms/step - loss: nan - accuracy: 0.8031 - val_loss: nan - val_accuracy: 0.8034\n",
            "Epoch 56/100\n",
            "2710/2710 [==============================] - 23s 8ms/step - loss: nan - accuracy: 0.8025 - val_loss: nan - val_accuracy: 0.8034\n",
            "Epoch 57/100\n",
            "2710/2710 [==============================] - 24s 9ms/step - loss: nan - accuracy: 0.8023 - val_loss: nan - val_accuracy: 0.8034\n",
            "Epoch 58/100\n",
            "2710/2710 [==============================] - 23s 9ms/step - loss: nan - accuracy: 0.8030 - val_loss: nan - val_accuracy: 0.8034\n",
            "Epoch 59/100\n",
            "2710/2710 [==============================] - 24s 9ms/step - loss: nan - accuracy: 0.8023 - val_loss: nan - val_accuracy: 0.8034\n",
            "Epoch 60/100\n",
            "2710/2710 [==============================] - 23s 9ms/step - loss: nan - accuracy: 0.8033 - val_loss: nan - val_accuracy: 0.8034\n",
            "Epoch 61/100\n",
            "2710/2710 [==============================] - 24s 9ms/step - loss: nan - accuracy: 0.8031 - val_loss: nan - val_accuracy: 0.8034\n",
            "Epoch 62/100\n",
            "2710/2710 [==============================] - 24s 9ms/step - loss: nan - accuracy: 0.8025 - val_loss: nan - val_accuracy: 0.8034\n",
            "Epoch 63/100\n",
            "2710/2710 [==============================] - 23s 9ms/step - loss: nan - accuracy: 0.8031 - val_loss: nan - val_accuracy: 0.8034\n",
            "Epoch 64/100\n",
            "2710/2710 [==============================] - 24s 9ms/step - loss: nan - accuracy: 0.8023 - val_loss: nan - val_accuracy: 0.8034\n",
            "Epoch 65/100\n",
            "2710/2710 [==============================] - 23s 9ms/step - loss: nan - accuracy: 0.8025 - val_loss: nan - val_accuracy: 0.8034\n",
            "Epoch 66/100\n",
            "2710/2710 [==============================] - 24s 9ms/step - loss: nan - accuracy: 0.8027 - val_loss: nan - val_accuracy: 0.8034\n",
            "Epoch 67/100\n",
            "2710/2710 [==============================] - 23s 9ms/step - loss: nan - accuracy: 0.8024 - val_loss: nan - val_accuracy: 0.8034\n",
            "Epoch 68/100\n",
            "2710/2710 [==============================] - 24s 9ms/step - loss: nan - accuracy: 0.8026 - val_loss: nan - val_accuracy: 0.8034\n",
            "Epoch 69/100\n",
            "2710/2710 [==============================] - 24s 9ms/step - loss: nan - accuracy: 0.8029 - val_loss: nan - val_accuracy: 0.8034\n",
            "Epoch 70/100\n",
            "2710/2710 [==============================] - 24s 9ms/step - loss: nan - accuracy: 0.8028 - val_loss: nan - val_accuracy: 0.8034\n",
            "Epoch 71/100\n",
            "2710/2710 [==============================] - 30s 11ms/step - loss: nan - accuracy: 0.8027 - val_loss: nan - val_accuracy: 0.8034\n",
            "Epoch 72/100\n",
            "2710/2710 [==============================] - 27s 10ms/step - loss: nan - accuracy: 0.8028 - val_loss: nan - val_accuracy: 0.8034\n",
            "Epoch 73/100\n",
            "2710/2710 [==============================] - 25s 9ms/step - loss: nan - accuracy: 0.8021 - val_loss: nan - val_accuracy: 0.8034\n",
            "Epoch 74/100\n",
            "2710/2710 [==============================] - 24s 9ms/step - loss: nan - accuracy: 0.8026 - val_loss: nan - val_accuracy: 0.8034\n",
            "Epoch 75/100\n",
            "2710/2710 [==============================] - 24s 9ms/step - loss: nan - accuracy: 0.8029 - val_loss: nan - val_accuracy: 0.8034\n",
            "Epoch 76/100\n",
            "2710/2710 [==============================] - 24s 9ms/step - loss: nan - accuracy: 0.8028 - val_loss: nan - val_accuracy: 0.8034\n",
            "Epoch 77/100\n",
            "2710/2710 [==============================] - 24s 9ms/step - loss: nan - accuracy: 0.8030 - val_loss: nan - val_accuracy: 0.8034\n",
            "Epoch 78/100\n",
            "2710/2710 [==============================] - 25s 9ms/step - loss: nan - accuracy: 0.8024 - val_loss: nan - val_accuracy: 0.8034\n",
            "Epoch 79/100\n",
            "2710/2710 [==============================] - 26s 9ms/step - loss: nan - accuracy: 0.8027 - val_loss: nan - val_accuracy: 0.8034\n",
            "Epoch 80/100\n",
            "2710/2710 [==============================] - 25s 9ms/step - loss: nan - accuracy: 0.8030 - val_loss: nan - val_accuracy: 0.8034\n",
            "Epoch 81/100\n",
            "2710/2710 [==============================] - 23s 9ms/step - loss: nan - accuracy: 0.8035 - val_loss: nan - val_accuracy: 0.8034\n",
            "Epoch 82/100\n",
            "2710/2710 [==============================] - 25s 9ms/step - loss: nan - accuracy: 0.8020 - val_loss: nan - val_accuracy: 0.8034\n",
            "Epoch 83/100\n",
            "2710/2710 [==============================] - 24s 9ms/step - loss: nan - accuracy: 0.8027 - val_loss: nan - val_accuracy: 0.8034\n",
            "Epoch 84/100\n",
            "2710/2710 [==============================] - 24s 9ms/step - loss: nan - accuracy: 0.8030 - val_loss: nan - val_accuracy: 0.8034\n",
            "Epoch 85/100\n",
            "2710/2710 [==============================] - 24s 9ms/step - loss: nan - accuracy: 0.8030 - val_loss: nan - val_accuracy: 0.8034\n",
            "Epoch 86/100\n",
            "2710/2710 [==============================] - 24s 9ms/step - loss: nan - accuracy: 0.8029 - val_loss: nan - val_accuracy: 0.8034\n",
            "Epoch 87/100\n",
            "2710/2710 [==============================] - 24s 9ms/step - loss: nan - accuracy: 0.8028 - val_loss: nan - val_accuracy: 0.8034\n",
            "Epoch 88/100\n",
            "2710/2710 [==============================] - 24s 9ms/step - loss: nan - accuracy: 0.8031 - val_loss: nan - val_accuracy: 0.8034\n",
            "Epoch 89/100\n",
            "2710/2710 [==============================] - 25s 9ms/step - loss: nan - accuracy: 0.8024 - val_loss: nan - val_accuracy: 0.8034\n",
            "Epoch 90/100\n",
            "2710/2710 [==============================] - 24s 9ms/step - loss: nan - accuracy: 0.8031 - val_loss: nan - val_accuracy: 0.8034\n",
            "Epoch 91/100\n",
            "2710/2710 [==============================] - 25s 9ms/step - loss: nan - accuracy: 0.8027 - val_loss: nan - val_accuracy: 0.8034\n",
            "Epoch 92/100\n",
            "2710/2710 [==============================] - 25s 9ms/step - loss: nan - accuracy: 0.8027 - val_loss: nan - val_accuracy: 0.8034\n",
            "Epoch 93/100\n",
            "2710/2710 [==============================] - 25s 9ms/step - loss: nan - accuracy: 0.8029 - val_loss: nan - val_accuracy: 0.8034\n",
            "Epoch 94/100\n",
            "2710/2710 [==============================] - 24s 9ms/step - loss: nan - accuracy: 0.8025 - val_loss: nan - val_accuracy: 0.8034\n",
            "Epoch 95/100\n",
            "2710/2710 [==============================] - 25s 9ms/step - loss: nan - accuracy: 0.8028 - val_loss: nan - val_accuracy: 0.8034\n",
            "Epoch 96/100\n",
            "2710/2710 [==============================] - 24s 9ms/step - loss: nan - accuracy: 0.8026 - val_loss: nan - val_accuracy: 0.8034\n",
            "Epoch 97/100\n",
            "2710/2710 [==============================] - 25s 9ms/step - loss: nan - accuracy: 0.8029 - val_loss: nan - val_accuracy: 0.8034\n",
            "Epoch 98/100\n",
            "2710/2710 [==============================] - 24s 9ms/step - loss: nan - accuracy: 0.8025 - val_loss: nan - val_accuracy: 0.8034\n",
            "Epoch 99/100\n",
            "2710/2710 [==============================] - 26s 9ms/step - loss: nan - accuracy: 0.8022 - val_loss: nan - val_accuracy: 0.8034\n",
            "Epoch 100/100\n",
            "2710/2710 [==============================] - 24s 9ms/step - loss: nan - accuracy: 0.8026 - val_loss: nan - val_accuracy: 0.8034\n"
          ],
          "name": "stdout"
        }
      ]
    },
    {
      "cell_type": "code",
      "metadata": {
        "colab": {
          "base_uri": "https://localhost:8080/"
        },
        "id": "J58S0Vi_4Nov",
        "outputId": "0e99f0c5-5a75-4dcd-ffde-f63df5fe0130"
      },
      "source": [
        "batch_size= 1024\n",
        "lrate = 0.1\n",
        "model = Sequential()\n",
        "model.add(Dense(X_train.shape[2], input_dim=X_train.shape[2], activation='relu', kernel_initializer='he_uniform'))\n",
        "model.add(Dense(1024, input_dim=X_train.shape[2], activation='relu', kernel_initializer='he_uniform'))\n",
        "#model.add(Dropout(0.1))\n",
        "model.add(Dense(768, input_dim=X_train.shape[2], activation='relu', kernel_initializer='he_uniform'))\n",
        "#model.add(Dropout(0.1))\n",
        "model.add(Dense(512, input_dim=X_train.shape[2], activation='relu', kernel_initializer='he_uniform'))\n",
        "#model.add(Dropout(0.1))\n",
        "model.add(Dense(256, input_dim=X_train.shape[2], activation='relu', kernel_initializer='he_uniform'))\n",
        "#model.add(Dropout(0.1))\n",
        "model.add(Dense(128, input_dim=X_train.shape[2], activation='relu', kernel_initializer='he_uniform'))\n",
        "#model.add(Dropout(0.1))\n",
        "model.add(Dense(y_train.shape[2], activation='softmax'))\n",
        "\t# compile model\n",
        "opt = SGD(lr=lrate)\n",
        "#loss = categorical_focal_loss([67343,45927,995,11656,52])\n",
        "model.compile(loss= 'categorical_crossentropy', optimizer=opt, metrics=['accuracy'])\n",
        "# fit model\n",
        "history = model.fit(X_train, y_train, validation_split=.3,batch_size=batch_size, epochs=10, verbose=1)"
      ],
      "execution_count": 30,
      "outputs": [
        {
          "output_type": "stream",
          "text": [
            "Epoch 1/10\n",
            "WARNING:tensorflow:Model was constructed with shape (None, 77) for input KerasTensor(type_spec=TensorSpec(shape=(None, 77), dtype=tf.float32, name='dense_14_input'), name='dense_14_input', description=\"created by layer 'dense_14_input'\"), but it was called on an input with incompatible shape (None, 1, 77).\n",
            "WARNING:tensorflow:Model was constructed with shape (None, 77) for input KerasTensor(type_spec=TensorSpec(shape=(None, 77), dtype=tf.float32, name='dense_14_input'), name='dense_14_input', description=\"created by layer 'dense_14_input'\"), but it was called on an input with incompatible shape (None, 1, 77).\n",
            "1355/1355 [==============================] - ETA: 0s - loss: nan - accuracy: 0.8034WARNING:tensorflow:Model was constructed with shape (None, 77) for input KerasTensor(type_spec=TensorSpec(shape=(None, 77), dtype=tf.float32, name='dense_14_input'), name='dense_14_input', description=\"created by layer 'dense_14_input'\"), but it was called on an input with incompatible shape (None, 1, 77).\n",
            "1355/1355 [==============================] - 268s 197ms/step - loss: nan - accuracy: 0.8034 - val_loss: nan - val_accuracy: 0.8034\n",
            "Epoch 2/10\n",
            "1355/1355 [==============================] - 265s 196ms/step - loss: nan - accuracy: 0.8027 - val_loss: nan - val_accuracy: 0.8034\n",
            "Epoch 3/10\n",
            "1355/1355 [==============================] - 264s 195ms/step - loss: nan - accuracy: 0.8022 - val_loss: nan - val_accuracy: 0.8034\n",
            "Epoch 4/10\n",
            "1355/1355 [==============================] - 271s 200ms/step - loss: nan - accuracy: 0.8026 - val_loss: nan - val_accuracy: 0.8034\n",
            "Epoch 5/10\n",
            "1355/1355 [==============================] - 264s 195ms/step - loss: nan - accuracy: 0.8032 - val_loss: nan - val_accuracy: 0.8034\n",
            "Epoch 6/10\n",
            "1355/1355 [==============================] - 265s 195ms/step - loss: nan - accuracy: 0.8030 - val_loss: nan - val_accuracy: 0.8034\n",
            "Epoch 7/10\n",
            "1355/1355 [==============================] - 265s 196ms/step - loss: nan - accuracy: 0.8030 - val_loss: nan - val_accuracy: 0.8034\n",
            "Epoch 8/10\n",
            "1355/1355 [==============================] - 267s 197ms/step - loss: nan - accuracy: 0.8032 - val_loss: nan - val_accuracy: 0.8034\n",
            "Epoch 9/10\n",
            "1355/1355 [==============================] - 266s 196ms/step - loss: nan - accuracy: 0.8033 - val_loss: nan - val_accuracy: 0.8034\n",
            "Epoch 10/10\n",
            "1355/1355 [==============================] - 270s 200ms/step - loss: nan - accuracy: 0.8024 - val_loss: nan - val_accuracy: 0.8034\n"
          ],
          "name": "stdout"
        }
      ]
    },
    {
      "cell_type": "code",
      "metadata": {
        "id": "ZgFh6eY-RogJ"
      },
      "source": [
        "loss, accuracy = model.evaluate(X_test,y_test)\n",
        "print(\"\\nLoss: %.2f, Accuracy: %.2f%%\" % (loss, accuracy*100))\n",
        "y_pred = model.predict_classes(X_test)\n",
        "\n",
        "print(\"execution time :  \",finish_time)"
      ],
      "execution_count": null,
      "outputs": []
    },
    {
      "cell_type": "code",
      "metadata": {
        "id": "ieGpV2zYXZwV"
      },
      "source": [
        "#saving model\n",
        "model.save(\"/content/drive/MyDrive/NSL-KDD_results_3LSTM_1Dense_20epoch_1batch_model.h5\")"
      ],
      "execution_count": null,
      "outputs": []
    },
    {
      "cell_type": "code",
      "metadata": {
        "colab": {
          "base_uri": "https://localhost:8080/"
        },
        "id": "5xLvXBh0SyWh",
        "outputId": "b747a4cb-4c3f-4330-c767-dd5f5561e53c"
      },
      "source": [
        "from keras.models import load_model\n",
        "#model = load_model('/content/drive/MyDrive/NSL-KDD_results_SimpleRNN_model.hdf5')\n",
        "loss, accuracy = model.evaluate(X_test, y_test)\n",
        "print(\"\\nLoss: %.2f, Accuracy: %.2f%%\" % (loss, accuracy*100))\n",
        "\n",
        "#print(\"--- %s seconds ---\",finish_time)\n",
        "y_pred = model.predict_classes(X_train)\n",
        "#np.savetxt('/content/drive/MyDrive/NSL-KDD_results_SimpleRNN_predicted.txt', np.transpose([y_test,y_pred]), fmt='%s')"
      ],
      "execution_count": 35,
      "outputs": [
        {
          "output_type": "stream",
          "text": [
            "26539/26539 [==============================] - 155s 6ms/step - loss: nan - accuracy: 0.0816\n",
            "\n",
            "Loss: nan, Accuracy: 8.16%\n"
          ],
          "name": "stdout"
        },
        {
          "output_type": "stream",
          "text": [
            "/usr/local/lib/python3.7/dist-packages/tensorflow/python/keras/engine/sequential.py:450: UserWarning: `model.predict_classes()` is deprecated and will be removed after 2021-01-01. Please use instead:* `np.argmax(model.predict(x), axis=-1)`,   if your model does multi-class classification   (e.g. if it uses a `softmax` last-layer activation).* `(model.predict(x) > 0.5).astype(\"int32\")`,   if your model does binary classification   (e.g. if it uses a `sigmoid` last-layer activation).\n",
            "  warnings.warn('`model.predict_classes()` is deprecated and '\n"
          ],
          "name": "stderr"
        }
      ]
    }
  ]
}