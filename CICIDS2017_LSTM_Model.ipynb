{
  "nbformat": 4,
  "nbformat_minor": 0,
  "metadata": {
    "colab": {
      "name": "CICIDS2017_LSTM_Model",
      "provenance": [],
      "collapsed_sections": [],
      "mount_file_id": "1uleDWIWtAeo5MXZ2cAetU-XyUYyx5b8U",
      "authorship_tag": "ABX9TyMh8yyawSE+SkIJitQDRBdm",
      "include_colab_link": true
    },
    "kernelspec": {
      "display_name": "Python 3",
      "name": "python3"
    }
  },
  "cells": [
    {
      "cell_type": "markdown",
      "metadata": {
        "id": "view-in-github",
        "colab_type": "text"
      },
      "source": [
        "<a href=\"https://colab.research.google.com/github/aminecloud9/PFE/blob/main/CICIDS2017_LSTM_Model.ipynb\" target=\"_parent\"><img src=\"https://colab.research.google.com/assets/colab-badge.svg\" alt=\"Open In Colab\"/></a>"
      ]
    },
    {
      "cell_type": "code",
      "metadata": {
        "id": "zubbW2t0qkI4"
      },
      "source": [
        "%matplotlib inline\n",
        "import matplotlib.pyplot as plt\n",
        "import numpy as np\n",
        "import pandas as pd\n",
        " \n",
        "from __future__ import print_function\n",
        "import numpy as np\n",
        "np.random.seed(1337)  # for reproducibility\n",
        "from keras.preprocessing import sequence\n",
        "from keras.utils import np_utils\n",
        "from keras.models import Sequential\n",
        "from keras.layers import Dense, Dropout, Activation, Embedding\n",
        "from keras.layers import LSTM, SimpleRNN, GRU\n",
        "from keras.datasets import imdb\n",
        "from keras.utils.np_utils import to_categorical\n",
        "from sklearn.metrics import (precision_score, recall_score,\n",
        "                             f1_score, accuracy_score,mean_squared_error,mean_absolute_error)\n",
        "from sklearn import metrics\n",
        "from sklearn.preprocessing import Normalizer,StandardScaler\n",
        "import h5py\n",
        "from keras import callbacks\n",
        "from keras import callbacks\n",
        "from keras.callbacks import ModelCheckpoint, EarlyStopping, ReduceLROnPlateau, CSVLogger"
      ],
      "execution_count": 1,
      "outputs": []
    },
    {
      "cell_type": "markdown",
      "metadata": {
        "id": "stUM1OvK4IWu"
      },
      "source": [
        "Download dataset"
      ]
    },
    {
      "cell_type": "code",
      "metadata": {
        "id": "yGP9ArVErwIu"
      },
      "source": [
        "data=pd.read_csv('/content/drive/MyDrive/globalData.csv')\n",
        "#Labels=pd.read_csv('/content/drive/MyDrive/CICIDS2017_Labels.csv')"
      ],
      "execution_count": 2,
      "outputs": []
    },
    {
      "cell_type": "code",
      "metadata": {
        "id": "8-PCoT6StE8q"
      },
      "source": [
        "print(data.shape)\n",
        "# get number of unique values for each column\n",
        "counts = data.nunique()\n",
        "# record columns to delete\n",
        "to_del = [i for i,v in enumerate(counts) if v == 1]\n",
        "print(to_del)\n",
        "# drop useless columns\n",
        "for i in enumerate(to_del) :\n",
        "  data.drop(data.columns[i[1]], axis=1, inplace=True)\n",
        "print(data.shape)"
      ],
      "execution_count": null,
      "outputs": []
    },
    {
      "cell_type": "code",
      "metadata": {
        "id": "pH8Qv4xMsSBp"
      },
      "source": [
        "del(t)\n",
        "#del(Labels)"
      ],
      "execution_count": null,
      "outputs": []
    },
    {
      "cell_type": "code",
      "metadata": {
        "id": "QXWtg3Ni6RMB"
      },
      "source": [
        "t=data.values[:,-1]\n",
        "t.shape"
      ],
      "execution_count": null,
      "outputs": []
    },
    {
      "cell_type": "code",
      "metadata": {
        "colab": {
          "base_uri": "https://localhost:8080/",
          "height": 456
        },
        "id": "2HmIetn3E1n2",
        "outputId": "0a47da66-0e0b-4b47-82e2-2ac51d7c3e60"
      },
      "source": [
        "pd.get_dummies(t)"
      ],
      "execution_count": 8,
      "outputs": [
        {
          "output_type": "execute_result",
          "data": {
            "text/html": [
              "<div>\n",
              "<style scoped>\n",
              "    .dataframe tbody tr th:only-of-type {\n",
              "        vertical-align: middle;\n",
              "    }\n",
              "\n",
              "    .dataframe tbody tr th {\n",
              "        vertical-align: top;\n",
              "    }\n",
              "\n",
              "    .dataframe thead th {\n",
              "        text-align: right;\n",
              "    }\n",
              "</style>\n",
              "<table border=\"1\" class=\"dataframe\">\n",
              "  <thead>\n",
              "    <tr style=\"text-align: right;\">\n",
              "      <th></th>\n",
              "      <th>BENIGN</th>\n",
              "      <th>Bot</th>\n",
              "      <th>DDoS</th>\n",
              "      <th>DoS GoldenEye</th>\n",
              "      <th>DoS Hulk</th>\n",
              "      <th>DoS Slowhttptest</th>\n",
              "      <th>DoS slowloris</th>\n",
              "      <th>FTP-Patator</th>\n",
              "      <th>Heartbleed</th>\n",
              "      <th>Infiltration</th>\n",
              "      <th>PortScan</th>\n",
              "      <th>SSH-Patator</th>\n",
              "      <th>Web Attack � Brute Force</th>\n",
              "      <th>Web Attack � Sql Injection</th>\n",
              "      <th>Web Attack � XSS</th>\n",
              "    </tr>\n",
              "  </thead>\n",
              "  <tbody>\n",
              "    <tr>\n",
              "      <th>0</th>\n",
              "      <td>1</td>\n",
              "      <td>0</td>\n",
              "      <td>0</td>\n",
              "      <td>0</td>\n",
              "      <td>0</td>\n",
              "      <td>0</td>\n",
              "      <td>0</td>\n",
              "      <td>0</td>\n",
              "      <td>0</td>\n",
              "      <td>0</td>\n",
              "      <td>0</td>\n",
              "      <td>0</td>\n",
              "      <td>0</td>\n",
              "      <td>0</td>\n",
              "      <td>0</td>\n",
              "    </tr>\n",
              "    <tr>\n",
              "      <th>1</th>\n",
              "      <td>1</td>\n",
              "      <td>0</td>\n",
              "      <td>0</td>\n",
              "      <td>0</td>\n",
              "      <td>0</td>\n",
              "      <td>0</td>\n",
              "      <td>0</td>\n",
              "      <td>0</td>\n",
              "      <td>0</td>\n",
              "      <td>0</td>\n",
              "      <td>0</td>\n",
              "      <td>0</td>\n",
              "      <td>0</td>\n",
              "      <td>0</td>\n",
              "      <td>0</td>\n",
              "    </tr>\n",
              "    <tr>\n",
              "      <th>2</th>\n",
              "      <td>1</td>\n",
              "      <td>0</td>\n",
              "      <td>0</td>\n",
              "      <td>0</td>\n",
              "      <td>0</td>\n",
              "      <td>0</td>\n",
              "      <td>0</td>\n",
              "      <td>0</td>\n",
              "      <td>0</td>\n",
              "      <td>0</td>\n",
              "      <td>0</td>\n",
              "      <td>0</td>\n",
              "      <td>0</td>\n",
              "      <td>0</td>\n",
              "      <td>0</td>\n",
              "    </tr>\n",
              "    <tr>\n",
              "      <th>3</th>\n",
              "      <td>1</td>\n",
              "      <td>0</td>\n",
              "      <td>0</td>\n",
              "      <td>0</td>\n",
              "      <td>0</td>\n",
              "      <td>0</td>\n",
              "      <td>0</td>\n",
              "      <td>0</td>\n",
              "      <td>0</td>\n",
              "      <td>0</td>\n",
              "      <td>0</td>\n",
              "      <td>0</td>\n",
              "      <td>0</td>\n",
              "      <td>0</td>\n",
              "      <td>0</td>\n",
              "    </tr>\n",
              "    <tr>\n",
              "      <th>4</th>\n",
              "      <td>1</td>\n",
              "      <td>0</td>\n",
              "      <td>0</td>\n",
              "      <td>0</td>\n",
              "      <td>0</td>\n",
              "      <td>0</td>\n",
              "      <td>0</td>\n",
              "      <td>0</td>\n",
              "      <td>0</td>\n",
              "      <td>0</td>\n",
              "      <td>0</td>\n",
              "      <td>0</td>\n",
              "      <td>0</td>\n",
              "      <td>0</td>\n",
              "      <td>0</td>\n",
              "    </tr>\n",
              "    <tr>\n",
              "      <th>...</th>\n",
              "      <td>...</td>\n",
              "      <td>...</td>\n",
              "      <td>...</td>\n",
              "      <td>...</td>\n",
              "      <td>...</td>\n",
              "      <td>...</td>\n",
              "      <td>...</td>\n",
              "      <td>...</td>\n",
              "      <td>...</td>\n",
              "      <td>...</td>\n",
              "      <td>...</td>\n",
              "      <td>...</td>\n",
              "      <td>...</td>\n",
              "      <td>...</td>\n",
              "      <td>...</td>\n",
              "    </tr>\n",
              "    <tr>\n",
              "      <th>2830738</th>\n",
              "      <td>1</td>\n",
              "      <td>0</td>\n",
              "      <td>0</td>\n",
              "      <td>0</td>\n",
              "      <td>0</td>\n",
              "      <td>0</td>\n",
              "      <td>0</td>\n",
              "      <td>0</td>\n",
              "      <td>0</td>\n",
              "      <td>0</td>\n",
              "      <td>0</td>\n",
              "      <td>0</td>\n",
              "      <td>0</td>\n",
              "      <td>0</td>\n",
              "      <td>0</td>\n",
              "    </tr>\n",
              "    <tr>\n",
              "      <th>2830739</th>\n",
              "      <td>1</td>\n",
              "      <td>0</td>\n",
              "      <td>0</td>\n",
              "      <td>0</td>\n",
              "      <td>0</td>\n",
              "      <td>0</td>\n",
              "      <td>0</td>\n",
              "      <td>0</td>\n",
              "      <td>0</td>\n",
              "      <td>0</td>\n",
              "      <td>0</td>\n",
              "      <td>0</td>\n",
              "      <td>0</td>\n",
              "      <td>0</td>\n",
              "      <td>0</td>\n",
              "    </tr>\n",
              "    <tr>\n",
              "      <th>2830740</th>\n",
              "      <td>1</td>\n",
              "      <td>0</td>\n",
              "      <td>0</td>\n",
              "      <td>0</td>\n",
              "      <td>0</td>\n",
              "      <td>0</td>\n",
              "      <td>0</td>\n",
              "      <td>0</td>\n",
              "      <td>0</td>\n",
              "      <td>0</td>\n",
              "      <td>0</td>\n",
              "      <td>0</td>\n",
              "      <td>0</td>\n",
              "      <td>0</td>\n",
              "      <td>0</td>\n",
              "    </tr>\n",
              "    <tr>\n",
              "      <th>2830741</th>\n",
              "      <td>1</td>\n",
              "      <td>0</td>\n",
              "      <td>0</td>\n",
              "      <td>0</td>\n",
              "      <td>0</td>\n",
              "      <td>0</td>\n",
              "      <td>0</td>\n",
              "      <td>0</td>\n",
              "      <td>0</td>\n",
              "      <td>0</td>\n",
              "      <td>0</td>\n",
              "      <td>0</td>\n",
              "      <td>0</td>\n",
              "      <td>0</td>\n",
              "      <td>0</td>\n",
              "    </tr>\n",
              "    <tr>\n",
              "      <th>2830742</th>\n",
              "      <td>1</td>\n",
              "      <td>0</td>\n",
              "      <td>0</td>\n",
              "      <td>0</td>\n",
              "      <td>0</td>\n",
              "      <td>0</td>\n",
              "      <td>0</td>\n",
              "      <td>0</td>\n",
              "      <td>0</td>\n",
              "      <td>0</td>\n",
              "      <td>0</td>\n",
              "      <td>0</td>\n",
              "      <td>0</td>\n",
              "      <td>0</td>\n",
              "      <td>0</td>\n",
              "    </tr>\n",
              "  </tbody>\n",
              "</table>\n",
              "<p>2830743 rows × 15 columns</p>\n",
              "</div>"
            ],
            "text/plain": [
              "         BENIGN  Bot  ...  Web Attack � Sql Injection  Web Attack � XSS\n",
              "0             1    0  ...                           0                 0\n",
              "1             1    0  ...                           0                 0\n",
              "2             1    0  ...                           0                 0\n",
              "3             1    0  ...                           0                 0\n",
              "4             1    0  ...                           0                 0\n",
              "...         ...  ...  ...                         ...               ...\n",
              "2830738       1    0  ...                           0                 0\n",
              "2830739       1    0  ...                           0                 0\n",
              "2830740       1    0  ...                           0                 0\n",
              "2830741       1    0  ...                           0                 0\n",
              "2830742       1    0  ...                           0                 0\n",
              "\n",
              "[2830743 rows x 15 columns]"
            ]
          },
          "metadata": {
            "tags": []
          },
          "execution_count": 8
        }
      ]
    },
    {
      "cell_type": "markdown",
      "metadata": {
        "id": "BG2uwLAl4cNK"
      },
      "source": [
        "Split dateset"
      ]
    },
    {
      "cell_type": "code",
      "metadata": {
        "id": "j-4aCMAUrn3D"
      },
      "source": [
        "#Import Module\n",
        "from sklearn.model_selection import train_test_split\n",
        "\n",
        "\n",
        "train_X, test_X, train_y, test_y = train_test_split(data.values[:,:-1], data.values[:,-1], \n",
        "                                                     train_size=0.7,\n",
        "                                                     test_size=0.3,\n",
        "                                                     random_state=122)"
      ],
      "execution_count": null,
      "outputs": []
    },
    {
      "cell_type": "code",
      "metadata": {
        "id": "JsRwlMa74-Po"
      },
      "source": [
        "train_X[:,pd.isna(train_X).any()].tolist()"
      ],
      "execution_count": null,
      "outputs": []
    },
    {
      "cell_type": "code",
      "metadata": {
        "id": "ARMnPAW_hwpa"
      },
      "source": [
        "scaler = StandardScaler()\n",
        "train_X= np.nan_to_num(train_X)\n",
        "X_train = scaler.fit_transform(X=train_X)\n",
        "X_test = scaler.fit_transform(test_X)"
      ],
      "execution_count": null,
      "outputs": []
    },
    {
      "cell_type": "code",
      "metadata": {
        "id": "W7FOxrdJ2tye"
      },
      "source": [
        "# reshape input to be [samples, time steps, features]\n",
        "import keras\n",
        "\n",
        "#X_train = np.reshape(data.values[:,:-1].astype('float32'), (data.values[:,:-1].shape[0], 1, data.values[:,:-1].shape[1]))\n",
        "X_train = np.reshape(train_X.astype('float32'), (train_X.shape[0], 1, train_X.shape[1]))\n",
        "X_test = np.reshape(test_X.astype('float32'), (test_X.shape[0], 1, test_X.shape[1]))\n",
        "#y_train = keras.utils.to_categorical(pd.factorize(data.values[:,77])[0],15)\n",
        "train_y = pd.factorize(train_y)\n",
        "y_train = keras.utils.to_categorical(train_y[0],7)\n",
        "y_train = y_train.astype('int')\n",
        "y_train = np.reshape(y_train,(y_train.shape[0],1,y_train.shape[1]))\n",
        "test_y = pd.factorize(test_y)\n",
        "y_test = keras.utils.to_categorical(test_y[0],7)\n",
        "y_test = y_test.astype('int')\n",
        "y_test = np.reshape(y_test,(y_test.shape[0],1,y_test.shape[1]))"
      ],
      "execution_count": null,
      "outputs": []
    },
    {
      "cell_type": "code",
      "metadata": {
        "id": "Bmi9FeVpM7z8"
      },
      "source": [
        "import time\n",
        "data_dim = X_train.shape[2]\n",
        "timesteps = 1\n",
        "num_classes = y_train.shape[2]\n",
        "batch_size = 1\n",
        "\n",
        "model = Sequential()\n",
        "model.add(LSTM(50, return_sequences=True, stateful=False, batch_input_shape=(batch_size, timesteps, data_dim)))\n",
        "model.add(Dropout(0.1))\n",
        "model.add(LSTM(50, return_sequences=True, stateful=False))\n",
        "model.add(Dropout(0.1))\n",
        "model.add(LSTM(50, stateful=True))\n",
        "model.add(Dropout(0.1))\n",
        "model.add(Dense(num_classes, activation='softmax'))\n",
        "model.compile(loss='binary_crossentropy', optimizer='adam', metrics=['accuracy'])\n",
        "\n",
        "\n",
        "start = time.time()\n",
        "\n",
        "start_time = time.time()\n",
        "model.fit(X_train, y_train,batch_size=batch_size, epochs=2, shuffle=False)\n",
        "finish_time = time.time() - start_time\n",
        "model.save(\"/content/drive/My Drive/final_model_NSL-KDD_brute_Multiclass.h5\")"
      ],
      "execution_count": null,
      "outputs": []
    },
    {
      "cell_type": "code",
      "metadata": {
        "colab": {
          "base_uri": "https://localhost:8080/"
        },
        "id": "Z2X1EbkTFiow",
        "outputId": "6467fec1-26ed-448b-b7bd-abd3c402be51"
      },
      "source": [
        "import time\n",
        "#train_object_num=len(train_data)\n",
        "#print(test[0])\n",
        "#model training\n",
        "batch_size = 512\n",
        "model=Sequential()\n",
        "model.add(LSTM(32,input_dim=X_train.shape[2],return_sequences=True,kernel_initializer='uniform',activation='relu'))\n",
        "model.add(LSTM(32,kernel_initializer='uniform',return_sequences=True,activation='relu'))\n",
        "#model.add(LSTM(128,kernel_initializer='uniform',activation='relu'))\n",
        "#model.add(Dense(256,activation='relu'))\n",
        "#model.add(Dense(128,activation='relu'))\n",
        "model.add(Dense(64,activation='relu'))\n",
        "#model.add(Dense(16,activation='relu'))\n",
        "model.add(Dense(y_train.shape[2],activation='sigmoid'))\n",
        "model.compile(loss='binary_crossentropy',optimizer='NADAM',metrics=['accuracy'])\n",
        "model.summary()\n",
        "start_time = time.time()\n",
        "history = model.fit(X_train,y_train,validation_split=.3,epochs=100,batch_size=batch_size,verbose=1)\n",
        "finish_time = time.time() - start_time\n",
        "model.save(\"/content/drive/My Drive/model_CICIDS_brute_data_valsplit.3.h5\")"
      ],
      "execution_count": null,
      "outputs": [
        {
          "output_type": "stream",
          "text": [
            "Model: \"sequential_9\"\n",
            "_________________________________________________________________\n",
            "Layer (type)                 Output Shape              Param #   \n",
            "=================================================================\n",
            "lstm_9 (LSTM)                (None, None, 32)          13056     \n",
            "_________________________________________________________________\n",
            "lstm_10 (LSTM)               (None, None, 32)          8320      \n",
            "_________________________________________________________________\n",
            "dense_9 (Dense)              (None, None, 64)          2112      \n",
            "_________________________________________________________________\n",
            "dense_10 (Dense)             (None, None, 7)           455       \n",
            "=================================================================\n",
            "Total params: 23,943\n",
            "Trainable params: 23,943\n",
            "Non-trainable params: 0\n",
            "_________________________________________________________________\n",
            "Epoch 1/100\n",
            "2710/2710 [==============================] - 26s 8ms/step - loss: nan - accuracy: 0.7962 - val_loss: nan - val_accuracy: 0.8034\n",
            "Epoch 2/100\n",
            "2710/2710 [==============================] - 23s 8ms/step - loss: nan - accuracy: 0.8033 - val_loss: nan - val_accuracy: 0.8034\n",
            "Epoch 3/100\n",
            "2710/2710 [==============================] - 23s 8ms/step - loss: nan - accuracy: 0.8022 - val_loss: nan - val_accuracy: 0.8034\n",
            "Epoch 4/100\n",
            "2710/2710 [==============================] - 23s 8ms/step - loss: nan - accuracy: 0.8036 - val_loss: nan - val_accuracy: 0.8034\n",
            "Epoch 5/100\n",
            "2710/2710 [==============================] - 24s 9ms/step - loss: nan - accuracy: 0.8027 - val_loss: nan - val_accuracy: 0.8034\n",
            "Epoch 6/100\n",
            "2710/2710 [==============================] - 23s 9ms/step - loss: nan - accuracy: 0.8029 - val_loss: nan - val_accuracy: 0.8034\n",
            "Epoch 7/100\n",
            "2710/2710 [==============================] - 23s 8ms/step - loss: nan - accuracy: 0.8026 - val_loss: nan - val_accuracy: 0.8034\n",
            "Epoch 8/100\n",
            "2710/2710 [==============================] - 23s 8ms/step - loss: nan - accuracy: 0.8026 - val_loss: nan - val_accuracy: 0.8034\n",
            "Epoch 9/100\n",
            "2710/2710 [==============================] - 23s 9ms/step - loss: nan - accuracy: 0.8031 - val_loss: nan - val_accuracy: 0.8034\n",
            "Epoch 10/100\n",
            "2710/2710 [==============================] - 23s 8ms/step - loss: nan - accuracy: 0.8032 - val_loss: nan - val_accuracy: 0.8034\n",
            "Epoch 11/100\n",
            "2710/2710 [==============================] - 24s 9ms/step - loss: nan - accuracy: 0.8030 - val_loss: nan - val_accuracy: 0.8034\n",
            "Epoch 12/100\n",
            "2710/2710 [==============================] - 24s 9ms/step - loss: nan - accuracy: 0.8029 - val_loss: nan - val_accuracy: 0.8034\n",
            "Epoch 13/100\n",
            "2710/2710 [==============================] - 22s 8ms/step - loss: nan - accuracy: 0.8033 - val_loss: nan - val_accuracy: 0.8034\n",
            "Epoch 14/100\n",
            "2710/2710 [==============================] - 23s 9ms/step - loss: nan - accuracy: 0.8027 - val_loss: nan - val_accuracy: 0.8034\n",
            "Epoch 15/100\n",
            "2710/2710 [==============================] - 22s 8ms/step - loss: nan - accuracy: 0.8035 - val_loss: nan - val_accuracy: 0.8034\n",
            "Epoch 16/100\n",
            "2710/2710 [==============================] - 24s 9ms/step - loss: nan - accuracy: 0.8022 - val_loss: nan - val_accuracy: 0.8034\n",
            "Epoch 17/100\n",
            "2710/2710 [==============================] - 23s 8ms/step - loss: nan - accuracy: 0.8026 - val_loss: nan - val_accuracy: 0.8034\n",
            "Epoch 18/100\n",
            "2710/2710 [==============================] - 24s 9ms/step - loss: nan - accuracy: 0.8028 - val_loss: nan - val_accuracy: 0.8034\n",
            "Epoch 19/100\n",
            "2710/2710 [==============================] - 24s 9ms/step - loss: nan - accuracy: 0.8027 - val_loss: nan - val_accuracy: 0.8034\n",
            "Epoch 20/100\n",
            "2710/2710 [==============================] - 28s 10ms/step - loss: nan - accuracy: 0.8032 - val_loss: nan - val_accuracy: 0.8034\n",
            "Epoch 21/100\n",
            "2710/2710 [==============================] - 23s 8ms/step - loss: nan - accuracy: 0.8025 - val_loss: nan - val_accuracy: 0.8034\n",
            "Epoch 22/100\n",
            "2710/2710 [==============================] - 23s 8ms/step - loss: nan - accuracy: 0.8028 - val_loss: nan - val_accuracy: 0.8034\n",
            "Epoch 23/100\n",
            "2710/2710 [==============================] - 23s 8ms/step - loss: nan - accuracy: 0.8024 - val_loss: nan - val_accuracy: 0.8034\n",
            "Epoch 24/100\n",
            "2710/2710 [==============================] - 23s 8ms/step - loss: nan - accuracy: 0.8024 - val_loss: nan - val_accuracy: 0.8034\n",
            "Epoch 25/100\n",
            "2710/2710 [==============================] - 24s 9ms/step - loss: nan - accuracy: 0.8028 - val_loss: nan - val_accuracy: 0.8034\n",
            "Epoch 26/100\n",
            "2710/2710 [==============================] - 22s 8ms/step - loss: nan - accuracy: 0.8026 - val_loss: nan - val_accuracy: 0.8034\n",
            "Epoch 27/100\n",
            "2710/2710 [==============================] - 24s 9ms/step - loss: nan - accuracy: 0.8025 - val_loss: nan - val_accuracy: 0.8034\n",
            "Epoch 28/100\n",
            "2710/2710 [==============================] - 23s 8ms/step - loss: nan - accuracy: 0.8027 - val_loss: nan - val_accuracy: 0.8034\n",
            "Epoch 29/100\n",
            "2710/2710 [==============================] - 24s 9ms/step - loss: nan - accuracy: 0.8033 - val_loss: nan - val_accuracy: 0.8034\n",
            "Epoch 30/100\n",
            "2710/2710 [==============================] - 23s 8ms/step - loss: nan - accuracy: 0.8033 - val_loss: nan - val_accuracy: 0.8034\n",
            "Epoch 31/100\n",
            "2710/2710 [==============================] - 23s 9ms/step - loss: nan - accuracy: 0.8025 - val_loss: nan - val_accuracy: 0.8034\n",
            "Epoch 32/100\n",
            "2710/2710 [==============================] - 23s 9ms/step - loss: nan - accuracy: 0.8030 - val_loss: nan - val_accuracy: 0.8034\n",
            "Epoch 33/100\n",
            "2710/2710 [==============================] - 23s 9ms/step - loss: nan - accuracy: 0.8026 - val_loss: nan - val_accuracy: 0.8034\n",
            "Epoch 34/100\n",
            "2710/2710 [==============================] - 23s 9ms/step - loss: nan - accuracy: 0.8027 - val_loss: nan - val_accuracy: 0.8034\n",
            "Epoch 35/100\n",
            "2710/2710 [==============================] - 22s 8ms/step - loss: nan - accuracy: 0.8031 - val_loss: nan - val_accuracy: 0.8034\n",
            "Epoch 36/100\n",
            "2710/2710 [==============================] - 23s 8ms/step - loss: nan - accuracy: 0.8030 - val_loss: nan - val_accuracy: 0.8034\n",
            "Epoch 37/100\n",
            "2710/2710 [==============================] - 22s 8ms/step - loss: nan - accuracy: 0.8031 - val_loss: nan - val_accuracy: 0.8034\n",
            "Epoch 38/100\n",
            "2710/2710 [==============================] - 23s 8ms/step - loss: nan - accuracy: 0.8027 - val_loss: nan - val_accuracy: 0.8034\n",
            "Epoch 39/100\n",
            "2710/2710 [==============================] - 24s 9ms/step - loss: nan - accuracy: 0.8028 - val_loss: nan - val_accuracy: 0.8034\n",
            "Epoch 40/100\n",
            "2710/2710 [==============================] - 22s 8ms/step - loss: nan - accuracy: 0.8031 - val_loss: nan - val_accuracy: 0.8034\n",
            "Epoch 41/100\n",
            "2710/2710 [==============================] - 24s 9ms/step - loss: nan - accuracy: 0.8030 - val_loss: nan - val_accuracy: 0.8034\n",
            "Epoch 42/100\n",
            "2710/2710 [==============================] - 23s 9ms/step - loss: nan - accuracy: 0.8024 - val_loss: nan - val_accuracy: 0.8034\n",
            "Epoch 43/100\n",
            "2710/2710 [==============================] - 24s 9ms/step - loss: nan - accuracy: 0.8028 - val_loss: nan - val_accuracy: 0.8034\n",
            "Epoch 44/100\n",
            "2710/2710 [==============================] - 22s 8ms/step - loss: nan - accuracy: 0.8025 - val_loss: nan - val_accuracy: 0.8034\n",
            "Epoch 45/100\n",
            "2710/2710 [==============================] - 24s 9ms/step - loss: nan - accuracy: 0.8024 - val_loss: nan - val_accuracy: 0.8034\n",
            "Epoch 46/100\n",
            "2710/2710 [==============================] - 31s 11ms/step - loss: nan - accuracy: 0.8024 - val_loss: nan - val_accuracy: 0.8034\n",
            "Epoch 47/100\n",
            "2710/2710 [==============================] - 23s 8ms/step - loss: nan - accuracy: 0.8031 - val_loss: nan - val_accuracy: 0.8034\n",
            "Epoch 48/100\n",
            "2710/2710 [==============================] - 24s 9ms/step - loss: nan - accuracy: 0.8029 - val_loss: nan - val_accuracy: 0.8034\n",
            "Epoch 49/100\n",
            "2710/2710 [==============================] - 23s 8ms/step - loss: nan - accuracy: 0.8026 - val_loss: nan - val_accuracy: 0.8034\n",
            "Epoch 50/100\n",
            "2710/2710 [==============================] - 24s 9ms/step - loss: nan - accuracy: 0.8032 - val_loss: nan - val_accuracy: 0.8034\n",
            "Epoch 51/100\n",
            "2710/2710 [==============================] - 23s 8ms/step - loss: nan - accuracy: 0.8029 - val_loss: nan - val_accuracy: 0.8034\n",
            "Epoch 52/100\n",
            "2710/2710 [==============================] - 24s 9ms/step - loss: nan - accuracy: 0.8034 - val_loss: nan - val_accuracy: 0.8034\n",
            "Epoch 53/100\n",
            "2710/2710 [==============================] - 24s 9ms/step - loss: nan - accuracy: 0.8030 - val_loss: nan - val_accuracy: 0.8034\n",
            "Epoch 54/100\n",
            "2710/2710 [==============================] - 23s 9ms/step - loss: nan - accuracy: 0.8027 - val_loss: nan - val_accuracy: 0.8034\n",
            "Epoch 55/100\n",
            "2710/2710 [==============================] - 24s 9ms/step - loss: nan - accuracy: 0.8031 - val_loss: nan - val_accuracy: 0.8034\n",
            "Epoch 56/100\n",
            "2710/2710 [==============================] - 23s 8ms/step - loss: nan - accuracy: 0.8025 - val_loss: nan - val_accuracy: 0.8034\n",
            "Epoch 57/100\n",
            "2710/2710 [==============================] - 24s 9ms/step - loss: nan - accuracy: 0.8023 - val_loss: nan - val_accuracy: 0.8034\n",
            "Epoch 58/100\n",
            "2710/2710 [==============================] - 23s 9ms/step - loss: nan - accuracy: 0.8030 - val_loss: nan - val_accuracy: 0.8034\n",
            "Epoch 59/100\n",
            "2710/2710 [==============================] - 24s 9ms/step - loss: nan - accuracy: 0.8023 - val_loss: nan - val_accuracy: 0.8034\n",
            "Epoch 60/100\n",
            "2710/2710 [==============================] - 23s 9ms/step - loss: nan - accuracy: 0.8033 - val_loss: nan - val_accuracy: 0.8034\n",
            "Epoch 61/100\n",
            "2710/2710 [==============================] - 24s 9ms/step - loss: nan - accuracy: 0.8031 - val_loss: nan - val_accuracy: 0.8034\n",
            "Epoch 62/100\n",
            "2710/2710 [==============================] - 24s 9ms/step - loss: nan - accuracy: 0.8025 - val_loss: nan - val_accuracy: 0.8034\n",
            "Epoch 63/100\n",
            "2710/2710 [==============================] - 23s 9ms/step - loss: nan - accuracy: 0.8031 - val_loss: nan - val_accuracy: 0.8034\n",
            "Epoch 64/100\n",
            "2710/2710 [==============================] - 24s 9ms/step - loss: nan - accuracy: 0.8023 - val_loss: nan - val_accuracy: 0.8034\n",
            "Epoch 65/100\n",
            "2710/2710 [==============================] - 23s 9ms/step - loss: nan - accuracy: 0.8025 - val_loss: nan - val_accuracy: 0.8034\n",
            "Epoch 66/100\n",
            "2710/2710 [==============================] - 24s 9ms/step - loss: nan - accuracy: 0.8027 - val_loss: nan - val_accuracy: 0.8034\n",
            "Epoch 67/100\n",
            "2710/2710 [==============================] - 23s 9ms/step - loss: nan - accuracy: 0.8024 - val_loss: nan - val_accuracy: 0.8034\n",
            "Epoch 68/100\n",
            "2710/2710 [==============================] - 24s 9ms/step - loss: nan - accuracy: 0.8026 - val_loss: nan - val_accuracy: 0.8034\n",
            "Epoch 69/100\n",
            "2710/2710 [==============================] - 24s 9ms/step - loss: nan - accuracy: 0.8029 - val_loss: nan - val_accuracy: 0.8034\n",
            "Epoch 70/100\n",
            "2710/2710 [==============================] - 24s 9ms/step - loss: nan - accuracy: 0.8028 - val_loss: nan - val_accuracy: 0.8034\n",
            "Epoch 71/100\n",
            "2710/2710 [==============================] - 30s 11ms/step - loss: nan - accuracy: 0.8027 - val_loss: nan - val_accuracy: 0.8034\n",
            "Epoch 72/100\n",
            "2710/2710 [==============================] - 27s 10ms/step - loss: nan - accuracy: 0.8028 - val_loss: nan - val_accuracy: 0.8034\n",
            "Epoch 73/100\n",
            "2710/2710 [==============================] - 25s 9ms/step - loss: nan - accuracy: 0.8021 - val_loss: nan - val_accuracy: 0.8034\n",
            "Epoch 74/100\n",
            "2710/2710 [==============================] - 24s 9ms/step - loss: nan - accuracy: 0.8026 - val_loss: nan - val_accuracy: 0.8034\n",
            "Epoch 75/100\n",
            "2710/2710 [==============================] - 24s 9ms/step - loss: nan - accuracy: 0.8029 - val_loss: nan - val_accuracy: 0.8034\n",
            "Epoch 76/100\n",
            "2710/2710 [==============================] - 24s 9ms/step - loss: nan - accuracy: 0.8028 - val_loss: nan - val_accuracy: 0.8034\n",
            "Epoch 77/100\n",
            "2710/2710 [==============================] - 24s 9ms/step - loss: nan - accuracy: 0.8030 - val_loss: nan - val_accuracy: 0.8034\n",
            "Epoch 78/100\n",
            "2710/2710 [==============================] - 25s 9ms/step - loss: nan - accuracy: 0.8024 - val_loss: nan - val_accuracy: 0.8034\n",
            "Epoch 79/100\n",
            "2710/2710 [==============================] - 26s 9ms/step - loss: nan - accuracy: 0.8027 - val_loss: nan - val_accuracy: 0.8034\n",
            "Epoch 80/100\n",
            "2710/2710 [==============================] - 25s 9ms/step - loss: nan - accuracy: 0.8030 - val_loss: nan - val_accuracy: 0.8034\n",
            "Epoch 81/100\n",
            "2710/2710 [==============================] - 23s 9ms/step - loss: nan - accuracy: 0.8035 - val_loss: nan - val_accuracy: 0.8034\n",
            "Epoch 82/100\n",
            "2710/2710 [==============================] - 25s 9ms/step - loss: nan - accuracy: 0.8020 - val_loss: nan - val_accuracy: 0.8034\n",
            "Epoch 83/100\n",
            "2710/2710 [==============================] - 24s 9ms/step - loss: nan - accuracy: 0.8027 - val_loss: nan - val_accuracy: 0.8034\n",
            "Epoch 84/100\n",
            "2710/2710 [==============================] - 24s 9ms/step - loss: nan - accuracy: 0.8030 - val_loss: nan - val_accuracy: 0.8034\n",
            "Epoch 85/100\n",
            "2710/2710 [==============================] - 24s 9ms/step - loss: nan - accuracy: 0.8030 - val_loss: nan - val_accuracy: 0.8034\n",
            "Epoch 86/100\n",
            "2710/2710 [==============================] - 24s 9ms/step - loss: nan - accuracy: 0.8029 - val_loss: nan - val_accuracy: 0.8034\n",
            "Epoch 87/100\n",
            "2710/2710 [==============================] - 24s 9ms/step - loss: nan - accuracy: 0.8028 - val_loss: nan - val_accuracy: 0.8034\n",
            "Epoch 88/100\n",
            "2710/2710 [==============================] - 24s 9ms/step - loss: nan - accuracy: 0.8031 - val_loss: nan - val_accuracy: 0.8034\n",
            "Epoch 89/100\n",
            "2710/2710 [==============================] - 25s 9ms/step - loss: nan - accuracy: 0.8024 - val_loss: nan - val_accuracy: 0.8034\n",
            "Epoch 90/100\n",
            "2710/2710 [==============================] - 24s 9ms/step - loss: nan - accuracy: 0.8031 - val_loss: nan - val_accuracy: 0.8034\n",
            "Epoch 91/100\n",
            "2710/2710 [==============================] - 25s 9ms/step - loss: nan - accuracy: 0.8027 - val_loss: nan - val_accuracy: 0.8034\n",
            "Epoch 92/100\n",
            "2710/2710 [==============================] - 25s 9ms/step - loss: nan - accuracy: 0.8027 - val_loss: nan - val_accuracy: 0.8034\n",
            "Epoch 93/100\n",
            "2710/2710 [==============================] - 25s 9ms/step - loss: nan - accuracy: 0.8029 - val_loss: nan - val_accuracy: 0.8034\n",
            "Epoch 94/100\n",
            "2710/2710 [==============================] - 24s 9ms/step - loss: nan - accuracy: 0.8025 - val_loss: nan - val_accuracy: 0.8034\n",
            "Epoch 95/100\n",
            "2710/2710 [==============================] - 25s 9ms/step - loss: nan - accuracy: 0.8028 - val_loss: nan - val_accuracy: 0.8034\n",
            "Epoch 96/100\n",
            "2710/2710 [==============================] - 24s 9ms/step - loss: nan - accuracy: 0.8026 - val_loss: nan - val_accuracy: 0.8034\n",
            "Epoch 97/100\n",
            "2710/2710 [==============================] - 25s 9ms/step - loss: nan - accuracy: 0.8029 - val_loss: nan - val_accuracy: 0.8034\n",
            "Epoch 98/100\n",
            "2710/2710 [==============================] - 24s 9ms/step - loss: nan - accuracy: 0.8025 - val_loss: nan - val_accuracy: 0.8034\n",
            "Epoch 99/100\n",
            "2710/2710 [==============================] - 26s 9ms/step - loss: nan - accuracy: 0.8022 - val_loss: nan - val_accuracy: 0.8034\n",
            "Epoch 100/100\n",
            "2710/2710 [==============================] - 24s 9ms/step - loss: nan - accuracy: 0.8026 - val_loss: nan - val_accuracy: 0.8034\n"
          ],
          "name": "stdout"
        }
      ]
    },
    {
      "cell_type": "code",
      "metadata": {
        "colab": {
          "base_uri": "https://localhost:8080/"
        },
        "id": "ZgFh6eY-RogJ",
        "outputId": "47c20a18-cbd2-483a-faa2-745cf3aa672b"
      },
      "source": [
        "loss, accuracy = model.evaluate(X_train,y_train)\n",
        "print(\"\\nLoss: %.2f, Accuracy: %.2f%%\" % (loss, accuracy*100))\n",
        "y_pred = model.predict_classes(X_test)\n",
        "\n",
        "print(\"execution time :  \",finish_time)"
      ],
      "execution_count": null,
      "outputs": [
        {
          "output_type": "stream",
          "text": [
            "61923/61923 [==============================] - 95s 2ms/step - loss: nan - accuracy: 0.8030\n",
            "\n",
            "Loss: nan, Accuracy: 80.30%\n"
          ],
          "name": "stdout"
        },
        {
          "output_type": "stream",
          "text": [
            "/usr/local/lib/python3.6/dist-packages/tensorflow/python/keras/engine/sequential.py:450: UserWarning: `model.predict_classes()` is deprecated and will be removed after 2021-01-01. Please use instead:* `np.argmax(model.predict(x), axis=-1)`,   if your model does multi-class classification   (e.g. if it uses a `softmax` last-layer activation).* `(model.predict(x) > 0.5).astype(\"int32\")`,   if your model does binary classification   (e.g. if it uses a `sigmoid` last-layer activation).\n",
            "  warnings.warn('`model.predict_classes()` is deprecated and '\n"
          ],
          "name": "stderr"
        },
        {
          "output_type": "stream",
          "text": [
            "execution time :   2384.4020709991455\n"
          ],
          "name": "stdout"
        }
      ]
    },
    {
      "cell_type": "code",
      "metadata": {
        "id": "bBLLxMkV25MY"
      },
      "source": [
        "y_test"
      ],
      "execution_count": null,
      "outputs": []
    },
    {
      "cell_type": "code",
      "metadata": {
        "id": "c98fMqo4yf5b"
      },
      "source": [
        "y_pred"
      ],
      "execution_count": null,
      "outputs": []
    },
    {
      "cell_type": "code",
      "metadata": {
        "id": "5vn7ng4MLMOb"
      },
      "source": [
        "from sklearn.metrics import accuracy_score, f1_score, precision_score, recall_score, classification_report, confusion_matrix,  roc_auc_score, roc_curve\n",
        "import sklearn.metrics as metrics\n",
        "model.compile(loss='categorical_crossentropy',optimizer='adam',metrics=['accuracy'])\n",
        "score = model.evaluate(X_test, y_test, batch_size)\n",
        "y_pred = model.predict(X_test, batch_size= batch_size)\n",
        "y_pred = y_pred.astype('int')\n",
        "#y_pred = [np.round(x) for x in y_pred]\n",
        "#y_pred = np.array(y_pred)\n",
        "y2 = np.array(test_y[0])\n",
        "\n",
        "#print(y2)\n",
        "print(classification_report(y_test,y_pred,\"multiclass\"))\n",
        "cm = confusion_matrix(y2.argmax(axis=1), y_pred.argmax(axis=1))\n",
        "print(cm)\n",
        "\n",
        "\n",
        "probs = model.predict_proba(X_test,batch_size=batch_size)\n",
        "#y_preds = np.transpose([pred[:, 1] for pred in probs])\n",
        "#y_preds=y_preds.reshape(1,-1)\n",
        "fpr, tpr, threshold = metrics.roc_auc_score(y_score==np.transpose(y_test),y_true= np.transpose(probs),multi_class='ovo')\n",
        "roc_auc = metrics.auc(fpr, tpr)\n",
        "\n",
        "# method I: plt\n",
        "import matplotlib.pyplot as plt\n",
        "plt.title('Receiver Operating Characteristic')\n",
        "plt.plot(fpr, tpr, 'b', label = 'AUC = %0.2f' % roc_auc)\n",
        "plt.legend(loc = 'lower right')\n",
        "plt.plot([0, 1], [0, 1],'r--')\n",
        "plt.xlim([0, 1])\n",
        "plt.ylim([0, 1])\n",
        "plt.ylabel('True Positive Rate')\n",
        "plt.xlabel('False Positive Rate')\n",
        "plt.show()"
      ],
      "execution_count": null,
      "outputs": []
    },
    {
      "cell_type": "code",
      "metadata": {
        "colab": {
          "base_uri": "https://localhost:8080/",
          "height": 952
        },
        "id": "bq6QuCZu2BgD",
        "outputId": "5d4b1d8f-9ccf-4072-b0aa-8811778c6ea4"
      },
      "source": [
        "# try using different optimizers and different optimizer configs\n",
        "model.compile(loss='categorical_crossentropy',optimizer='adam',metrics=['accuracy'])\n",
        "#checkpointer = callbacks.ModelCheckpoint(filepath=\"kddresults/lstm1layer/checkpoint-{epoch:02d}.hdf5\", verbose=1, save_best_only=True, monitor='val_acc',mode='max')\n",
        "#csv_logger = CSVLogger('training_set.csv',separator=',', append=False)\n",
        "start_time = time.time()\n",
        "model.fit(X_train, y_train, batch_size=batch_size, epochs=20, validation_split=.2)#,callbacks=[checkpointer,csv_logger]\n",
        "finish_time = time.time() - start_time\n"
      ],
      "execution_count": null,
      "outputs": [
        {
          "output_type": "stream",
          "text": [
            "Epoch 1/20\n"
          ],
          "name": "stdout"
        },
        {
          "output_type": "error",
          "ename": "ValueError",
          "evalue": "ignored",
          "traceback": [
            "\u001b[0;31m---------------------------------------------------------------------------\u001b[0m",
            "\u001b[0;31mValueError\u001b[0m                                Traceback (most recent call last)",
            "\u001b[0;32m<ipython-input-48-2fb383a1c88a>\u001b[0m in \u001b[0;36m<module>\u001b[0;34m()\u001b[0m\n\u001b[1;32m      4\u001b[0m \u001b[0;31m#csv_logger = CSVLogger('training_set.csv',separator=',', append=False)\u001b[0m\u001b[0;34m\u001b[0m\u001b[0;34m\u001b[0m\u001b[0;34m\u001b[0m\u001b[0m\n\u001b[1;32m      5\u001b[0m \u001b[0mstart_time\u001b[0m \u001b[0;34m=\u001b[0m \u001b[0mtime\u001b[0m\u001b[0;34m.\u001b[0m\u001b[0mtime\u001b[0m\u001b[0;34m(\u001b[0m\u001b[0;34m)\u001b[0m\u001b[0;34m\u001b[0m\u001b[0;34m\u001b[0m\u001b[0m\n\u001b[0;32m----> 6\u001b[0;31m \u001b[0mmodel\u001b[0m\u001b[0;34m.\u001b[0m\u001b[0mfit\u001b[0m\u001b[0;34m(\u001b[0m\u001b[0mX_train\u001b[0m\u001b[0;34m,\u001b[0m \u001b[0my_train\u001b[0m\u001b[0;34m,\u001b[0m \u001b[0mbatch_size\u001b[0m\u001b[0;34m=\u001b[0m\u001b[0mbatch_size\u001b[0m\u001b[0;34m,\u001b[0m \u001b[0mepochs\u001b[0m\u001b[0;34m=\u001b[0m\u001b[0;36m20\u001b[0m\u001b[0;34m,\u001b[0m \u001b[0mvalidation_split\u001b[0m\u001b[0;34m=\u001b[0m\u001b[0;36m.2\u001b[0m\u001b[0;34m)\u001b[0m\u001b[0;31m#,callbacks=[checkpointer,csv_logger]\u001b[0m\u001b[0;34m\u001b[0m\u001b[0;34m\u001b[0m\u001b[0m\n\u001b[0m\u001b[1;32m      7\u001b[0m \u001b[0mfinish_time\u001b[0m \u001b[0;34m=\u001b[0m \u001b[0mtime\u001b[0m\u001b[0;34m.\u001b[0m\u001b[0mtime\u001b[0m\u001b[0;34m(\u001b[0m\u001b[0;34m)\u001b[0m \u001b[0;34m-\u001b[0m \u001b[0mstart_time\u001b[0m\u001b[0;34m\u001b[0m\u001b[0;34m\u001b[0m\u001b[0m\n",
            "\u001b[0;32m/usr/local/lib/python3.6/dist-packages/tensorflow/python/keras/engine/training.py\u001b[0m in \u001b[0;36mfit\u001b[0;34m(self, x, y, batch_size, epochs, verbose, callbacks, validation_split, validation_data, shuffle, class_weight, sample_weight, initial_epoch, steps_per_epoch, validation_steps, validation_batch_size, validation_freq, max_queue_size, workers, use_multiprocessing)\u001b[0m\n\u001b[1;32m   1098\u001b[0m                 _r=1):\n\u001b[1;32m   1099\u001b[0m               \u001b[0mcallbacks\u001b[0m\u001b[0;34m.\u001b[0m\u001b[0mon_train_batch_begin\u001b[0m\u001b[0;34m(\u001b[0m\u001b[0mstep\u001b[0m\u001b[0;34m)\u001b[0m\u001b[0;34m\u001b[0m\u001b[0;34m\u001b[0m\u001b[0m\n\u001b[0;32m-> 1100\u001b[0;31m               \u001b[0mtmp_logs\u001b[0m \u001b[0;34m=\u001b[0m \u001b[0mself\u001b[0m\u001b[0;34m.\u001b[0m\u001b[0mtrain_function\u001b[0m\u001b[0;34m(\u001b[0m\u001b[0miterator\u001b[0m\u001b[0;34m)\u001b[0m\u001b[0;34m\u001b[0m\u001b[0;34m\u001b[0m\u001b[0m\n\u001b[0m\u001b[1;32m   1101\u001b[0m               \u001b[0;32mif\u001b[0m \u001b[0mdata_handler\u001b[0m\u001b[0;34m.\u001b[0m\u001b[0mshould_sync\u001b[0m\u001b[0;34m:\u001b[0m\u001b[0;34m\u001b[0m\u001b[0;34m\u001b[0m\u001b[0m\n\u001b[1;32m   1102\u001b[0m                 \u001b[0mcontext\u001b[0m\u001b[0;34m.\u001b[0m\u001b[0masync_wait\u001b[0m\u001b[0;34m(\u001b[0m\u001b[0;34m)\u001b[0m\u001b[0;34m\u001b[0m\u001b[0;34m\u001b[0m\u001b[0m\n",
            "\u001b[0;32m/usr/local/lib/python3.6/dist-packages/tensorflow/python/eager/def_function.py\u001b[0m in \u001b[0;36m__call__\u001b[0;34m(self, *args, **kwds)\u001b[0m\n\u001b[1;32m    826\u001b[0m     \u001b[0mtracing_count\u001b[0m \u001b[0;34m=\u001b[0m \u001b[0mself\u001b[0m\u001b[0;34m.\u001b[0m\u001b[0mexperimental_get_tracing_count\u001b[0m\u001b[0;34m(\u001b[0m\u001b[0;34m)\u001b[0m\u001b[0;34m\u001b[0m\u001b[0;34m\u001b[0m\u001b[0m\n\u001b[1;32m    827\u001b[0m     \u001b[0;32mwith\u001b[0m \u001b[0mtrace\u001b[0m\u001b[0;34m.\u001b[0m\u001b[0mTrace\u001b[0m\u001b[0;34m(\u001b[0m\u001b[0mself\u001b[0m\u001b[0;34m.\u001b[0m\u001b[0m_name\u001b[0m\u001b[0;34m)\u001b[0m \u001b[0;32mas\u001b[0m \u001b[0mtm\u001b[0m\u001b[0;34m:\u001b[0m\u001b[0;34m\u001b[0m\u001b[0;34m\u001b[0m\u001b[0m\n\u001b[0;32m--> 828\u001b[0;31m       \u001b[0mresult\u001b[0m \u001b[0;34m=\u001b[0m \u001b[0mself\u001b[0m\u001b[0;34m.\u001b[0m\u001b[0m_call\u001b[0m\u001b[0;34m(\u001b[0m\u001b[0;34m*\u001b[0m\u001b[0margs\u001b[0m\u001b[0;34m,\u001b[0m \u001b[0;34m**\u001b[0m\u001b[0mkwds\u001b[0m\u001b[0;34m)\u001b[0m\u001b[0;34m\u001b[0m\u001b[0;34m\u001b[0m\u001b[0m\n\u001b[0m\u001b[1;32m    829\u001b[0m       \u001b[0mcompiler\u001b[0m \u001b[0;34m=\u001b[0m \u001b[0;34m\"xla\"\u001b[0m \u001b[0;32mif\u001b[0m \u001b[0mself\u001b[0m\u001b[0;34m.\u001b[0m\u001b[0m_experimental_compile\u001b[0m \u001b[0;32melse\u001b[0m \u001b[0;34m\"nonXla\"\u001b[0m\u001b[0;34m\u001b[0m\u001b[0;34m\u001b[0m\u001b[0m\n\u001b[1;32m    830\u001b[0m       \u001b[0mnew_tracing_count\u001b[0m \u001b[0;34m=\u001b[0m \u001b[0mself\u001b[0m\u001b[0;34m.\u001b[0m\u001b[0mexperimental_get_tracing_count\u001b[0m\u001b[0;34m(\u001b[0m\u001b[0;34m)\u001b[0m\u001b[0;34m\u001b[0m\u001b[0;34m\u001b[0m\u001b[0m\n",
            "\u001b[0;32m/usr/local/lib/python3.6/dist-packages/tensorflow/python/eager/def_function.py\u001b[0m in \u001b[0;36m_call\u001b[0;34m(self, *args, **kwds)\u001b[0m\n\u001b[1;32m    869\u001b[0m       \u001b[0;31m# This is the first call of __call__, so we have to initialize.\u001b[0m\u001b[0;34m\u001b[0m\u001b[0;34m\u001b[0m\u001b[0;34m\u001b[0m\u001b[0m\n\u001b[1;32m    870\u001b[0m       \u001b[0minitializers\u001b[0m \u001b[0;34m=\u001b[0m \u001b[0;34m[\u001b[0m\u001b[0;34m]\u001b[0m\u001b[0;34m\u001b[0m\u001b[0;34m\u001b[0m\u001b[0m\n\u001b[0;32m--> 871\u001b[0;31m       \u001b[0mself\u001b[0m\u001b[0;34m.\u001b[0m\u001b[0m_initialize\u001b[0m\u001b[0;34m(\u001b[0m\u001b[0margs\u001b[0m\u001b[0;34m,\u001b[0m \u001b[0mkwds\u001b[0m\u001b[0;34m,\u001b[0m \u001b[0madd_initializers_to\u001b[0m\u001b[0;34m=\u001b[0m\u001b[0minitializers\u001b[0m\u001b[0;34m)\u001b[0m\u001b[0;34m\u001b[0m\u001b[0;34m\u001b[0m\u001b[0m\n\u001b[0m\u001b[1;32m    872\u001b[0m     \u001b[0;32mfinally\u001b[0m\u001b[0;34m:\u001b[0m\u001b[0;34m\u001b[0m\u001b[0;34m\u001b[0m\u001b[0m\n\u001b[1;32m    873\u001b[0m       \u001b[0;31m# At this point we know that the initialization is complete (or less\u001b[0m\u001b[0;34m\u001b[0m\u001b[0;34m\u001b[0m\u001b[0;34m\u001b[0m\u001b[0m\n",
            "\u001b[0;32m/usr/local/lib/python3.6/dist-packages/tensorflow/python/eager/def_function.py\u001b[0m in \u001b[0;36m_initialize\u001b[0;34m(self, args, kwds, add_initializers_to)\u001b[0m\n\u001b[1;32m    724\u001b[0m     self._concrete_stateful_fn = (\n\u001b[1;32m    725\u001b[0m         self._stateful_fn._get_concrete_function_internal_garbage_collected(  # pylint: disable=protected-access\n\u001b[0;32m--> 726\u001b[0;31m             *args, **kwds))\n\u001b[0m\u001b[1;32m    727\u001b[0m \u001b[0;34m\u001b[0m\u001b[0m\n\u001b[1;32m    728\u001b[0m     \u001b[0;32mdef\u001b[0m \u001b[0minvalid_creator_scope\u001b[0m\u001b[0;34m(\u001b[0m\u001b[0;34m*\u001b[0m\u001b[0munused_args\u001b[0m\u001b[0;34m,\u001b[0m \u001b[0;34m**\u001b[0m\u001b[0munused_kwds\u001b[0m\u001b[0;34m)\u001b[0m\u001b[0;34m:\u001b[0m\u001b[0;34m\u001b[0m\u001b[0;34m\u001b[0m\u001b[0m\n",
            "\u001b[0;32m/usr/local/lib/python3.6/dist-packages/tensorflow/python/eager/function.py\u001b[0m in \u001b[0;36m_get_concrete_function_internal_garbage_collected\u001b[0;34m(self, *args, **kwargs)\u001b[0m\n\u001b[1;32m   2967\u001b[0m       \u001b[0margs\u001b[0m\u001b[0;34m,\u001b[0m \u001b[0mkwargs\u001b[0m \u001b[0;34m=\u001b[0m \u001b[0;32mNone\u001b[0m\u001b[0;34m,\u001b[0m \u001b[0;32mNone\u001b[0m\u001b[0;34m\u001b[0m\u001b[0;34m\u001b[0m\u001b[0m\n\u001b[1;32m   2968\u001b[0m     \u001b[0;32mwith\u001b[0m \u001b[0mself\u001b[0m\u001b[0;34m.\u001b[0m\u001b[0m_lock\u001b[0m\u001b[0;34m:\u001b[0m\u001b[0;34m\u001b[0m\u001b[0;34m\u001b[0m\u001b[0m\n\u001b[0;32m-> 2969\u001b[0;31m       \u001b[0mgraph_function\u001b[0m\u001b[0;34m,\u001b[0m \u001b[0m_\u001b[0m \u001b[0;34m=\u001b[0m \u001b[0mself\u001b[0m\u001b[0;34m.\u001b[0m\u001b[0m_maybe_define_function\u001b[0m\u001b[0;34m(\u001b[0m\u001b[0margs\u001b[0m\u001b[0;34m,\u001b[0m \u001b[0mkwargs\u001b[0m\u001b[0;34m)\u001b[0m\u001b[0;34m\u001b[0m\u001b[0;34m\u001b[0m\u001b[0m\n\u001b[0m\u001b[1;32m   2970\u001b[0m     \u001b[0;32mreturn\u001b[0m \u001b[0mgraph_function\u001b[0m\u001b[0;34m\u001b[0m\u001b[0;34m\u001b[0m\u001b[0m\n\u001b[1;32m   2971\u001b[0m \u001b[0;34m\u001b[0m\u001b[0m\n",
            "\u001b[0;32m/usr/local/lib/python3.6/dist-packages/tensorflow/python/eager/function.py\u001b[0m in \u001b[0;36m_maybe_define_function\u001b[0;34m(self, args, kwargs)\u001b[0m\n\u001b[1;32m   3359\u001b[0m \u001b[0;34m\u001b[0m\u001b[0m\n\u001b[1;32m   3360\u001b[0m           \u001b[0mself\u001b[0m\u001b[0;34m.\u001b[0m\u001b[0m_function_cache\u001b[0m\u001b[0;34m.\u001b[0m\u001b[0mmissed\u001b[0m\u001b[0;34m.\u001b[0m\u001b[0madd\u001b[0m\u001b[0;34m(\u001b[0m\u001b[0mcall_context_key\u001b[0m\u001b[0;34m)\u001b[0m\u001b[0;34m\u001b[0m\u001b[0;34m\u001b[0m\u001b[0m\n\u001b[0;32m-> 3361\u001b[0;31m           \u001b[0mgraph_function\u001b[0m \u001b[0;34m=\u001b[0m \u001b[0mself\u001b[0m\u001b[0;34m.\u001b[0m\u001b[0m_create_graph_function\u001b[0m\u001b[0;34m(\u001b[0m\u001b[0margs\u001b[0m\u001b[0;34m,\u001b[0m \u001b[0mkwargs\u001b[0m\u001b[0;34m)\u001b[0m\u001b[0;34m\u001b[0m\u001b[0;34m\u001b[0m\u001b[0m\n\u001b[0m\u001b[1;32m   3362\u001b[0m           \u001b[0mself\u001b[0m\u001b[0;34m.\u001b[0m\u001b[0m_function_cache\u001b[0m\u001b[0;34m.\u001b[0m\u001b[0mprimary\u001b[0m\u001b[0;34m[\u001b[0m\u001b[0mcache_key\u001b[0m\u001b[0;34m]\u001b[0m \u001b[0;34m=\u001b[0m \u001b[0mgraph_function\u001b[0m\u001b[0;34m\u001b[0m\u001b[0;34m\u001b[0m\u001b[0m\n\u001b[1;32m   3363\u001b[0m \u001b[0;34m\u001b[0m\u001b[0m\n",
            "\u001b[0;32m/usr/local/lib/python3.6/dist-packages/tensorflow/python/eager/function.py\u001b[0m in \u001b[0;36m_create_graph_function\u001b[0;34m(self, args, kwargs, override_flat_arg_shapes)\u001b[0m\n\u001b[1;32m   3204\u001b[0m             \u001b[0marg_names\u001b[0m\u001b[0;34m=\u001b[0m\u001b[0marg_names\u001b[0m\u001b[0;34m,\u001b[0m\u001b[0;34m\u001b[0m\u001b[0;34m\u001b[0m\u001b[0m\n\u001b[1;32m   3205\u001b[0m             \u001b[0moverride_flat_arg_shapes\u001b[0m\u001b[0;34m=\u001b[0m\u001b[0moverride_flat_arg_shapes\u001b[0m\u001b[0;34m,\u001b[0m\u001b[0;34m\u001b[0m\u001b[0;34m\u001b[0m\u001b[0m\n\u001b[0;32m-> 3206\u001b[0;31m             capture_by_value=self._capture_by_value),\n\u001b[0m\u001b[1;32m   3207\u001b[0m         \u001b[0mself\u001b[0m\u001b[0;34m.\u001b[0m\u001b[0m_function_attributes\u001b[0m\u001b[0;34m,\u001b[0m\u001b[0;34m\u001b[0m\u001b[0;34m\u001b[0m\u001b[0m\n\u001b[1;32m   3208\u001b[0m         \u001b[0mfunction_spec\u001b[0m\u001b[0;34m=\u001b[0m\u001b[0mself\u001b[0m\u001b[0;34m.\u001b[0m\u001b[0mfunction_spec\u001b[0m\u001b[0;34m,\u001b[0m\u001b[0;34m\u001b[0m\u001b[0;34m\u001b[0m\u001b[0m\n",
            "\u001b[0;32m/usr/local/lib/python3.6/dist-packages/tensorflow/python/framework/func_graph.py\u001b[0m in \u001b[0;36mfunc_graph_from_py_func\u001b[0;34m(name, python_func, args, kwargs, signature, func_graph, autograph, autograph_options, add_control_dependencies, arg_names, op_return_value, collections, capture_by_value, override_flat_arg_shapes)\u001b[0m\n\u001b[1;32m    988\u001b[0m         \u001b[0m_\u001b[0m\u001b[0;34m,\u001b[0m \u001b[0moriginal_func\u001b[0m \u001b[0;34m=\u001b[0m \u001b[0mtf_decorator\u001b[0m\u001b[0;34m.\u001b[0m\u001b[0munwrap\u001b[0m\u001b[0;34m(\u001b[0m\u001b[0mpython_func\u001b[0m\u001b[0;34m)\u001b[0m\u001b[0;34m\u001b[0m\u001b[0;34m\u001b[0m\u001b[0m\n\u001b[1;32m    989\u001b[0m \u001b[0;34m\u001b[0m\u001b[0m\n\u001b[0;32m--> 990\u001b[0;31m       \u001b[0mfunc_outputs\u001b[0m \u001b[0;34m=\u001b[0m \u001b[0mpython_func\u001b[0m\u001b[0;34m(\u001b[0m\u001b[0;34m*\u001b[0m\u001b[0mfunc_args\u001b[0m\u001b[0;34m,\u001b[0m \u001b[0;34m**\u001b[0m\u001b[0mfunc_kwargs\u001b[0m\u001b[0;34m)\u001b[0m\u001b[0;34m\u001b[0m\u001b[0;34m\u001b[0m\u001b[0m\n\u001b[0m\u001b[1;32m    991\u001b[0m \u001b[0;34m\u001b[0m\u001b[0m\n\u001b[1;32m    992\u001b[0m       \u001b[0;31m# invariant: `func_outputs` contains only Tensors, CompositeTensors,\u001b[0m\u001b[0;34m\u001b[0m\u001b[0;34m\u001b[0m\u001b[0;34m\u001b[0m\u001b[0m\n",
            "\u001b[0;32m/usr/local/lib/python3.6/dist-packages/tensorflow/python/eager/def_function.py\u001b[0m in \u001b[0;36mwrapped_fn\u001b[0;34m(*args, **kwds)\u001b[0m\n\u001b[1;32m    632\u001b[0m             \u001b[0mxla_context\u001b[0m\u001b[0;34m.\u001b[0m\u001b[0mExit\u001b[0m\u001b[0;34m(\u001b[0m\u001b[0;34m)\u001b[0m\u001b[0;34m\u001b[0m\u001b[0;34m\u001b[0m\u001b[0m\n\u001b[1;32m    633\u001b[0m         \u001b[0;32melse\u001b[0m\u001b[0;34m:\u001b[0m\u001b[0;34m\u001b[0m\u001b[0;34m\u001b[0m\u001b[0m\n\u001b[0;32m--> 634\u001b[0;31m           \u001b[0mout\u001b[0m \u001b[0;34m=\u001b[0m \u001b[0mweak_wrapped_fn\u001b[0m\u001b[0;34m(\u001b[0m\u001b[0;34m)\u001b[0m\u001b[0;34m.\u001b[0m\u001b[0m__wrapped__\u001b[0m\u001b[0;34m(\u001b[0m\u001b[0;34m*\u001b[0m\u001b[0margs\u001b[0m\u001b[0;34m,\u001b[0m \u001b[0;34m**\u001b[0m\u001b[0mkwds\u001b[0m\u001b[0;34m)\u001b[0m\u001b[0;34m\u001b[0m\u001b[0;34m\u001b[0m\u001b[0m\n\u001b[0m\u001b[1;32m    635\u001b[0m         \u001b[0;32mreturn\u001b[0m \u001b[0mout\u001b[0m\u001b[0;34m\u001b[0m\u001b[0;34m\u001b[0m\u001b[0m\n\u001b[1;32m    636\u001b[0m \u001b[0;34m\u001b[0m\u001b[0m\n",
            "\u001b[0;32m/usr/local/lib/python3.6/dist-packages/tensorflow/python/framework/func_graph.py\u001b[0m in \u001b[0;36mwrapper\u001b[0;34m(*args, **kwargs)\u001b[0m\n\u001b[1;32m    975\u001b[0m           \u001b[0;32mexcept\u001b[0m \u001b[0mException\u001b[0m \u001b[0;32mas\u001b[0m \u001b[0me\u001b[0m\u001b[0;34m:\u001b[0m  \u001b[0;31m# pylint:disable=broad-except\u001b[0m\u001b[0;34m\u001b[0m\u001b[0;34m\u001b[0m\u001b[0m\n\u001b[1;32m    976\u001b[0m             \u001b[0;32mif\u001b[0m \u001b[0mhasattr\u001b[0m\u001b[0;34m(\u001b[0m\u001b[0me\u001b[0m\u001b[0;34m,\u001b[0m \u001b[0;34m\"ag_error_metadata\"\u001b[0m\u001b[0;34m)\u001b[0m\u001b[0;34m:\u001b[0m\u001b[0;34m\u001b[0m\u001b[0;34m\u001b[0m\u001b[0m\n\u001b[0;32m--> 977\u001b[0;31m               \u001b[0;32mraise\u001b[0m \u001b[0me\u001b[0m\u001b[0;34m.\u001b[0m\u001b[0mag_error_metadata\u001b[0m\u001b[0;34m.\u001b[0m\u001b[0mto_exception\u001b[0m\u001b[0;34m(\u001b[0m\u001b[0me\u001b[0m\u001b[0;34m)\u001b[0m\u001b[0;34m\u001b[0m\u001b[0;34m\u001b[0m\u001b[0m\n\u001b[0m\u001b[1;32m    978\u001b[0m             \u001b[0;32melse\u001b[0m\u001b[0;34m:\u001b[0m\u001b[0;34m\u001b[0m\u001b[0;34m\u001b[0m\u001b[0m\n\u001b[1;32m    979\u001b[0m               \u001b[0;32mraise\u001b[0m\u001b[0;34m\u001b[0m\u001b[0;34m\u001b[0m\u001b[0m\n",
            "\u001b[0;31mValueError\u001b[0m: in user code:\n\n    /usr/local/lib/python3.6/dist-packages/tensorflow/python/keras/engine/training.py:805 train_function  *\n        return step_function(self, iterator)\n    /usr/local/lib/python3.6/dist-packages/tensorflow/python/keras/engine/training.py:795 step_function  **\n        outputs = model.distribute_strategy.run(run_step, args=(data,))\n    /usr/local/lib/python3.6/dist-packages/tensorflow/python/distribute/distribute_lib.py:1259 run\n        return self._extended.call_for_each_replica(fn, args=args, kwargs=kwargs)\n    /usr/local/lib/python3.6/dist-packages/tensorflow/python/distribute/distribute_lib.py:2730 call_for_each_replica\n        return self._call_for_each_replica(fn, args, kwargs)\n    /usr/local/lib/python3.6/dist-packages/tensorflow/python/distribute/distribute_lib.py:3417 _call_for_each_replica\n        return fn(*args, **kwargs)\n    /usr/local/lib/python3.6/dist-packages/tensorflow/python/keras/engine/training.py:788 run_step  **\n        outputs = model.train_step(data)\n    /usr/local/lib/python3.6/dist-packages/tensorflow/python/keras/engine/training.py:756 train_step\n        y, y_pred, sample_weight, regularization_losses=self.losses)\n    /usr/local/lib/python3.6/dist-packages/tensorflow/python/keras/engine/compile_utils.py:203 __call__\n        loss_value = loss_obj(y_t, y_p, sample_weight=sw)\n    /usr/local/lib/python3.6/dist-packages/tensorflow/python/keras/losses.py:152 __call__\n        losses = call_fn(y_true, y_pred)\n    /usr/local/lib/python3.6/dist-packages/tensorflow/python/keras/losses.py:256 call  **\n        return ag_fn(y_true, y_pred, **self._fn_kwargs)\n    /usr/local/lib/python3.6/dist-packages/tensorflow/python/util/dispatch.py:201 wrapper\n        return target(*args, **kwargs)\n    /usr/local/lib/python3.6/dist-packages/tensorflow/python/keras/losses.py:1537 categorical_crossentropy\n        return K.categorical_crossentropy(y_true, y_pred, from_logits=from_logits)\n    /usr/local/lib/python3.6/dist-packages/tensorflow/python/util/dispatch.py:201 wrapper\n        return target(*args, **kwargs)\n    /usr/local/lib/python3.6/dist-packages/tensorflow/python/keras/backend.py:4833 categorical_crossentropy\n        target.shape.assert_is_compatible_with(output.shape)\n    /usr/local/lib/python3.6/dist-packages/tensorflow/python/framework/tensor_shape.py:1134 assert_is_compatible_with\n        raise ValueError(\"Shapes %s and %s are incompatible\" % (self, other))\n\n    ValueError: Shapes (None, 1, 7) and (512, 7) are incompatible\n"
          ]
        }
      ]
    },
    {
      "cell_type": "code",
      "metadata": {
        "id": "ieGpV2zYXZwV"
      },
      "source": [
        "#saving model\n",
        "model.save(\"/content/drive/MyDrive/NSL-KDD_results_3LSTM_1Dense_20epoch_1batch_model.h5\")"
      ],
      "execution_count": null,
      "outputs": []
    },
    {
      "cell_type": "code",
      "metadata": {
        "colab": {
          "base_uri": "https://localhost:8080/"
        },
        "id": "5xLvXBh0SyWh",
        "outputId": "d97ff0d8-a9c8-427b-d9e0-66b292cd1981"
      },
      "source": [
        "from keras.models import load_model\n",
        "#model = load_model('/content/drive/MyDrive/NSL-KDD_results_SimpleRNN_model.hdf5')\n",
        "loss, accuracy = model.evaluate(X_test, y_test)\n",
        "print(\"\\nLoss: %.2f, Accuracy: %.2f%%\" % (loss, accuracy*100))\n",
        "\n",
        "print(\"--- %s seconds ---\",finish_time)\n",
        "y_pred = model.predict_classes(X_train)\n",
        "#np.savetxt('/content/drive/MyDrive/NSL-KDD_results_SimpleRNN_predicted.txt', np.transpose([y_test,y_pred]), fmt='%s')"
      ],
      "execution_count": null,
      "outputs": [
        {
          "output_type": "stream",
          "text": [
            "705/705 [==============================] - 1s 996us/step - loss: 1.5715 - accuracy: 0.1944\n",
            "\n",
            "Loss: 1.57, Accuracy: 19.44%\n",
            "--- %s seconds --- 10.655580997467041\n"
          ],
          "name": "stdout"
        },
        {
          "output_type": "stream",
          "text": [
            "/usr/local/lib/python3.6/dist-packages/tensorflow/python/keras/engine/sequential.py:450: UserWarning: `model.predict_classes()` is deprecated and will be removed after 2021-01-01. Please use instead:* `np.argmax(model.predict(x), axis=-1)`,   if your model does multi-class classification   (e.g. if it uses a `softmax` last-layer activation).* `(model.predict(x) > 0.5).astype(\"int32\")`,   if your model does binary classification   (e.g. if it uses a `sigmoid` last-layer activation).\n",
            "  warnings.warn('`model.predict_classes()` is deprecated and '\n"
          ],
          "name": "stderr"
        }
      ]
    },
    {
      "cell_type": "code",
      "metadata": {
        "colab": {
          "base_uri": "https://localhost:8080/"
        },
        "id": "kqAFEhU4_CMH",
        "outputId": "dc7ca7e5-50c4-4595-ba53-6ba7104f0767"
      },
      "source": [
        "print(model)"
      ],
      "execution_count": null,
      "outputs": [
        {
          "output_type": "stream",
          "text": [
            "<tensorflow.python.keras.engine.sequential.Sequential object at 0x7f324f860ba8>\n"
          ],
          "name": "stdout"
        }
      ]
    }
  ]
}