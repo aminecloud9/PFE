{
  "nbformat": 4,
  "nbformat_minor": 0,
  "metadata": {
    "colab": {
      "name": "NSLKDD_LSTM_Model.ipynb",
      "provenance": [],
      "collapsed_sections": [],
      "mount_file_id": "16_X2LMa1V7ENkqAtbATRAiCkL9sf9fXy",
      "authorship_tag": "ABX9TyM6mlVV16AZyMAFXyffybYu",
      "include_colab_link": true
    },
    "kernelspec": {
      "display_name": "Python 3",
      "name": "python3"
    }
  },
  "cells": [
    {
      "cell_type": "markdown",
      "metadata": {
        "id": "view-in-github",
        "colab_type": "text"
      },
      "source": [
        "<a href=\"https://colab.research.google.com/github/aminecloud9/PFE/blob/main/NSLKDD_LSTM_Model.ipynb\" target=\"_parent\"><img src=\"https://colab.research.google.com/assets/colab-badge.svg\" alt=\"Open In Colab\"/></a>"
      ]
    },
    {
      "cell_type": "code",
      "metadata": {
        "id": "zubbW2t0qkI4"
      },
      "source": [
        "%matplotlib inline\r\n",
        "import matplotlib.pyplot as plt\r\n",
        "import numpy as np\r\n",
        "import pandas as pd\r\n",
        "\r\n",
        "from __future__ import print_function\r\n",
        "import numpy as np\r\n",
        "np.random.seed(1337)  # for reproducibility\r\n",
        "from keras.preprocessing import sequence\r\n",
        "from keras.utils import np_utils\r\n",
        "from keras.models import Sequential\r\n",
        "from keras.optimizers import SGD\r\n",
        "from keras.layers import Dense, Dropout, Activation, Embedding\r\n",
        "from keras.layers import LSTM, SimpleRNN, GRU\r\n",
        "from keras.datasets import imdb\r\n",
        "from keras.utils.np_utils import to_categorical\r\n",
        "from sklearn.metrics import (precision_score, recall_score,\r\n",
        "                             f1_score, accuracy_score,mean_squared_error,mean_absolute_error)\r\n",
        "from sklearn import metrics\r\n",
        "from sklearn.preprocessing import Normalizer\r\n",
        "import h5py\r\n",
        "from keras import callbacks\r\n",
        "from keras import callbacks\r\n",
        "from keras.callbacks import ModelCheckpoint, EarlyStopping, ReduceLROnPlateau, CSVLogger"
      ],
      "execution_count": null,
      "outputs": []
    },
    {
      "cell_type": "code",
      "metadata": {
        "id": "yGP9ArVErwIu"
      },
      "source": [
        "#data=pd.read_csv('/content/drive/MyDrive/CICIDS2017_multi_class_StandardScaler_NormalsationResults.csv')\r\n",
        "\r\n",
        "train_data=pd.read_csv('/content/drive/MyDrive/Train_42col_normalisation.csv')\r\n",
        "test_data=pd.read_csv('/content/drive/MyDrive/Test_42col_normalisation.csv')"
      ],
      "execution_count": null,
      "outputs": []
    },
    {
      "cell_type": "code",
      "metadata": {
        "id": "Vbi5xXhgsu1K"
      },
      "source": [
        "X=train_data.values[:,1:-1]\r\n",
        "y=train_data.values[:,-1]\r\n",
        "train_X = X\r\n",
        "train_y = pd.factorize(y)\r\n",
        "test_X = test_data.values[:,1:-1]\r\n",
        "test_y = pd.factorize(test_data.values[:,-1])"
      ],
      "execution_count": null,
      "outputs": []
    },
    {
      "cell_type": "code",
      "metadata": {
        "id": "GfaE4iDWZJB9"
      },
      "source": [
        "test_data"
      ],
      "execution_count": null,
      "outputs": []
    },
    {
      "cell_type": "code",
      "metadata": {
        "id": "j-4aCMAUrn3D"
      },
      "source": [
        "#Import Module\r\n",
        "#from sklearn.model_selection import train_test_split\r\n",
        "\r\n",
        "\r\n",
        "# train_X, test_X, train_y, test_y = train_test_split(X, y, \r\n",
        "#                                                     train_size=0.7,\r\n",
        "#                                                     test_size=0.3,\r\n",
        "#                                                     random_state=122)\r\n",
        "# print(\"Labels for training and testing data\")\r\n",
        "# print(train_y)\r\n",
        "# print(test_y)"
      ],
      "execution_count": null,
      "outputs": []
    },
    {
      "cell_type": "code",
      "metadata": {
        "colab": {
          "base_uri": "https://localhost:8080/"
        },
        "id": "qa6201kxssMy",
        "outputId": "a79cd950-2280-4960-b63c-e8f6870f4d99"
      },
      "source": [
        "train_X.shape"
      ],
      "execution_count": null,
      "outputs": [
        {
          "output_type": "execute_result",
          "data": {
            "text/plain": [
              "(125973, 41)"
            ]
          },
          "metadata": {
            "tags": []
          },
          "execution_count": 6
        }
      ]
    },
    {
      "cell_type": "code",
      "metadata": {
        "colab": {
          "base_uri": "https://localhost:8080/"
        },
        "id": "LgIXyYp5sgq-",
        "outputId": "20939bb1-a461-48e9-869a-a91b93924cf1"
      },
      "source": [
        "test_X.shape"
      ],
      "execution_count": null,
      "outputs": [
        {
          "output_type": "execute_result",
          "data": {
            "text/plain": [
              "(22543, 41)"
            ]
          },
          "metadata": {
            "tags": []
          },
          "execution_count": 5
        }
      ]
    },
    {
      "cell_type": "code",
      "metadata": {
        "id": "W7FOxrdJ2tye"
      },
      "source": [
        "# reshape input to be [samples, time steps, features]\r\n",
        "import keras\r\n",
        "\r\n",
        "#X_train = np.reshape(data.values[:,:-1].astype('float32'), (data.values[:,:-1].shape[0], 1, data.values[:,:-1].shape[1]))\r\n",
        "X_train = np.reshape(train_X.astype('float32'), (train_X.shape[0], 1, train_X.shape[1]))\r\n",
        "X_test = np.reshape(test_X.astype('float32'), (test_X.shape[0], 1, test_X.shape[1]))\r\n",
        "#y_train = keras.utils.to_categorical(pd.factorize(data.values[:,77])[0],15)\r\n",
        "y_train = keras.utils.to_categorical(train_y[0],5)\r\n",
        "y_train = y_train.astype('int')\r\n",
        "y_train = np.reshape(y_train,(y_train.shape[0],1,y_train.shape[1]))\r\n",
        "y_test = keras.utils.to_categorical(test_y[0],5)\r\n",
        "y_test = y_test.astype('int')\r\n",
        "y_test = np.reshape(y_test,(y_test.shape[0],1,y_test.shape[1]))"
      ],
      "execution_count": null,
      "outputs": []
    },
    {
      "cell_type": "code",
      "metadata": {
        "id": "dhuIuz4p00I8"
      },
      "source": [
        "# 1. define the network\r\n",
        "import time\r\n",
        "data_dim = X_train.shape[1]\r\n",
        "timesteps = 1\r\n",
        "num_classes = y_train.shape[1]\r\n",
        "batch_size = 512\r\n",
        "\r\n",
        "\r\n",
        "model = Sequential()\r\n",
        "model.add(SimpleRNN(4, input_dim=X_train.shape[1]))  # try using a GRU instead, for fun\r\n",
        "model.add(Dropout(0.2))\r\n",
        "model.add(Dense(5))\r\n",
        "model.add(Activation('softmax'))"
      ],
      "execution_count": null,
      "outputs": []
    },
    {
      "cell_type": "code",
      "metadata": {
        "id": "Bmi9FeVpM7z8"
      },
      "source": [
        "import time\r\n",
        "data_dim = X_train.shape[1]\r\n",
        "timesteps = 1\r\n",
        "num_classes = y_train.shape[1]\r\n",
        "batch_size = 1\r\n",
        "\r\n",
        "model = Sequential()\r\n",
        "model.add(LSTM(50, return_sequences=True, stateful=False, batch_input_shape=(batch_size, timesteps, data_dim)))\r\n",
        "model.add(Dropout(0.1))\r\n",
        "model.add(LSTM(50, return_sequences=True, stateful=False))\r\n",
        "model.add(Dropout(0.1))\r\n",
        "model.add(LSTM(50, stateful=True))\r\n",
        "model.add(Dropout(0.1))\r\n",
        "model.add(Dense(15, activation='softmax'))\r\n",
        "model.compile(loss='binary_crossentropy', optimizer='adam', metrics=['accuracy'])\r\n",
        "\r\n",
        "\r\n",
        "start = time.time()\r\n",
        "\r\n",
        "start_time = time.time()\r\n",
        "model.fit(X_train, y_train,batch_size=batch_size, epochs=2, shuffle=False)\r\n",
        "finish_time = time.time() - start_time\r\n",
        "model.save(\"/content/drive/My Drive/final_model_NSL-KDD_brute_Multiclass.h5\")"
      ],
      "execution_count": null,
      "outputs": []
    },
    {
      "cell_type": "code",
      "metadata": {
        "colab": {
          "base_uri": "https://localhost:8080/"
        },
        "id": "Z2X1EbkTFiow",
        "outputId": "a2303c51-b7bf-4890-8a25-063bea879b2e"
      },
      "source": [
        "import time\r\n",
        "#train_object_num=len(train_data)\r\n",
        "#print(test[0])\r\n",
        "#model training\r\n",
        "batch_size = 1024\r\n",
        "model=Sequential()\r\n",
        "model.add(LSTM(X_train.shape[1],input_dim=X_train.shape[2],return_sequences=True,kernel_initializer='uniform',activation='relu'))\r\n",
        "model.add(LSTM(32,kernel_initializer='uniform',return_sequences=True,activation='relu'))\r\n",
        "#model.add(LSTM(128,kernel_initializer='uniform',activation='relu'))\r\n",
        "model.add(Dense(256,activation='relu',r))\r\n",
        "model.add(Dense(128,activation='relu'))\r\n",
        "model.add(Dense(64,activation='relu'))\r\n",
        "model.add(Dense(16,activation='relu'))\r\n",
        "model.add(Dense(y_train.shape[2],activation='sigmoid'))\r\n",
        "model.compile(loss='binary_crossentropy',optimizer='NADAM',metrics=['accuracy'])\r\n",
        "model.summary()\r\n",
        "start_time = time.time()\r\n",
        "history = model.fit(X_train,y_train,validation_split=.3,epochs=100,batch_size=batch_size,verbose=1)\r\n",
        "finish_time = time.time() - start_time\r\n",
        "model.save(\"/content/drive/My Drive/model_NSL-KDD_42col_Multiclass_valsplit.3_bs1024_100ep.h5\")"
      ],
      "execution_count": null,
      "outputs": [
        {
          "output_type": "stream",
          "text": [
            "Model: \"sequential_6\"\n",
            "_________________________________________________________________\n",
            "Layer (type)                 Output Shape              Param #   \n",
            "=================================================================\n",
            "lstm_12 (LSTM)               (None, None, 1)           72        \n",
            "_________________________________________________________________\n",
            "lstm_13 (LSTM)               (None, None, 32)          4352      \n",
            "_________________________________________________________________\n",
            "dense_30 (Dense)             (None, None, 256)         8448      \n",
            "_________________________________________________________________\n",
            "dense_31 (Dense)             (None, None, 128)         32896     \n",
            "_________________________________________________________________\n",
            "dense_32 (Dense)             (None, None, 64)          8256      \n",
            "_________________________________________________________________\n",
            "dense_33 (Dense)             (None, None, 16)          1040      \n",
            "_________________________________________________________________\n",
            "dense_34 (Dense)             (None, None, 5)           85        \n",
            "=================================================================\n",
            "Total params: 55,149\n",
            "Trainable params: 55,149\n",
            "Non-trainable params: 0\n",
            "_________________________________________________________________\n",
            "Epoch 1/100\n",
            "87/87 [==============================] - 6s 32ms/step - loss: 0.5757 - accuracy: 0.3883 - val_loss: 0.3503 - val_accuracy: 0.5351\n",
            "Epoch 2/100\n",
            "87/87 [==============================] - 2s 19ms/step - loss: 0.3216 - accuracy: 0.6109 - val_loss: 0.1609 - val_accuracy: 0.8643\n",
            "Epoch 3/100\n",
            "87/87 [==============================] - 2s 23ms/step - loss: 0.1597 - accuracy: 0.8662 - val_loss: 0.1546 - val_accuracy: 0.8655\n",
            "Epoch 4/100\n",
            "87/87 [==============================] - 2s 20ms/step - loss: 0.1527 - accuracy: 0.8666 - val_loss: 0.1331 - val_accuracy: 0.8632\n",
            "Epoch 5/100\n",
            "87/87 [==============================] - 2s 19ms/step - loss: 0.1209 - accuracy: 0.8653 - val_loss: 0.1028 - val_accuracy: 0.8612\n",
            "Epoch 6/100\n",
            "87/87 [==============================] - 2s 21ms/step - loss: 0.0956 - accuracy: 0.8794 - val_loss: 0.0994 - val_accuracy: 0.8822\n",
            "Epoch 7/100\n",
            "87/87 [==============================] - 2s 21ms/step - loss: 0.0902 - accuracy: 0.8976 - val_loss: 0.0880 - val_accuracy: 0.9125\n",
            "Epoch 8/100\n",
            "87/87 [==============================] - 2s 22ms/step - loss: 0.0842 - accuracy: 0.9092 - val_loss: 0.0824 - val_accuracy: 0.9141\n",
            "Epoch 9/100\n",
            "87/87 [==============================] - 2s 21ms/step - loss: 0.0824 - accuracy: 0.9132 - val_loss: 0.0819 - val_accuracy: 0.9140\n",
            "Epoch 10/100\n",
            "87/87 [==============================] - 2s 19ms/step - loss: 0.0813 - accuracy: 0.9129 - val_loss: 0.0802 - val_accuracy: 0.9150\n",
            "Epoch 11/100\n",
            "87/87 [==============================] - 2s 21ms/step - loss: 0.0789 - accuracy: 0.9151 - val_loss: 0.0860 - val_accuracy: 0.8664\n",
            "Epoch 12/100\n",
            "87/87 [==============================] - 2s 19ms/step - loss: 0.0803 - accuracy: 0.9103 - val_loss: 0.0797 - val_accuracy: 0.9162\n",
            "Epoch 13/100\n",
            "87/87 [==============================] - 2s 20ms/step - loss: 0.0782 - accuracy: 0.9163 - val_loss: 0.0811 - val_accuracy: 0.9117\n",
            "Epoch 14/100\n",
            "87/87 [==============================] - 2s 23ms/step - loss: 0.0777 - accuracy: 0.9151 - val_loss: 0.0785 - val_accuracy: 0.9162\n",
            "Epoch 15/100\n",
            "87/87 [==============================] - 2s 23ms/step - loss: 0.0771 - accuracy: 0.9158 - val_loss: 0.0851 - val_accuracy: 0.9148\n",
            "Epoch 16/100\n",
            "87/87 [==============================] - 2s 20ms/step - loss: 0.0778 - accuracy: 0.9153 - val_loss: 0.0777 - val_accuracy: 0.9154\n",
            "Epoch 17/100\n",
            "87/87 [==============================] - 2s 20ms/step - loss: 0.0766 - accuracy: 0.9161 - val_loss: 0.0768 - val_accuracy: 0.9160\n",
            "Epoch 18/100\n",
            "87/87 [==============================] - 2s 21ms/step - loss: 0.0773 - accuracy: 0.9157 - val_loss: 0.0760 - val_accuracy: 0.9167\n",
            "Epoch 19/100\n",
            "87/87 [==============================] - 2s 21ms/step - loss: 0.0768 - accuracy: 0.9146 - val_loss: 0.0756 - val_accuracy: 0.9171\n",
            "Epoch 20/100\n",
            "87/87 [==============================] - 2s 23ms/step - loss: 0.0762 - accuracy: 0.9157 - val_loss: 0.0782 - val_accuracy: 0.9150\n",
            "Epoch 21/100\n",
            "87/87 [==============================] - 2s 21ms/step - loss: 0.0768 - accuracy: 0.9148 - val_loss: 0.0755 - val_accuracy: 0.9163\n",
            "Epoch 22/100\n",
            "87/87 [==============================] - 2s 21ms/step - loss: 0.0755 - accuracy: 0.9157 - val_loss: 0.0750 - val_accuracy: 0.9181\n",
            "Epoch 23/100\n",
            "87/87 [==============================] - 2s 22ms/step - loss: 0.0755 - accuracy: 0.9168 - val_loss: 0.0756 - val_accuracy: 0.9155\n",
            "Epoch 24/100\n",
            "87/87 [==============================] - 2s 21ms/step - loss: 0.0756 - accuracy: 0.9158 - val_loss: 0.0749 - val_accuracy: 0.9163\n",
            "Epoch 25/100\n",
            "87/87 [==============================] - 2s 21ms/step - loss: 0.0750 - accuracy: 0.9164 - val_loss: 0.0744 - val_accuracy: 0.9166\n",
            "Epoch 26/100\n",
            "87/87 [==============================] - 2s 23ms/step - loss: 0.0749 - accuracy: 0.9165 - val_loss: 0.0752 - val_accuracy: 0.9189\n",
            "Epoch 27/100\n",
            "87/87 [==============================] - 2s 21ms/step - loss: 0.0735 - accuracy: 0.9188 - val_loss: 0.0751 - val_accuracy: 0.9167\n",
            "Epoch 28/100\n",
            "87/87 [==============================] - 2s 23ms/step - loss: 0.0750 - accuracy: 0.9163 - val_loss: 0.0770 - val_accuracy: 0.9170\n",
            "Epoch 29/100\n",
            "87/87 [==============================] - 2s 21ms/step - loss: 0.0741 - accuracy: 0.9178 - val_loss: 0.0754 - val_accuracy: 0.9174\n",
            "Epoch 30/100\n",
            "87/87 [==============================] - 2s 20ms/step - loss: 0.0746 - accuracy: 0.9167 - val_loss: 0.0750 - val_accuracy: 0.9172\n",
            "Epoch 31/100\n",
            "87/87 [==============================] - 2s 22ms/step - loss: 0.0738 - accuracy: 0.9164 - val_loss: 0.0749 - val_accuracy: 0.9198\n",
            "Epoch 32/100\n",
            "87/87 [==============================] - 2s 20ms/step - loss: 0.0749 - accuracy: 0.9179 - val_loss: 0.0738 - val_accuracy: 0.9173\n",
            "Epoch 33/100\n",
            "87/87 [==============================] - 2s 20ms/step - loss: 0.0733 - accuracy: 0.9189 - val_loss: 0.0736 - val_accuracy: 0.9174\n",
            "Epoch 34/100\n",
            "87/87 [==============================] - 2s 23ms/step - loss: 0.0758 - accuracy: 0.9154 - val_loss: 0.0771 - val_accuracy: 0.9182\n",
            "Epoch 35/100\n",
            "87/87 [==============================] - 2s 23ms/step - loss: 0.0731 - accuracy: 0.9201 - val_loss: 0.0733 - val_accuracy: 0.9182\n",
            "Epoch 36/100\n",
            "87/87 [==============================] - 2s 22ms/step - loss: 0.0732 - accuracy: 0.9176 - val_loss: 0.0736 - val_accuracy: 0.9169\n",
            "Epoch 37/100\n",
            "87/87 [==============================] - 2s 22ms/step - loss: 0.0734 - accuracy: 0.9180 - val_loss: 0.0751 - val_accuracy: 0.9181\n",
            "Epoch 38/100\n",
            "87/87 [==============================] - 2s 23ms/step - loss: 0.0738 - accuracy: 0.9187 - val_loss: 0.0768 - val_accuracy: 0.9151\n",
            "Epoch 39/100\n",
            "87/87 [==============================] - 2s 23ms/step - loss: 0.0731 - accuracy: 0.9181 - val_loss: 0.0751 - val_accuracy: 0.9178\n",
            "Epoch 40/100\n",
            "87/87 [==============================] - 2s 21ms/step - loss: 0.0726 - accuracy: 0.9187 - val_loss: 0.0735 - val_accuracy: 0.9182\n",
            "Epoch 41/100\n",
            "87/87 [==============================] - 2s 19ms/step - loss: 0.0725 - accuracy: 0.9194 - val_loss: 0.0735 - val_accuracy: 0.9185\n",
            "Epoch 42/100\n",
            "87/87 [==============================] - 2s 20ms/step - loss: 0.0736 - accuracy: 0.9172 - val_loss: 0.0760 - val_accuracy: 0.9184\n",
            "Epoch 43/100\n",
            "87/87 [==============================] - 2s 19ms/step - loss: 0.0726 - accuracy: 0.9190 - val_loss: 0.0732 - val_accuracy: 0.9187\n",
            "Epoch 44/100\n",
            "87/87 [==============================] - 2s 22ms/step - loss: 0.0722 - accuracy: 0.9197 - val_loss: 0.0736 - val_accuracy: 0.9182\n",
            "Epoch 45/100\n",
            "87/87 [==============================] - 2s 20ms/step - loss: 0.0726 - accuracy: 0.9195 - val_loss: 0.0761 - val_accuracy: 0.9189\n",
            "Epoch 46/100\n",
            "87/87 [==============================] - 2s 20ms/step - loss: 0.0730 - accuracy: 0.9181 - val_loss: 0.0763 - val_accuracy: 0.9197\n",
            "Epoch 47/100\n",
            "87/87 [==============================] - 2s 20ms/step - loss: 0.0725 - accuracy: 0.9203 - val_loss: 0.0761 - val_accuracy: 0.9164\n",
            "Epoch 48/100\n",
            "87/87 [==============================] - 2s 22ms/step - loss: 0.0732 - accuracy: 0.9185 - val_loss: 0.0727 - val_accuracy: 0.9188\n",
            "Epoch 49/100\n",
            "87/87 [==============================] - 2s 21ms/step - loss: 0.0733 - accuracy: 0.9187 - val_loss: 0.0733 - val_accuracy: 0.9182\n",
            "Epoch 50/100\n",
            "87/87 [==============================] - 2s 20ms/step - loss: 0.0727 - accuracy: 0.9197 - val_loss: 0.0750 - val_accuracy: 0.9189\n",
            "Epoch 51/100\n",
            "87/87 [==============================] - 2s 20ms/step - loss: 0.0723 - accuracy: 0.9194 - val_loss: 0.0734 - val_accuracy: 0.9187\n",
            "Epoch 52/100\n",
            "87/87 [==============================] - 2s 20ms/step - loss: 0.0732 - accuracy: 0.9187 - val_loss: 0.0735 - val_accuracy: 0.9195\n",
            "Epoch 53/100\n",
            "87/87 [==============================] - 2s 20ms/step - loss: 0.0733 - accuracy: 0.9179 - val_loss: 0.0757 - val_accuracy: 0.9160\n",
            "Epoch 54/100\n",
            "87/87 [==============================] - 2s 19ms/step - loss: 0.0728 - accuracy: 0.9183 - val_loss: 0.0731 - val_accuracy: 0.9194\n",
            "Epoch 55/100\n",
            "87/87 [==============================] - 2s 20ms/step - loss: 0.0721 - accuracy: 0.9192 - val_loss: 0.0725 - val_accuracy: 0.9191\n",
            "Epoch 56/100\n",
            "87/87 [==============================] - 2s 20ms/step - loss: 0.0720 - accuracy: 0.9193 - val_loss: 0.0723 - val_accuracy: 0.9193\n",
            "Epoch 57/100\n",
            "87/87 [==============================] - 2s 24ms/step - loss: 0.0738 - accuracy: 0.9183 - val_loss: 0.0731 - val_accuracy: 0.9191\n",
            "Epoch 58/100\n",
            "87/87 [==============================] - 2s 23ms/step - loss: 0.0727 - accuracy: 0.9199 - val_loss: 0.0727 - val_accuracy: 0.9198\n",
            "Epoch 59/100\n",
            "87/87 [==============================] - 2s 19ms/step - loss: 0.0732 - accuracy: 0.9183 - val_loss: 0.0727 - val_accuracy: 0.9191\n",
            "Epoch 60/100\n",
            "87/87 [==============================] - 2s 19ms/step - loss: 0.0726 - accuracy: 0.9188 - val_loss: 0.0723 - val_accuracy: 0.9191\n",
            "Epoch 61/100\n",
            "87/87 [==============================] - 2s 20ms/step - loss: 0.0723 - accuracy: 0.9193 - val_loss: 0.0727 - val_accuracy: 0.9189\n",
            "Epoch 62/100\n",
            "87/87 [==============================] - 2s 21ms/step - loss: 0.0730 - accuracy: 0.9179 - val_loss: 0.0723 - val_accuracy: 0.9198\n",
            "Epoch 63/100\n",
            "87/87 [==============================] - 2s 23ms/step - loss: 0.0725 - accuracy: 0.9191 - val_loss: 0.0723 - val_accuracy: 0.9188\n",
            "Epoch 64/100\n",
            "87/87 [==============================] - 2s 23ms/step - loss: 0.0719 - accuracy: 0.9190 - val_loss: 0.0719 - val_accuracy: 0.9202\n",
            "Epoch 65/100\n",
            "87/87 [==============================] - 2s 22ms/step - loss: 0.0720 - accuracy: 0.9195 - val_loss: 0.0722 - val_accuracy: 0.9203\n",
            "Epoch 66/100\n",
            "87/87 [==============================] - 2s 20ms/step - loss: 0.0725 - accuracy: 0.9197 - val_loss: 0.0720 - val_accuracy: 0.9203\n",
            "Epoch 67/100\n",
            "87/87 [==============================] - 2s 20ms/step - loss: 0.0710 - accuracy: 0.9210 - val_loss: 0.0718 - val_accuracy: 0.9202\n",
            "Epoch 68/100\n",
            "87/87 [==============================] - 2s 23ms/step - loss: 0.0724 - accuracy: 0.9190 - val_loss: 0.0723 - val_accuracy: 0.9197\n",
            "Epoch 69/100\n",
            "87/87 [==============================] - 2s 23ms/step - loss: 0.0721 - accuracy: 0.9189 - val_loss: 0.0718 - val_accuracy: 0.9205\n",
            "Epoch 70/100\n",
            "87/87 [==============================] - 2s 21ms/step - loss: 0.0716 - accuracy: 0.9207 - val_loss: 0.0720 - val_accuracy: 0.9206\n",
            "Epoch 71/100\n",
            "87/87 [==============================] - 2s 21ms/step - loss: 0.0715 - accuracy: 0.9204 - val_loss: 0.0724 - val_accuracy: 0.9204\n",
            "Epoch 72/100\n",
            "87/87 [==============================] - 2s 22ms/step - loss: 0.0717 - accuracy: 0.9195 - val_loss: 0.0723 - val_accuracy: 0.9205\n",
            "Epoch 73/100\n",
            "87/87 [==============================] - 2s 22ms/step - loss: 0.0723 - accuracy: 0.9194 - val_loss: 0.0725 - val_accuracy: 0.9204\n",
            "Epoch 74/100\n",
            "87/87 [==============================] - 2s 23ms/step - loss: 0.0720 - accuracy: 0.9207 - val_loss: 0.0768 - val_accuracy: 0.8694\n",
            "Epoch 75/100\n",
            "87/87 [==============================] - 2s 24ms/step - loss: 0.0733 - accuracy: 0.9147 - val_loss: 0.0719 - val_accuracy: 0.9207\n",
            "Epoch 76/100\n",
            "87/87 [==============================] - 2s 21ms/step - loss: 0.0713 - accuracy: 0.9201 - val_loss: 0.0717 - val_accuracy: 0.9202\n",
            "Epoch 77/100\n",
            "87/87 [==============================] - 2s 19ms/step - loss: 0.0710 - accuracy: 0.9214 - val_loss: 0.0719 - val_accuracy: 0.9203\n",
            "Epoch 78/100\n",
            "87/87 [==============================] - 2s 21ms/step - loss: 0.0712 - accuracy: 0.9200 - val_loss: 0.0728 - val_accuracy: 0.9204\n",
            "Epoch 79/100\n",
            "87/87 [==============================] - 2s 22ms/step - loss: 0.0714 - accuracy: 0.9205 - val_loss: 0.0730 - val_accuracy: 0.9207\n",
            "Epoch 80/100\n",
            "87/87 [==============================] - 2s 20ms/step - loss: 0.0720 - accuracy: 0.9197 - val_loss: 0.0716 - val_accuracy: 0.9205\n",
            "Epoch 81/100\n",
            "87/87 [==============================] - 2s 19ms/step - loss: 0.0720 - accuracy: 0.9193 - val_loss: 0.0729 - val_accuracy: 0.9199\n",
            "Epoch 82/100\n",
            "87/87 [==============================] - 2s 20ms/step - loss: 0.0712 - accuracy: 0.9211 - val_loss: 0.0720 - val_accuracy: 0.9200\n",
            "Epoch 83/100\n",
            "87/87 [==============================] - 2s 20ms/step - loss: 0.0716 - accuracy: 0.9204 - val_loss: 0.0717 - val_accuracy: 0.9204\n",
            "Epoch 84/100\n",
            "87/87 [==============================] - 2s 21ms/step - loss: 0.0711 - accuracy: 0.9206 - val_loss: 0.0718 - val_accuracy: 0.9208\n",
            "Epoch 85/100\n",
            "87/87 [==============================] - 2s 20ms/step - loss: 0.0705 - accuracy: 0.9209 - val_loss: 0.0788 - val_accuracy: 0.9210\n",
            "Epoch 86/100\n",
            "87/87 [==============================] - 2s 20ms/step - loss: 0.0724 - accuracy: 0.9209 - val_loss: 0.0723 - val_accuracy: 0.9208\n",
            "Epoch 87/100\n",
            "87/87 [==============================] - 2s 21ms/step - loss: 0.0712 - accuracy: 0.9196 - val_loss: 0.0718 - val_accuracy: 0.9210\n",
            "Epoch 88/100\n",
            "87/87 [==============================] - 2s 22ms/step - loss: 0.0713 - accuracy: 0.9209 - val_loss: 0.0716 - val_accuracy: 0.9204\n",
            "Epoch 89/100\n",
            "87/87 [==============================] - 2s 21ms/step - loss: 0.0719 - accuracy: 0.9197 - val_loss: 0.0712 - val_accuracy: 0.9213\n",
            "Epoch 90/100\n",
            "87/87 [==============================] - 2s 21ms/step - loss: 0.0727 - accuracy: 0.9181 - val_loss: 0.0714 - val_accuracy: 0.9209\n",
            "Epoch 91/100\n",
            "87/87 [==============================] - 2s 22ms/step - loss: 0.0702 - accuracy: 0.9213 - val_loss: 0.0714 - val_accuracy: 0.9211\n",
            "Epoch 92/100\n",
            "87/87 [==============================] - 2s 22ms/step - loss: 0.0707 - accuracy: 0.9202 - val_loss: 0.0738 - val_accuracy: 0.9174\n",
            "Epoch 93/100\n",
            "87/87 [==============================] - 2s 21ms/step - loss: 0.0708 - accuracy: 0.9198 - val_loss: 0.0722 - val_accuracy: 0.9213\n",
            "Epoch 94/100\n",
            "87/87 [==============================] - 2s 20ms/step - loss: 0.0711 - accuracy: 0.9203 - val_loss: 0.0711 - val_accuracy: 0.9208\n",
            "Epoch 95/100\n",
            "87/87 [==============================] - 2s 20ms/step - loss: 0.0716 - accuracy: 0.9195 - val_loss: 0.0718 - val_accuracy: 0.9213\n",
            "Epoch 96/100\n",
            "87/87 [==============================] - 2s 21ms/step - loss: 0.0711 - accuracy: 0.9214 - val_loss: 0.0714 - val_accuracy: 0.9209\n",
            "Epoch 97/100\n",
            "87/87 [==============================] - 2s 19ms/step - loss: 0.0724 - accuracy: 0.9200 - val_loss: 0.0713 - val_accuracy: 0.9207\n",
            "Epoch 98/100\n",
            "87/87 [==============================] - 2s 21ms/step - loss: 0.0709 - accuracy: 0.9221 - val_loss: 0.0712 - val_accuracy: 0.9213\n",
            "Epoch 99/100\n",
            "87/87 [==============================] - 2s 22ms/step - loss: 0.0703 - accuracy: 0.9218 - val_loss: 0.0715 - val_accuracy: 0.9209\n",
            "Epoch 100/100\n",
            "87/87 [==============================] - 2s 21ms/step - loss: 0.0713 - accuracy: 0.9203 - val_loss: 0.0713 - val_accuracy: 0.9214\n"
          ],
          "name": "stdout"
        }
      ]
    },
    {
      "cell_type": "code",
      "metadata": {
        "colab": {
          "base_uri": "https://localhost:8080/"
        },
        "id": "ZgFh6eY-RogJ",
        "outputId": "6b00474b-d40d-4194-dc70-e71eb8a0075a"
      },
      "source": [
        "from sklearn.metrics import classification_report\r\n",
        "from sklearn.metrics import precision_recall_fscore_support\r\n",
        "loss, accuracy = model.evaluate(X_test,y_test)\r\n",
        "print(\"\\nLoss: %.2f, Accuracy: %.2f%%\" % (loss, accuracy*100))\r\n",
        "y_pred = model.predict_classes(X_test)\r\n",
        "target_names = ['Normal', 'Dos', 'Probe','R2L', 'U2R']\r\n",
        "print(classification_report(y_true = np.transpose(test_y[0]), y_pred = y_pred))\r\n",
        "#print(accuracy_score(y_true = np.transpose(test_y[0]), y_pred = y_pred))\r\n",
        "print(\"execution time :  \",finish_time)"
      ],
      "execution_count": null,
      "outputs": [
        {
          "output_type": "stream",
          "text": [
            "705/705 [==============================] - 1s 1ms/step - loss: 0.8132 - accuracy: 0.4852\n",
            "\n",
            "Loss: 0.81, Accuracy: 48.52%\n"
          ],
          "name": "stdout"
        },
        {
          "output_type": "stream",
          "text": [
            "/usr/local/lib/python3.7/dist-packages/tensorflow/python/keras/engine/sequential.py:450: UserWarning: `model.predict_classes()` is deprecated and will be removed after 2021-01-01. Please use instead:* `np.argmax(model.predict(x), axis=-1)`,   if your model does multi-class classification   (e.g. if it uses a `softmax` last-layer activation).* `(model.predict(x) > 0.5).astype(\"int32\")`,   if your model does binary classification   (e.g. if it uses a `sigmoid` last-layer activation).\n",
            "  warnings.warn('`model.predict_classes()` is deprecated and '\n"
          ],
          "name": "stderr"
        },
        {
          "output_type": "stream",
          "text": [
            "              precision    recall  f1-score   support\n",
            "\n",
            "           0       0.46      0.21      0.29      7458\n",
            "           1       0.55      0.87      0.68      9710\n",
            "           2       0.00      0.00      0.00      2421\n",
            "           3       0.24      0.34      0.29      2754\n",
            "           4       0.00      0.00      0.00       200\n",
            "\n",
            "    accuracy                           0.49     22543\n",
            "   macro avg       0.25      0.28      0.25     22543\n",
            "weighted avg       0.42      0.49      0.42     22543\n",
            "\n",
            "execution time :   187.6243758201599\n"
          ],
          "name": "stdout"
        },
        {
          "output_type": "stream",
          "text": [
            "/usr/local/lib/python3.7/dist-packages/sklearn/metrics/_classification.py:1272: UndefinedMetricWarning: Precision and F-score are ill-defined and being set to 0.0 in labels with no predicted samples. Use `zero_division` parameter to control this behavior.\n",
            "  _warn_prf(average, modifier, msg_start, len(result))\n"
          ],
          "name": "stderr"
        }
      ]
    },
    {
      "cell_type": "code",
      "metadata": {
        "colab": {
          "base_uri": "https://localhost:8080/"
        },
        "id": "bBLLxMkV25MY",
        "outputId": "1cd20db3-6f7d-45b6-e3d5-521895213215"
      },
      "source": [
        "model.metrics_names"
      ],
      "execution_count": null,
      "outputs": [
        {
          "output_type": "execute_result",
          "data": {
            "text/plain": [
              "['loss', 'accuracy']"
            ]
          },
          "metadata": {
            "tags": []
          },
          "execution_count": 116
        }
      ]
    },
    {
      "cell_type": "code",
      "metadata": {
        "colab": {
          "base_uri": "https://localhost:8080/"
        },
        "id": "jqrg8ftGdlZd",
        "outputId": "aace09a7-f2e0-47bb-adba-465e6711a6c6"
      },
      "source": [
        "test_y.sh"
      ],
      "execution_count": null,
      "outputs": [
        {
          "output_type": "execute_result",
          "data": {
            "text/plain": [
              "array([0, 0, 1, ..., 0, 0, 0])"
            ]
          },
          "metadata": {
            "tags": []
          },
          "execution_count": 51
        }
      ]
    },
    {
      "cell_type": "code",
      "metadata": {
        "colab": {
          "base_uri": "https://localhost:8080/"
        },
        "id": "cPW7sxx-yiwT",
        "outputId": "72de27e0-0eaa-46a9-ccfa-5e71a66065a6"
      },
      "source": [
        "s= np.transpose(test_y[0])\r\n",
        "s.shape"
      ],
      "execution_count": null,
      "outputs": [
        {
          "output_type": "execute_result",
          "data": {
            "text/plain": [
              "(22543,)"
            ]
          },
          "metadata": {
            "tags": []
          },
          "execution_count": 46
        }
      ]
    },
    {
      "cell_type": "code",
      "metadata": {
        "colab": {
          "base_uri": "https://localhost:8080/"
        },
        "id": "c98fMqo4yf5b",
        "outputId": "82a77c16-52b0-4d62-b7c4-3bc1116832bb"
      },
      "source": [
        "y_pred.shape"
      ],
      "execution_count": null,
      "outputs": [
        {
          "output_type": "execute_result",
          "data": {
            "text/plain": [
              "(22543, 1)"
            ]
          },
          "metadata": {
            "tags": []
          },
          "execution_count": 36
        }
      ]
    },
    {
      "cell_type": "code",
      "metadata": {
        "id": "5vn7ng4MLMOb"
      },
      "source": [
        "from sklearn.metrics import accuracy_score, f1_score, precision_score, recall_score, classification_report, confusion_matrix,  roc_auc_score, roc_curve\r\n",
        "import sklearn.metrics as metrics\r\n",
        "model.compile(loss='categorical_crossentropy',optimizer='adam',metrics=['accuracy'])\r\n",
        "score = model.evaluate(X_test, y_test, batch_size)\r\n",
        "y_pred = model.predict(X_test, batch_size= batch_size)\r\n",
        "y_pred = y_pred.astype('int')\r\n",
        "#y_pred = [np.round(x) for x in y_pred]\r\n",
        "#y_pred = np.array(y_pred)\r\n",
        "y2 = np.array(test_y[0])\r\n",
        "\r\n",
        "#print(y2)\r\n",
        "print(classification_report(y_test,y_pred,\"multiclass\"))\r\n",
        "cm = confusion_matrix(y2.argmax(axis=1), y_pred.argmax(axis=1))\r\n",
        "print(cm)\r\n",
        "\r\n",
        "\r\n",
        "probs = model.predict_proba(X_test,batch_size=batch_size)\r\n",
        "#y_preds = np.transpose([pred[:, 1] for pred in probs])\r\n",
        "#y_preds=y_preds.reshape(1,-1)\r\n",
        "fpr, tpr, threshold = metrics.roc_auc_score(y_score==np.transpose(y_test),y_true= np.transpose(probs),multi_class='ovo')\r\n",
        "roc_auc = metrics.auc(fpr, tpr)\r\n",
        "\r\n",
        "# method I: plt\r\n",
        "import matplotlib.pyplot as plt\r\n",
        "plt.title('Receiver Operating Characteristic')\r\n",
        "plt.plot(fpr, tpr, 'b', label = 'AUC = %0.2f' % roc_auc)\r\n",
        "plt.legend(loc = 'lower right')\r\n",
        "plt.plot([0, 1], [0, 1],'r--')\r\n",
        "plt.xlim([0, 1])\r\n",
        "plt.ylim([0, 1])\r\n",
        "plt.ylabel('True Positive Rate')\r\n",
        "plt.xlabel('False Positive Rate')\r\n",
        "plt.show()"
      ],
      "execution_count": null,
      "outputs": []
    },
    {
      "cell_type": "code",
      "metadata": {
        "colab": {
          "base_uri": "https://localhost:8080/"
        },
        "id": "B5ojJxnFa2aF",
        "outputId": "28466071-306a-4e2b-cba4-bbd039f3f64f"
      },
      "source": [
        "y2"
      ],
      "execution_count": null,
      "outputs": [
        {
          "output_type": "execute_result",
          "data": {
            "text/plain": [
              "array([0, 0, 1, ..., 0, 1, 2])"
            ]
          },
          "metadata": {
            "tags": []
          },
          "execution_count": 80
        }
      ]
    },
    {
      "cell_type": "code",
      "metadata": {
        "id": "bq6QuCZu2BgD"
      },
      "source": [
        "# try using different optimizers and different optimizer configs\r\n",
        "model.compile(loss='categorical_crossentropy',optimizer='adam',metrics=['accuracy'])\r\n",
        "#checkpointer = callbacks.ModelCheckpoint(filepath=\"kddresults/lstm1layer/checkpoint-{epoch:02d}.hdf5\", verbose=1, save_best_only=True, monitor='val_acc',mode='max')\r\n",
        "#csv_logger = CSVLogger('training_set.csv',separator=',', append=False)\r\n",
        "start_time = time.time()\r\n",
        "model.fit(X_train, y_train, batch_size=batch_size, epochs=2, validation_split=.2)#,callbacks=[checkpointer,csv_logger]\r\n",
        "finish_time = time.time() - start_time\r\n"
      ],
      "execution_count": null,
      "outputs": []
    },
    {
      "cell_type": "code",
      "metadata": {
        "id": "ieGpV2zYXZwV"
      },
      "source": [
        "#saving model\r\n",
        "model.save(\"/content/drive/MyDrive/NSL-KDD_results_3LSTM_1Dense_20epoch_1batch_model.h5\")"
      ],
      "execution_count": null,
      "outputs": []
    },
    {
      "cell_type": "code",
      "metadata": {
        "colab": {
          "base_uri": "https://localhost:8080/"
        },
        "id": "5xLvXBh0SyWh",
        "outputId": "5f8c4d80-d3a3-4c10-c1d7-aaf4d59dddb8"
      },
      "source": [
        "from keras.models import load_model\r\n",
        "#model = load_model('/content/drive/MyDrive/NSL-KDD_results_SimpleRNN_model.hdf5')\r\n",
        "loss, accuracy = model.evaluate(X_test, y_test)\r\n",
        "print(\"\\nLoss: %.2f, Accuracy: %.2f%%\" % (loss, accuracy*100))\r\n",
        "\r\n",
        "#print(\"--- %s seconds ---\",finish_time)\r\n",
        "y_pred = model.predict_classes(X_train)\r\n",
        "#np.savetxt('/content/drive/MyDrive/NSL-KDD_results_SimpleRNN_predicted.txt', np.transpose([y_test,y_pred]), fmt='%s')"
      ],
      "execution_count": null,
      "outputs": [
        {
          "output_type": "stream",
          "text": [
            "705/705 [==============================] - 4s 5ms/step - loss: 4.9965 - accuracy: 0.0768\n",
            "\n",
            "Loss: 5.00, Accuracy: 7.68%\n",
            "WARNING:tensorflow:Model was constructed with shape (None, 41) for input KerasTensor(type_spec=TensorSpec(shape=(None, 41), dtype=tf.float32, name='dense_35_input'), name='dense_35_input', description=\"created by layer 'dense_35_input'\"), but it was called on an input with incompatible shape (None, 1, 41).\n"
          ],
          "name": "stdout"
        },
        {
          "output_type": "stream",
          "text": [
            "/usr/local/lib/python3.7/dist-packages/tensorflow/python/keras/engine/sequential.py:450: UserWarning: `model.predict_classes()` is deprecated and will be removed after 2021-01-01. Please use instead:* `np.argmax(model.predict(x), axis=-1)`,   if your model does multi-class classification   (e.g. if it uses a `softmax` last-layer activation).* `(model.predict(x) > 0.5).astype(\"int32\")`,   if your model does binary classification   (e.g. if it uses a `sigmoid` last-layer activation).\n",
            "  warnings.warn('`model.predict_classes()` is deprecated and '\n"
          ],
          "name": "stderr"
        }
      ]
    },
    {
      "cell_type": "code",
      "metadata": {
        "colab": {
          "base_uri": "https://localhost:8080/"
        },
        "id": "QRdRVMFrQSrR",
        "outputId": "d2a8581b-03d8-4ceb-f4ef-b734c10842eb"
      },
      "source": [
        "print(y_train)\r\n",
        "y_pred"
      ],
      "execution_count": null,
      "outputs": [
        {
          "output_type": "stream",
          "text": [
            "[[[1 0 0 0 0]]\n",
            "\n",
            " [[1 0 0 0 0]]\n",
            "\n",
            " [[0 1 0 0 0]]\n",
            "\n",
            " ...\n",
            "\n",
            " [[1 0 0 0 0]]\n",
            "\n",
            " [[0 1 0 0 0]]\n",
            "\n",
            " [[1 0 0 0 0]]]\n"
          ],
          "name": "stdout"
        },
        {
          "output_type": "execute_result",
          "data": {
            "text/plain": [
              "array([[0],\n",
              "       [0],\n",
              "       [1],\n",
              "       ...,\n",
              "       [0],\n",
              "       [1],\n",
              "       [0]])"
            ]
          },
          "metadata": {
            "tags": []
          },
          "execution_count": 27
        }
      ]
    },
    {
      "cell_type": "code",
      "metadata": {
        "colab": {
          "base_uri": "https://localhost:8080/"
        },
        "id": "kqAFEhU4_CMH",
        "outputId": "dc7ca7e5-50c4-4595-ba53-6ba7104f0767"
      },
      "source": [
        "42 col pca 80% : b_s=256 epochs= 300 Lstm(32,32)->Dense(256,128,64,ytrain.shape(2))   ->   accuracy = 62.8%\r\n",
        "\r\n",
        "\r\n",
        "24 col normalisé : b_s=1024 epochs= 100 Lstm(32,32)->Dense(256,128,64,16,ytrain.shape(2))   ->   accuracy = 83.73%\r\n",
        "24 col pca 80% : b_s=1024 epochs= 100 Lstm(32,32)->Dense(256,128,64,16,ytrain.shape(2))   ->   accuracy = 40.28%\r\n",
        "42 col normalisé : b_s=1024 epochs= 100 Lstm(32,32)->Dense(256,128,64,16,ytrain.shape(2))   ->   accuracy = 48.52%\r\n",
        "42 col pca 80% : b_s=1024 epochs= 100 Lstm(32,32)->Dense(256,128,64,16,ytrain.shape(2))   ->   accuracy = 45.22%\r\n"
      ],
      "execution_count": null,
      "outputs": [
        {
          "output_type": "stream",
          "text": [
            "<tensorflow.python.keras.engine.sequential.Sequential object at 0x7f324f860ba8>\n"
          ],
          "name": "stdout"
        }
      ]
    },
    {
      "cell_type": "code",
      "metadata": {
        "colab": {
          "base_uri": "https://localhost:8080/",
          "height": 1000
        },
        "id": "ZpW4B3GT5_ac",
        "outputId": "fb3d66bb-ec6d-45b3-d3f4-e6c73d38cc97"
      },
      "source": [
        "batch_size= 1024\r\n",
        "lrate = 0.1\r\n",
        "model = Sequential()\r\n",
        "model.add(Dense(X_train.shape[1], input_dim=X_train.shape[2], activation='relu', kernel_initializer='he_uniform'))\r\n",
        "model.add(Dense(1024, input_dim=X_train.shape[2], activation='relu', kernel_initializer='he_uniform'))\r\n",
        "model.add(Dropout(0.1))\r\n",
        "model.add(Dense(768, input_dim=X_train.shape[2], activation='relu', kernel_initializer='he_uniform'))\r\n",
        "model.add(Dropout(0.1))\r\n",
        "model.add(Dense(512, input_dim=X_train.shape[2], activation='relu', kernel_initializer='he_uniform'))\r\n",
        "model.add(Dropout(0.1))\r\n",
        "model.add(Dense(256, input_dim=X_train.shape[2], activation='relu', kernel_initializer='he_uniform'))\r\n",
        "model.add(Dropout(0.1))\r\n",
        "model.add(Dense(128, input_dim=X_train.shape[2], activation='relu', kernel_initializer='he_uniform'))\r\n",
        "model.add(Dropout(0.1))\r\n",
        "model.add(Dense(y_train.shape[2], activation='softmax'))\r\n",
        "\t# compile model\r\n",
        "opt = SGD(lr=lrate)\r\n",
        "model.compile(loss='categorical_crossentropy', optimizer=opt, metrics=['accuracy'])\r\n",
        "# fit model\r\n",
        "history = model.fit(X_train, y_train, validation_split=.3,batch_size=batch_size, epochs=200, verbose=1)\r\n",
        "# plot learning curves\r\n",
        "pyplot.plot(history.history['accuracy'], label='train')\r\n",
        "pyplot.plot(history.history['val_accuracy'], label='test')\r\n",
        "pyplot.title('lrate='+str(lrate), pad=-50)"
      ],
      "execution_count": null,
      "outputs": [
        {
          "output_type": "stream",
          "text": [
            "Epoch 1/200\n",
            "WARNING:tensorflow:Model was constructed with shape (None, 41) for input KerasTensor(type_spec=TensorSpec(shape=(None, 41), dtype=tf.float32, name='dense_35_input'), name='dense_35_input', description=\"created by layer 'dense_35_input'\"), but it was called on an input with incompatible shape (None, 1, 41).\n",
            "WARNING:tensorflow:Model was constructed with shape (None, 41) for input KerasTensor(type_spec=TensorSpec(shape=(None, 41), dtype=tf.float32, name='dense_35_input'), name='dense_35_input', description=\"created by layer 'dense_35_input'\"), but it was called on an input with incompatible shape (None, 1, 41).\n",
            "86/87 [============================>.] - ETA: 0s - loss: 0.7423 - accuracy: 0.8581WARNING:tensorflow:Model was constructed with shape (None, 41) for input KerasTensor(type_spec=TensorSpec(shape=(None, 41), dtype=tf.float32, name='dense_35_input'), name='dense_35_input', description=\"created by layer 'dense_35_input'\"), but it was called on an input with incompatible shape (None, 1, 41).\n",
            "87/87 [==============================] - 19s 213ms/step - loss: 0.7370 - accuracy: 0.8585 - val_loss: 0.3572 - val_accuracy: 0.8837\n",
            "Epoch 2/200\n",
            "87/87 [==============================] - 18s 209ms/step - loss: 0.3681 - accuracy: 0.8877 - val_loss: 0.3436 - val_accuracy: 0.8844\n",
            "Epoch 3/200\n",
            "87/87 [==============================] - 18s 209ms/step - loss: 0.3022 - accuracy: 0.9119 - val_loss: 0.2939 - val_accuracy: 0.9272\n",
            "Epoch 4/200\n",
            "87/87 [==============================] - 18s 209ms/step - loss: 0.2836 - accuracy: 0.9293 - val_loss: 0.3055 - val_accuracy: 0.9267\n",
            "Epoch 5/200\n",
            "87/87 [==============================] - 18s 209ms/step - loss: 0.2827 - accuracy: 0.9313 - val_loss: 0.2542 - val_accuracy: 0.9473\n",
            "Epoch 6/200\n",
            "87/87 [==============================] - 18s 210ms/step - loss: 0.2582 - accuracy: 0.9420 - val_loss: 0.2374 - val_accuracy: 0.9488\n",
            "Epoch 7/200\n",
            "87/87 [==============================] - 18s 208ms/step - loss: 0.2588 - accuracy: 0.9400 - val_loss: 0.2476 - val_accuracy: 0.9464\n",
            "Epoch 8/200\n",
            "87/87 [==============================] - 18s 209ms/step - loss: 0.2555 - accuracy: 0.9400 - val_loss: 0.3310 - val_accuracy: 0.8963\n",
            "Epoch 9/200\n",
            "87/87 [==============================] - 18s 209ms/step - loss: 0.2528 - accuracy: 0.9415 - val_loss: 0.2247 - val_accuracy: 0.9501\n",
            "Epoch 10/200\n",
            "87/87 [==============================] - 18s 210ms/step - loss: 0.2695 - accuracy: 0.9371 - val_loss: 0.2207 - val_accuracy: 0.9505\n",
            "Epoch 11/200\n",
            "87/87 [==============================] - 18s 208ms/step - loss: 0.2311 - accuracy: 0.9490 - val_loss: 0.4212 - val_accuracy: 0.8803\n",
            "Epoch 12/200\n",
            "87/87 [==============================] - 18s 209ms/step - loss: 0.2685 - accuracy: 0.9375 - val_loss: 0.2170 - val_accuracy: 0.9515\n",
            "Epoch 13/200\n",
            "87/87 [==============================] - 18s 209ms/step - loss: 0.2264 - accuracy: 0.9506 - val_loss: 0.2196 - val_accuracy: 0.9513\n",
            "Epoch 14/200\n",
            "87/87 [==============================] - 18s 209ms/step - loss: 0.2262 - accuracy: 0.9500 - val_loss: 0.2161 - val_accuracy: 0.9503\n",
            "Epoch 15/200\n",
            "87/87 [==============================] - 21s 238ms/step - loss: 0.2222 - accuracy: 0.9508 - val_loss: 0.2177 - val_accuracy: 0.9522\n",
            "Epoch 16/200\n",
            "87/87 [==============================] - 18s 209ms/step - loss: 0.2222 - accuracy: 0.9512 - val_loss: 0.3294 - val_accuracy: 0.8923\n",
            "Epoch 17/200\n",
            "87/87 [==============================] - 18s 208ms/step - loss: 0.2303 - accuracy: 0.9480 - val_loss: 0.2198 - val_accuracy: 0.9513\n",
            "Epoch 18/200\n",
            "87/87 [==============================] - 18s 209ms/step - loss: 0.2245 - accuracy: 0.9500 - val_loss: 0.2200 - val_accuracy: 0.9510\n",
            "Epoch 19/200\n",
            "87/87 [==============================] - 18s 209ms/step - loss: 0.2257 - accuracy: 0.9496 - val_loss: 0.2113 - val_accuracy: 0.9516\n",
            "Epoch 20/200\n",
            "87/87 [==============================] - 18s 209ms/step - loss: 0.2236 - accuracy: 0.9504 - val_loss: 0.2819 - val_accuracy: 0.9320\n",
            "Epoch 21/200\n",
            "87/87 [==============================] - 18s 209ms/step - loss: 0.2268 - accuracy: 0.9479 - val_loss: 0.6602 - val_accuracy: 0.8775\n",
            "Epoch 22/200\n",
            "87/87 [==============================] - 18s 209ms/step - loss: 0.3859 - accuracy: 0.9184 - val_loss: 0.2561 - val_accuracy: 0.9397\n",
            "Epoch 23/200\n",
            "87/87 [==============================] - 18s 210ms/step - loss: 0.2288 - accuracy: 0.9487 - val_loss: 0.2637 - val_accuracy: 0.9312\n",
            "Epoch 24/200\n",
            "87/87 [==============================] - 18s 209ms/step - loss: 0.2267 - accuracy: 0.9499 - val_loss: 0.2103 - val_accuracy: 0.9529\n",
            "Epoch 25/200\n",
            "87/87 [==============================] - 18s 209ms/step - loss: 0.2170 - accuracy: 0.9519 - val_loss: 0.2149 - val_accuracy: 0.9503\n",
            "Epoch 26/200\n",
            "87/87 [==============================] - 18s 210ms/step - loss: 0.2183 - accuracy: 0.9511 - val_loss: 0.2336 - val_accuracy: 0.9466\n",
            "Epoch 27/200\n",
            "87/87 [==============================] - 18s 211ms/step - loss: 0.2152 - accuracy: 0.9524 - val_loss: 0.2129 - val_accuracy: 0.9519\n",
            "Epoch 28/200\n",
            "87/87 [==============================] - 18s 209ms/step - loss: 0.2204 - accuracy: 0.9504 - val_loss: 0.2444 - val_accuracy: 0.9437\n",
            "Epoch 29/200\n",
            "87/87 [==============================] - 18s 209ms/step - loss: 0.2182 - accuracy: 0.9514 - val_loss: 0.2323 - val_accuracy: 0.9459\n",
            "Epoch 30/200\n",
            "87/87 [==============================] - 18s 209ms/step - loss: 0.2193 - accuracy: 0.9515 - val_loss: 0.2125 - val_accuracy: 0.9514\n",
            "Epoch 31/200\n",
            "87/87 [==============================] - 18s 209ms/step - loss: 0.2197 - accuracy: 0.9505 - val_loss: 0.2088 - val_accuracy: 0.9525\n",
            "Epoch 32/200\n",
            "87/87 [==============================] - 18s 210ms/step - loss: 0.2147 - accuracy: 0.9529 - val_loss: 0.2184 - val_accuracy: 0.9495\n",
            "Epoch 33/200\n",
            "87/87 [==============================] - 18s 210ms/step - loss: 0.2167 - accuracy: 0.9521 - val_loss: 0.2315 - val_accuracy: 0.9450\n",
            "Epoch 34/200\n",
            "87/87 [==============================] - 18s 209ms/step - loss: 0.2184 - accuracy: 0.9519 - val_loss: 0.2045 - val_accuracy: 0.9537\n",
            "Epoch 35/200\n",
            "87/87 [==============================] - 18s 209ms/step - loss: 0.2151 - accuracy: 0.9528 - val_loss: 0.2127 - val_accuracy: 0.9508\n",
            "Epoch 36/200\n",
            "87/87 [==============================] - 18s 208ms/step - loss: 0.2145 - accuracy: 0.9523 - val_loss: 0.2033 - val_accuracy: 0.9531\n",
            "Epoch 37/200\n",
            "87/87 [==============================] - 18s 209ms/step - loss: 0.2177 - accuracy: 0.9511 - val_loss: 0.2156 - val_accuracy: 0.9503\n",
            "Epoch 38/200\n",
            "87/87 [==============================] - 18s 209ms/step - loss: 0.2194 - accuracy: 0.9516 - val_loss: 0.2691 - val_accuracy: 0.9330\n",
            "Epoch 39/200\n",
            "87/87 [==============================] - 18s 210ms/step - loss: 0.2170 - accuracy: 0.9500 - val_loss: 0.2707 - val_accuracy: 0.9179\n",
            "Epoch 40/200\n",
            "87/87 [==============================] - 18s 209ms/step - loss: 0.2179 - accuracy: 0.9502 - val_loss: 0.2056 - val_accuracy: 0.9536\n",
            "Epoch 41/200\n",
            "87/87 [==============================] - 18s 209ms/step - loss: 0.2216 - accuracy: 0.9496 - val_loss: 0.2063 - val_accuracy: 0.9535\n",
            "Epoch 42/200\n",
            "87/87 [==============================] - 18s 209ms/step - loss: 0.2139 - accuracy: 0.9530 - val_loss: 0.2396 - val_accuracy: 0.9479\n",
            "Epoch 43/200\n",
            "87/87 [==============================] - 18s 209ms/step - loss: 0.2148 - accuracy: 0.9524 - val_loss: 0.2068 - val_accuracy: 0.9520\n",
            "Epoch 44/200\n",
            "87/87 [==============================] - 18s 212ms/step - loss: 0.2131 - accuracy: 0.9526 - val_loss: 0.2103 - val_accuracy: 0.9519\n",
            "Epoch 45/200\n",
            "87/87 [==============================] - 18s 210ms/step - loss: 0.2170 - accuracy: 0.9521 - val_loss: 0.2079 - val_accuracy: 0.9535\n",
            "Epoch 46/200\n",
            "87/87 [==============================] - 18s 209ms/step - loss: 0.2112 - accuracy: 0.9533 - val_loss: 0.2274 - val_accuracy: 0.9474\n",
            "Epoch 47/200\n",
            "87/87 [==============================] - 18s 209ms/step - loss: 0.2189 - accuracy: 0.9514 - val_loss: 0.2134 - val_accuracy: 0.9530\n",
            "Epoch 48/200\n",
            "87/87 [==============================] - 18s 209ms/step - loss: 0.2115 - accuracy: 0.9534 - val_loss: 0.2257 - val_accuracy: 0.9488\n",
            "Epoch 49/200\n",
            "87/87 [==============================] - 18s 210ms/step - loss: 0.2080 - accuracy: 0.9541 - val_loss: 0.2116 - val_accuracy: 0.9507\n",
            "Epoch 50/200\n",
            "87/87 [==============================] - 18s 210ms/step - loss: 0.2144 - accuracy: 0.9528 - val_loss: 0.2536 - val_accuracy: 0.9390\n",
            "Epoch 51/200\n",
            "87/87 [==============================] - 18s 210ms/step - loss: 0.2271 - accuracy: 0.9484 - val_loss: 0.2034 - val_accuracy: 0.9533\n",
            "Epoch 52/200\n",
            "87/87 [==============================] - 18s 209ms/step - loss: 0.2135 - accuracy: 0.9523 - val_loss: 0.3280 - val_accuracy: 0.8927\n",
            "Epoch 53/200\n",
            "87/87 [==============================] - 18s 210ms/step - loss: 0.2145 - accuracy: 0.9518 - val_loss: 0.2248 - val_accuracy: 0.9458\n",
            "Epoch 54/200\n",
            "87/87 [==============================] - 18s 209ms/step - loss: 0.2132 - accuracy: 0.9527 - val_loss: 0.2101 - val_accuracy: 0.9514\n",
            "Epoch 55/200\n",
            "87/87 [==============================] - 18s 210ms/step - loss: 0.2075 - accuracy: 0.9539 - val_loss: 0.2315 - val_accuracy: 0.9448\n",
            "Epoch 56/200\n",
            "87/87 [==============================] - 18s 210ms/step - loss: 0.2110 - accuracy: 0.9530 - val_loss: 0.2042 - val_accuracy: 0.9522\n",
            "Epoch 57/200\n",
            "87/87 [==============================] - 18s 209ms/step - loss: 0.2135 - accuracy: 0.9529 - val_loss: 0.2145 - val_accuracy: 0.9517\n",
            "Epoch 58/200\n",
            "87/87 [==============================] - 18s 210ms/step - loss: 0.2114 - accuracy: 0.9529 - val_loss: 0.2112 - val_accuracy: 0.9523\n",
            "Epoch 59/200\n",
            "87/87 [==============================] - 18s 209ms/step - loss: 0.2173 - accuracy: 0.9512 - val_loss: 0.2029 - val_accuracy: 0.9536\n",
            "Epoch 60/200\n",
            "87/87 [==============================] - 18s 210ms/step - loss: 0.2088 - accuracy: 0.9535 - val_loss: 0.2103 - val_accuracy: 0.9535\n",
            "Epoch 61/200\n",
            "87/87 [==============================] - 18s 211ms/step - loss: 0.2111 - accuracy: 0.9530 - val_loss: 0.2558 - val_accuracy: 0.9346\n",
            "Epoch 62/200\n",
            "87/87 [==============================] - 18s 212ms/step - loss: 0.2135 - accuracy: 0.9522 - val_loss: 0.2354 - val_accuracy: 0.9474\n",
            "Epoch 63/200\n",
            "87/87 [==============================] - 18s 209ms/step - loss: 0.2099 - accuracy: 0.9539 - val_loss: 0.2840 - val_accuracy: 0.9311\n",
            "Epoch 64/200\n",
            "87/87 [==============================] - 18s 209ms/step - loss: 0.2200 - accuracy: 0.9497 - val_loss: 0.2304 - val_accuracy: 0.9484\n",
            "Epoch 65/200\n",
            "87/87 [==============================] - 18s 209ms/step - loss: 0.2138 - accuracy: 0.9522 - val_loss: 0.2145 - val_accuracy: 0.9545\n",
            "Epoch 66/200\n",
            "87/87 [==============================] - 18s 210ms/step - loss: 0.2119 - accuracy: 0.9533 - val_loss: 0.2446 - val_accuracy: 0.9462\n",
            "Epoch 67/200\n",
            "87/87 [==============================] - 18s 209ms/step - loss: 0.2123 - accuracy: 0.9527 - val_loss: 0.2055 - val_accuracy: 0.9532\n",
            "Epoch 68/200\n",
            "87/87 [==============================] - 18s 210ms/step - loss: 0.2059 - accuracy: 0.9543 - val_loss: 0.2362 - val_accuracy: 0.9468\n",
            "Epoch 69/200\n",
            "87/87 [==============================] - 18s 210ms/step - loss: 0.2131 - accuracy: 0.9523 - val_loss: 0.3732 - val_accuracy: 0.8719\n",
            "Epoch 70/200\n",
            "87/87 [==============================] - 18s 209ms/step - loss: 0.2122 - accuracy: 0.9524 - val_loss: 0.2145 - val_accuracy: 0.9536\n",
            "Epoch 71/200\n",
            "87/87 [==============================] - 18s 210ms/step - loss: 0.2085 - accuracy: 0.9536 - val_loss: 0.2051 - val_accuracy: 0.9537\n",
            "Epoch 72/200\n",
            "87/87 [==============================] - 18s 210ms/step - loss: 0.2147 - accuracy: 0.9520 - val_loss: 0.2122 - val_accuracy: 0.9517\n",
            "Epoch 73/200\n",
            "87/87 [==============================] - 18s 211ms/step - loss: 0.2080 - accuracy: 0.9533 - val_loss: 0.2212 - val_accuracy: 0.9508\n",
            "Epoch 74/200\n",
            "87/87 [==============================] - 18s 210ms/step - loss: 0.2100 - accuracy: 0.9530 - val_loss: 0.2153 - val_accuracy: 0.9536\n",
            "Epoch 75/200\n",
            "87/87 [==============================] - 18s 210ms/step - loss: 0.2117 - accuracy: 0.9519 - val_loss: 0.2085 - val_accuracy: 0.9533\n",
            "Epoch 76/200\n",
            "87/87 [==============================] - 20s 226ms/step - loss: 0.2137 - accuracy: 0.9520 - val_loss: 0.2887 - val_accuracy: 0.9309\n",
            "Epoch 77/200\n",
            "87/87 [==============================] - 19s 213ms/step - loss: 0.2140 - accuracy: 0.9521 - val_loss: 0.2175 - val_accuracy: 0.9527\n",
            "Epoch 78/200\n",
            "87/87 [==============================] - 18s 210ms/step - loss: 0.2066 - accuracy: 0.9537 - val_loss: 0.2195 - val_accuracy: 0.9532\n",
            "Epoch 79/200\n",
            "87/87 [==============================] - 18s 212ms/step - loss: 0.2130 - accuracy: 0.9524 - val_loss: 0.2319 - val_accuracy: 0.9419\n",
            "Epoch 80/200\n",
            "87/87 [==============================] - 18s 212ms/step - loss: 0.2131 - accuracy: 0.9525 - val_loss: 0.2834 - val_accuracy: 0.9304\n",
            "Epoch 81/200\n",
            "87/87 [==============================] - 18s 210ms/step - loss: 0.2175 - accuracy: 0.9509 - val_loss: 0.2247 - val_accuracy: 0.9448\n",
            "Epoch 82/200\n",
            "87/87 [==============================] - 18s 210ms/step - loss: 0.2106 - accuracy: 0.9527 - val_loss: 0.2067 - val_accuracy: 0.9517\n",
            "Epoch 83/200\n",
            "87/87 [==============================] - 18s 212ms/step - loss: 0.2091 - accuracy: 0.9531 - val_loss: 0.2048 - val_accuracy: 0.9532\n",
            "Epoch 84/200\n",
            "87/87 [==============================] - 18s 210ms/step - loss: 0.2090 - accuracy: 0.9537 - val_loss: 0.2097 - val_accuracy: 0.9522\n",
            "Epoch 85/200\n",
            "87/87 [==============================] - 18s 210ms/step - loss: 0.2147 - accuracy: 0.9517 - val_loss: 0.2038 - val_accuracy: 0.9536\n",
            "Epoch 86/200\n",
            "87/87 [==============================] - 18s 210ms/step - loss: 0.2134 - accuracy: 0.9523 - val_loss: 0.2113 - val_accuracy: 0.9530\n",
            "Epoch 87/200\n",
            "87/87 [==============================] - 18s 211ms/step - loss: 0.2057 - accuracy: 0.9541 - val_loss: 0.2389 - val_accuracy: 0.9441\n",
            "Epoch 88/200\n",
            "87/87 [==============================] - 18s 210ms/step - loss: 0.2105 - accuracy: 0.9536 - val_loss: 0.2062 - val_accuracy: 0.9524\n",
            "Epoch 89/200\n",
            "87/87 [==============================] - 18s 210ms/step - loss: 0.2073 - accuracy: 0.9532 - val_loss: 0.2084 - val_accuracy: 0.9531\n",
            "Epoch 90/200\n",
            "87/87 [==============================] - 18s 210ms/step - loss: 0.2119 - accuracy: 0.9521 - val_loss: 0.2074 - val_accuracy: 0.9529\n",
            "Epoch 91/200\n",
            "87/87 [==============================] - 18s 210ms/step - loss: 0.2102 - accuracy: 0.9527 - val_loss: 0.2287 - val_accuracy: 0.9504\n",
            "Epoch 92/200\n",
            "87/87 [==============================] - 18s 210ms/step - loss: 0.2084 - accuracy: 0.9531 - val_loss: 0.2305 - val_accuracy: 0.9492\n",
            "Epoch 93/200\n",
            "87/87 [==============================] - 18s 211ms/step - loss: 0.2114 - accuracy: 0.9531 - val_loss: 0.2352 - val_accuracy: 0.9480\n",
            "Epoch 94/200\n",
            "87/87 [==============================] - 18s 211ms/step - loss: 0.2073 - accuracy: 0.9535 - val_loss: 0.2172 - val_accuracy: 0.9529\n",
            "Epoch 95/200\n",
            "87/87 [==============================] - 18s 209ms/step - loss: 0.2040 - accuracy: 0.9541 - val_loss: 0.2361 - val_accuracy: 0.9503\n",
            "Epoch 96/200\n",
            "87/87 [==============================] - 18s 211ms/step - loss: 0.2096 - accuracy: 0.9530 - val_loss: 0.2256 - val_accuracy: 0.9498\n",
            "Epoch 97/200\n",
            "87/87 [==============================] - 18s 210ms/step - loss: 0.2109 - accuracy: 0.9527 - val_loss: 0.2098 - val_accuracy: 0.9539\n",
            "Epoch 98/200\n",
            "87/87 [==============================] - 18s 211ms/step - loss: 0.2016 - accuracy: 0.9551 - val_loss: 0.2088 - val_accuracy: 0.9526\n",
            "Epoch 99/200\n",
            "87/87 [==============================] - 18s 211ms/step - loss: 0.2111 - accuracy: 0.9526 - val_loss: 0.3587 - val_accuracy: 0.9057\n",
            "Epoch 100/200\n",
            "87/87 [==============================] - 19s 214ms/step - loss: 0.2284 - accuracy: 0.9464 - val_loss: 0.2460 - val_accuracy: 0.9422\n",
            "Epoch 101/200\n",
            "87/87 [==============================] - 18s 211ms/step - loss: 0.2075 - accuracy: 0.9533 - val_loss: 0.2199 - val_accuracy: 0.9519\n",
            "Epoch 102/200\n",
            "87/87 [==============================] - 18s 211ms/step - loss: 0.2090 - accuracy: 0.9524 - val_loss: 0.2055 - val_accuracy: 0.9533\n",
            "Epoch 103/200\n",
            "87/87 [==============================] - 18s 211ms/step - loss: 0.2056 - accuracy: 0.9535 - val_loss: 0.2217 - val_accuracy: 0.9533\n",
            "Epoch 104/200\n",
            "87/87 [==============================] - 18s 211ms/step - loss: 0.2088 - accuracy: 0.9530 - val_loss: 0.2026 - val_accuracy: 0.9541\n",
            "Epoch 105/200\n",
            "87/87 [==============================] - 18s 211ms/step - loss: 0.2121 - accuracy: 0.9519 - val_loss: 0.2214 - val_accuracy: 0.9504\n",
            "Epoch 106/200\n",
            "87/87 [==============================] - 18s 210ms/step - loss: 0.2053 - accuracy: 0.9541 - val_loss: 0.2447 - val_accuracy: 0.9452\n",
            "Epoch 107/200\n",
            "87/87 [==============================] - 18s 211ms/step - loss: 0.2156 - accuracy: 0.9512 - val_loss: 0.2995 - val_accuracy: 0.9002\n",
            "Epoch 108/200\n",
            "87/87 [==============================] - 18s 211ms/step - loss: 0.2038 - accuracy: 0.9549 - val_loss: 0.2501 - val_accuracy: 0.9410\n",
            "Epoch 109/200\n",
            "87/87 [==============================] - 18s 210ms/step - loss: 0.2145 - accuracy: 0.9515 - val_loss: 0.2108 - val_accuracy: 0.9530\n",
            "Epoch 110/200\n",
            "87/87 [==============================] - 18s 211ms/step - loss: 0.2037 - accuracy: 0.9540 - val_loss: 0.2161 - val_accuracy: 0.9505\n",
            "Epoch 111/200\n",
            "87/87 [==============================] - 18s 211ms/step - loss: 0.2069 - accuracy: 0.9530 - val_loss: 0.2007 - val_accuracy: 0.9544\n",
            "Epoch 112/200\n",
            "87/87 [==============================] - 18s 211ms/step - loss: 0.2116 - accuracy: 0.9527 - val_loss: 0.2084 - val_accuracy: 0.9519\n",
            "Epoch 113/200\n",
            "87/87 [==============================] - 19s 214ms/step - loss: 0.2140 - accuracy: 0.9518 - val_loss: 0.2049 - val_accuracy: 0.9522\n",
            "Epoch 114/200\n",
            "87/87 [==============================] - 19s 213ms/step - loss: 0.2122 - accuracy: 0.9526 - val_loss: 0.2122 - val_accuracy: 0.9549\n",
            "Epoch 115/200\n",
            "87/87 [==============================] - 18s 211ms/step - loss: 0.2085 - accuracy: 0.9534 - val_loss: 0.2134 - val_accuracy: 0.9542\n",
            "Epoch 116/200\n",
            "87/87 [==============================] - 18s 212ms/step - loss: 0.2054 - accuracy: 0.9543 - val_loss: 0.2201 - val_accuracy: 0.9513\n",
            "Epoch 117/200\n",
            "87/87 [==============================] - 19s 214ms/step - loss: 0.2110 - accuracy: 0.9528 - val_loss: 0.2106 - val_accuracy: 0.9532\n",
            "Epoch 118/200\n",
            "87/87 [==============================] - 18s 211ms/step - loss: 0.2110 - accuracy: 0.9527 - val_loss: 0.2045 - val_accuracy: 0.9535\n",
            "Epoch 119/200\n",
            "87/87 [==============================] - 18s 211ms/step - loss: 0.2049 - accuracy: 0.9539 - val_loss: 0.2059 - val_accuracy: 0.9532\n",
            "Epoch 120/200\n",
            "87/87 [==============================] - 18s 212ms/step - loss: 0.2019 - accuracy: 0.9545 - val_loss: 0.2698 - val_accuracy: 0.9382\n",
            "Epoch 121/200\n",
            "87/87 [==============================] - 18s 212ms/step - loss: 0.2110 - accuracy: 0.9522 - val_loss: 0.2096 - val_accuracy: 0.9528\n",
            "Epoch 122/200\n",
            "87/87 [==============================] - 18s 211ms/step - loss: 0.2052 - accuracy: 0.9539 - val_loss: 0.2139 - val_accuracy: 0.9503\n",
            "Epoch 123/200\n",
            "87/87 [==============================] - 18s 212ms/step - loss: 0.2044 - accuracy: 0.9542 - val_loss: 0.2398 - val_accuracy: 0.9445\n",
            "Epoch 124/200\n",
            "87/87 [==============================] - 18s 212ms/step - loss: 0.2105 - accuracy: 0.9525 - val_loss: 0.2033 - val_accuracy: 0.9547\n",
            "Epoch 125/200\n",
            "87/87 [==============================] - 18s 212ms/step - loss: 0.2051 - accuracy: 0.9544 - val_loss: 0.2134 - val_accuracy: 0.9539\n",
            "Epoch 126/200\n",
            "87/87 [==============================] - 18s 211ms/step - loss: 0.2035 - accuracy: 0.9547 - val_loss: 0.2154 - val_accuracy: 0.9540\n",
            "Epoch 127/200\n",
            "87/87 [==============================] - 18s 211ms/step - loss: 0.2058 - accuracy: 0.9542 - val_loss: 0.2015 - val_accuracy: 0.9537\n",
            "Epoch 128/200\n",
            "87/87 [==============================] - 18s 211ms/step - loss: 0.2119 - accuracy: 0.9525 - val_loss: 0.2065 - val_accuracy: 0.9520\n",
            "Epoch 129/200\n",
            "87/87 [==============================] - 18s 211ms/step - loss: 0.2048 - accuracy: 0.9535 - val_loss: 0.5194 - val_accuracy: 0.8791\n",
            "Epoch 130/200\n",
            "87/87 [==============================] - 18s 212ms/step - loss: 0.2687 - accuracy: 0.9412 - val_loss: 0.2311 - val_accuracy: 0.9472\n",
            "Epoch 131/200\n",
            "87/87 [==============================] - 19s 216ms/step - loss: 0.2078 - accuracy: 0.9534 - val_loss: 0.2108 - val_accuracy: 0.9537\n",
            "Epoch 132/200\n",
            "87/87 [==============================] - 18s 212ms/step - loss: 0.2100 - accuracy: 0.9526 - val_loss: 0.2287 - val_accuracy: 0.9495\n",
            "Epoch 133/200\n",
            "87/87 [==============================] - 19s 213ms/step - loss: 0.2062 - accuracy: 0.9532 - val_loss: 0.2263 - val_accuracy: 0.9450\n",
            "Epoch 134/200\n",
            "87/87 [==============================] - 18s 211ms/step - loss: 0.2084 - accuracy: 0.9527 - val_loss: 0.2052 - val_accuracy: 0.9538\n",
            "Epoch 135/200\n",
            "87/87 [==============================] - 18s 212ms/step - loss: 0.2088 - accuracy: 0.9529 - val_loss: 0.2537 - val_accuracy: 0.9400\n",
            "Epoch 136/200\n",
            "87/87 [==============================] - 18s 211ms/step - loss: 0.2203 - accuracy: 0.9499 - val_loss: 0.3295 - val_accuracy: 0.9018\n",
            "Epoch 137/200\n",
            "87/87 [==============================] - 18s 212ms/step - loss: 0.2245 - accuracy: 0.9486 - val_loss: 0.2392 - val_accuracy: 0.9455\n",
            "Epoch 138/200\n",
            "87/87 [==============================] - 18s 211ms/step - loss: 0.2065 - accuracy: 0.9539 - val_loss: 0.2059 - val_accuracy: 0.9540\n",
            "Epoch 139/200\n",
            "87/87 [==============================] - 18s 212ms/step - loss: 0.2070 - accuracy: 0.9534 - val_loss: 0.2187 - val_accuracy: 0.9528\n",
            "Epoch 140/200\n",
            "87/87 [==============================] - 18s 212ms/step - loss: 0.2024 - accuracy: 0.9550 - val_loss: 0.2005 - val_accuracy: 0.9541\n",
            "Epoch 141/200\n",
            "87/87 [==============================] - 18s 212ms/step - loss: 0.2051 - accuracy: 0.9541 - val_loss: 0.2094 - val_accuracy: 0.9537\n",
            "Epoch 142/200\n",
            "87/87 [==============================] - 18s 212ms/step - loss: 0.2112 - accuracy: 0.9519 - val_loss: 0.2432 - val_accuracy: 0.9452\n",
            "Epoch 143/200\n",
            "87/87 [==============================] - 18s 212ms/step - loss: 0.2082 - accuracy: 0.9533 - val_loss: 0.2562 - val_accuracy: 0.9424\n",
            "Epoch 144/200\n",
            "87/87 [==============================] - 18s 211ms/step - loss: 0.2050 - accuracy: 0.9536 - val_loss: 0.2058 - val_accuracy: 0.9527\n",
            "Epoch 145/200\n",
            "87/87 [==============================] - 18s 212ms/step - loss: 0.2031 - accuracy: 0.9546 - val_loss: 0.2300 - val_accuracy: 0.9496\n",
            "Epoch 146/200\n",
            "87/87 [==============================] - 18s 212ms/step - loss: 0.2095 - accuracy: 0.9528 - val_loss: 0.2155 - val_accuracy: 0.9509\n",
            "Epoch 147/200\n",
            "87/87 [==============================] - 18s 212ms/step - loss: 0.2058 - accuracy: 0.9537 - val_loss: 0.2043 - val_accuracy: 0.9524\n",
            "Epoch 148/200\n",
            "87/87 [==============================] - 20s 234ms/step - loss: 0.2094 - accuracy: 0.9531 - val_loss: 0.2138 - val_accuracy: 0.9479\n",
            "Epoch 149/200\n",
            "87/87 [==============================] - 18s 212ms/step - loss: 0.2105 - accuracy: 0.9522 - val_loss: 0.2037 - val_accuracy: 0.9542\n",
            "Epoch 150/200\n",
            "87/87 [==============================] - 19s 214ms/step - loss: 0.2085 - accuracy: 0.9531 - val_loss: 0.2128 - val_accuracy: 0.9545\n",
            "Epoch 151/200\n",
            "87/87 [==============================] - 18s 212ms/step - loss: 0.2044 - accuracy: 0.9545 - val_loss: 0.2973 - val_accuracy: 0.8990\n",
            "Epoch 152/200\n",
            "87/87 [==============================] - 18s 213ms/step - loss: 0.2096 - accuracy: 0.9530 - val_loss: 0.2760 - val_accuracy: 0.9338\n",
            "Epoch 153/200\n",
            "87/87 [==============================] - 18s 212ms/step - loss: 0.2079 - accuracy: 0.9532 - val_loss: 0.2217 - val_accuracy: 0.9537\n",
            "Epoch 154/200\n",
            "87/87 [==============================] - 18s 212ms/step - loss: 0.2111 - accuracy: 0.9522 - val_loss: 0.2109 - val_accuracy: 0.9517\n",
            "Epoch 155/200\n",
            "87/87 [==============================] - 18s 212ms/step - loss: 0.2119 - accuracy: 0.9524 - val_loss: 0.2077 - val_accuracy: 0.9533\n",
            "Epoch 156/200\n",
            "87/87 [==============================] - 18s 212ms/step - loss: 0.2047 - accuracy: 0.9544 - val_loss: 0.2132 - val_accuracy: 0.9548\n",
            "Epoch 157/200\n",
            "87/87 [==============================] - 18s 212ms/step - loss: 0.2066 - accuracy: 0.9534 - val_loss: 0.2131 - val_accuracy: 0.9537\n",
            "Epoch 158/200\n",
            "87/87 [==============================] - 18s 212ms/step - loss: 0.2081 - accuracy: 0.9530 - val_loss: 0.2023 - val_accuracy: 0.9543\n",
            "Epoch 159/200\n",
            "87/87 [==============================] - 19s 213ms/step - loss: 0.2017 - accuracy: 0.9549 - val_loss: 0.2053 - val_accuracy: 0.9544\n",
            "Epoch 160/200\n",
            "87/87 [==============================] - 18s 211ms/step - loss: 0.2027 - accuracy: 0.9542 - val_loss: 0.2073 - val_accuracy: 0.9544\n",
            "Epoch 161/200\n",
            "87/87 [==============================] - 18s 211ms/step - loss: 0.2088 - accuracy: 0.9527 - val_loss: 0.2025 - val_accuracy: 0.9543\n",
            "Epoch 162/200\n",
            "87/87 [==============================] - 18s 211ms/step - loss: 0.2050 - accuracy: 0.9538 - val_loss: 0.2187 - val_accuracy: 0.9519\n",
            "Epoch 163/200\n",
            "87/87 [==============================] - 18s 212ms/step - loss: 0.2018 - accuracy: 0.9546 - val_loss: 0.2034 - val_accuracy: 0.9541\n",
            "Epoch 164/200\n",
            "87/87 [==============================] - 18s 212ms/step - loss: 0.2081 - accuracy: 0.9528 - val_loss: 0.2335 - val_accuracy: 0.9478\n",
            "Epoch 165/200\n",
            "87/87 [==============================] - 19s 215ms/step - loss: 0.2044 - accuracy: 0.9542 - val_loss: 0.2273 - val_accuracy: 0.9482\n",
            "Epoch 166/200\n",
            "87/87 [==============================] - 18s 213ms/step - loss: 0.2090 - accuracy: 0.9528 - val_loss: 0.2102 - val_accuracy: 0.9541\n",
            "Epoch 167/200\n",
            "87/87 [==============================] - 19s 213ms/step - loss: 0.2080 - accuracy: 0.9532 - val_loss: 0.2209 - val_accuracy: 0.9534\n",
            "Epoch 168/200\n",
            "87/87 [==============================] - 18s 212ms/step - loss: 0.2077 - accuracy: 0.9534 - val_loss: 0.2077 - val_accuracy: 0.9535\n",
            "Epoch 169/200\n",
            "87/87 [==============================] - 18s 212ms/step - loss: 0.2090 - accuracy: 0.9525 - val_loss: 0.2133 - val_accuracy: 0.9526\n",
            "Epoch 170/200\n",
            "87/87 [==============================] - 18s 212ms/step - loss: 0.2073 - accuracy: 0.9528 - val_loss: 0.2099 - val_accuracy: 0.9541\n",
            "Epoch 171/200\n",
            "87/87 [==============================] - 18s 212ms/step - loss: 0.2079 - accuracy: 0.9532 - val_loss: 0.2008 - val_accuracy: 0.9539\n",
            "Epoch 172/200\n",
            "87/87 [==============================] - 18s 213ms/step - loss: 0.2047 - accuracy: 0.9538 - val_loss: 0.2259 - val_accuracy: 0.9527\n",
            "Epoch 173/200\n",
            "87/87 [==============================] - 18s 212ms/step - loss: 0.2030 - accuracy: 0.9546 - val_loss: 0.2015 - val_accuracy: 0.9546\n",
            "Epoch 174/200\n",
            "87/87 [==============================] - 18s 212ms/step - loss: 0.2059 - accuracy: 0.9534 - val_loss: 0.2132 - val_accuracy: 0.9536\n",
            "Epoch 175/200\n",
            "87/87 [==============================] - 18s 212ms/step - loss: 0.2074 - accuracy: 0.9531 - val_loss: 0.2204 - val_accuracy: 0.9530\n",
            "Epoch 176/200\n",
            "87/87 [==============================] - 18s 212ms/step - loss: 0.2056 - accuracy: 0.9540 - val_loss: 0.2044 - val_accuracy: 0.9525\n",
            "Epoch 177/200\n",
            "87/87 [==============================] - 18s 212ms/step - loss: 0.2054 - accuracy: 0.9537 - val_loss: 0.2101 - val_accuracy: 0.9537\n",
            "Epoch 178/200\n",
            "87/87 [==============================] - 18s 211ms/step - loss: 0.2122 - accuracy: 0.9516 - val_loss: 0.2055 - val_accuracy: 0.9546\n",
            "Epoch 179/200\n",
            "87/87 [==============================] - 18s 212ms/step - loss: 0.2076 - accuracy: 0.9528 - val_loss: 0.2061 - val_accuracy: 0.9542\n",
            "Epoch 180/200\n",
            "87/87 [==============================] - 18s 211ms/step - loss: 0.2086 - accuracy: 0.9528 - val_loss: 0.3122 - val_accuracy: 0.8902\n",
            "Epoch 181/200\n",
            "87/87 [==============================] - 18s 211ms/step - loss: 0.2107 - accuracy: 0.9519 - val_loss: 0.2247 - val_accuracy: 0.9527\n",
            "Epoch 182/200\n",
            "87/87 [==============================] - 19s 215ms/step - loss: 0.2067 - accuracy: 0.9538 - val_loss: 0.2544 - val_accuracy: 0.9396\n",
            "Epoch 183/200\n",
            "87/87 [==============================] - 19s 213ms/step - loss: 0.2039 - accuracy: 0.9541 - val_loss: 0.2091 - val_accuracy: 0.9525\n",
            "Epoch 184/200\n",
            "87/87 [==============================] - 18s 211ms/step - loss: 0.2088 - accuracy: 0.9529 - val_loss: 0.2415 - val_accuracy: 0.9446\n",
            "Epoch 185/200\n",
            "87/87 [==============================] - 18s 212ms/step - loss: 0.2052 - accuracy: 0.9539 - val_loss: 0.2597 - val_accuracy: 0.9377\n",
            "Epoch 186/200\n",
            "87/87 [==============================] - 18s 211ms/step - loss: 0.2044 - accuracy: 0.9540 - val_loss: 0.2051 - val_accuracy: 0.9528\n",
            "Epoch 187/200\n",
            "87/87 [==============================] - 18s 212ms/step - loss: 0.2040 - accuracy: 0.9538 - val_loss: 0.2635 - val_accuracy: 0.9321\n",
            "Epoch 188/200\n",
            "87/87 [==============================] - 18s 212ms/step - loss: 0.2073 - accuracy: 0.9534 - val_loss: 0.2095 - val_accuracy: 0.9544\n",
            "Epoch 189/200\n",
            "87/87 [==============================] - 18s 212ms/step - loss: 0.2079 - accuracy: 0.9527 - val_loss: 0.2991 - val_accuracy: 0.9201\n",
            "Epoch 190/200\n",
            "87/87 [==============================] - 18s 212ms/step - loss: 0.2113 - accuracy: 0.9518 - val_loss: 0.2139 - val_accuracy: 0.9540\n",
            "Epoch 191/200\n",
            "87/87 [==============================] - 18s 212ms/step - loss: 0.2067 - accuracy: 0.9530 - val_loss: 0.2012 - val_accuracy: 0.9540\n",
            "Epoch 192/200\n",
            "87/87 [==============================] - 18s 212ms/step - loss: 0.2084 - accuracy: 0.9532 - val_loss: 0.2065 - val_accuracy: 0.9536\n",
            "Epoch 193/200\n",
            "87/87 [==============================] - 18s 212ms/step - loss: 0.2037 - accuracy: 0.9543 - val_loss: 0.2015 - val_accuracy: 0.9543\n",
            "Epoch 194/200\n",
            "87/87 [==============================] - 18s 212ms/step - loss: 0.2051 - accuracy: 0.9537 - val_loss: 0.3437 - val_accuracy: 0.8935\n",
            "Epoch 195/200\n",
            "87/87 [==============================] - 18s 212ms/step - loss: 0.2250 - accuracy: 0.9468 - val_loss: 0.2080 - val_accuracy: 0.9532\n",
            "Epoch 196/200\n",
            "87/87 [==============================] - 18s 212ms/step - loss: 0.2064 - accuracy: 0.9536 - val_loss: 0.2326 - val_accuracy: 0.9478\n",
            "Epoch 197/200\n",
            "87/87 [==============================] - 18s 212ms/step - loss: 0.2090 - accuracy: 0.9524 - val_loss: 0.2071 - val_accuracy: 0.9539\n",
            "Epoch 198/200\n",
            "87/87 [==============================] - 18s 212ms/step - loss: 0.2046 - accuracy: 0.9535 - val_loss: 0.2632 - val_accuracy: 0.9335\n",
            "Epoch 199/200\n",
            "87/87 [==============================] - 18s 213ms/step - loss: 0.2083 - accuracy: 0.9527 - val_loss: 0.2264 - val_accuracy: 0.9512\n",
            "Epoch 200/200\n",
            "87/87 [==============================] - 19s 217ms/step - loss: 0.2093 - accuracy: 0.9530 - val_loss: 0.2114 - val_accuracy: 0.9542\n"
          ],
          "name": "stdout"
        },
        {
          "output_type": "error",
          "ename": "NameError",
          "evalue": "ignored",
          "traceback": [
            "\u001b[0;31m---------------------------------------------------------------------------\u001b[0m",
            "\u001b[0;31mNameError\u001b[0m                                 Traceback (most recent call last)",
            "\u001b[0;32m<ipython-input-16-5902c3a2c184>\u001b[0m in \u001b[0;36m<module>\u001b[0;34m()\u001b[0m\n\u001b[1;32m     20\u001b[0m \u001b[0mhistory\u001b[0m \u001b[0;34m=\u001b[0m \u001b[0mmodel\u001b[0m\u001b[0;34m.\u001b[0m\u001b[0mfit\u001b[0m\u001b[0;34m(\u001b[0m\u001b[0mX_train\u001b[0m\u001b[0;34m,\u001b[0m \u001b[0my_train\u001b[0m\u001b[0;34m,\u001b[0m \u001b[0mvalidation_split\u001b[0m\u001b[0;34m=\u001b[0m\u001b[0;36m.3\u001b[0m\u001b[0;34m,\u001b[0m\u001b[0mbatch_size\u001b[0m\u001b[0;34m=\u001b[0m\u001b[0mbatch_size\u001b[0m\u001b[0;34m,\u001b[0m \u001b[0mepochs\u001b[0m\u001b[0;34m=\u001b[0m\u001b[0;36m200\u001b[0m\u001b[0;34m,\u001b[0m \u001b[0mverbose\u001b[0m\u001b[0;34m=\u001b[0m\u001b[0;36m1\u001b[0m\u001b[0;34m)\u001b[0m\u001b[0;34m\u001b[0m\u001b[0;34m\u001b[0m\u001b[0m\n\u001b[1;32m     21\u001b[0m \u001b[0;31m# plot learning curves\u001b[0m\u001b[0;34m\u001b[0m\u001b[0;34m\u001b[0m\u001b[0;34m\u001b[0m\u001b[0m\n\u001b[0;32m---> 22\u001b[0;31m \u001b[0mpyplot\u001b[0m\u001b[0;34m.\u001b[0m\u001b[0mplot\u001b[0m\u001b[0;34m(\u001b[0m\u001b[0mhistory\u001b[0m\u001b[0;34m.\u001b[0m\u001b[0mhistory\u001b[0m\u001b[0;34m[\u001b[0m\u001b[0;34m'accuracy'\u001b[0m\u001b[0;34m]\u001b[0m\u001b[0;34m,\u001b[0m \u001b[0mlabel\u001b[0m\u001b[0;34m=\u001b[0m\u001b[0;34m'train'\u001b[0m\u001b[0;34m)\u001b[0m\u001b[0;34m\u001b[0m\u001b[0;34m\u001b[0m\u001b[0m\n\u001b[0m\u001b[1;32m     23\u001b[0m \u001b[0mpyplot\u001b[0m\u001b[0;34m.\u001b[0m\u001b[0mplot\u001b[0m\u001b[0;34m(\u001b[0m\u001b[0mhistory\u001b[0m\u001b[0;34m.\u001b[0m\u001b[0mhistory\u001b[0m\u001b[0;34m[\u001b[0m\u001b[0;34m'val_accuracy'\u001b[0m\u001b[0;34m]\u001b[0m\u001b[0;34m,\u001b[0m \u001b[0mlabel\u001b[0m\u001b[0;34m=\u001b[0m\u001b[0;34m'test'\u001b[0m\u001b[0;34m)\u001b[0m\u001b[0;34m\u001b[0m\u001b[0;34m\u001b[0m\u001b[0m\n\u001b[1;32m     24\u001b[0m \u001b[0mpyplot\u001b[0m\u001b[0;34m.\u001b[0m\u001b[0mtitle\u001b[0m\u001b[0;34m(\u001b[0m\u001b[0;34m'lrate='\u001b[0m\u001b[0;34m+\u001b[0m\u001b[0mstr\u001b[0m\u001b[0;34m(\u001b[0m\u001b[0mlrate\u001b[0m\u001b[0;34m)\u001b[0m\u001b[0;34m,\u001b[0m \u001b[0mpad\u001b[0m\u001b[0;34m=\u001b[0m\u001b[0;34m-\u001b[0m\u001b[0;36m50\u001b[0m\u001b[0;34m)\u001b[0m\u001b[0;34m\u001b[0m\u001b[0;34m\u001b[0m\u001b[0m\n",
            "\u001b[0;31mNameError\u001b[0m: name 'pyplot' is not defined"
          ]
        }
      ]
    },
    {
      "cell_type": "code",
      "metadata": {
        "colab": {
          "base_uri": "https://localhost:8080/",
          "height": 295
        },
        "id": "PW_Mq1ZZS1Nc",
        "outputId": "dff02375-b0cf-409c-ca66-084b69586c01"
      },
      "source": [
        "from matplotlib import pyplot\r\n",
        "# plot learning curves\r\n",
        "pyplot.plot(history.history['accuracy'], label='train')\r\n",
        "pyplot.plot(history.history['val_accuracy'], label='test')\r\n",
        "pyplot.title('lrate='+str(lrate), pad=-50)"
      ],
      "execution_count": null,
      "outputs": [
        {
          "output_type": "execute_result",
          "data": {
            "text/plain": [
              "Text(0.5, 1.0, 'lrate=0.1')"
            ]
          },
          "metadata": {
            "tags": []
          },
          "execution_count": 21
        },
        {
          "output_type": "display_data",
          "data": {
            "image/png": "[encoded data removed]",
            "text/plain": [
              "<Figure size 432x288 with 1 Axes>"
            ]
          },
          "metadata": {
            "tags": [],
            "needs_background": "light"
          }
        }
      ]
    }
  ]
}