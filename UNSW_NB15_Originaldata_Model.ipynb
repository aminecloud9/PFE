{
  "nbformat": 4,
  "nbformat_minor": 0,
  "metadata": {
    "colab": {
      "name": "UNSW-NB15_Originaldata_Model.ipynb",
      "provenance": [],
      "collapsed_sections": [],
      "mount_file_id": "1ARvCIQsFDBUK_RLeyKToax0W3vj0-2xF",
      "authorship_tag": "ABX9TyNDSCWn/dCiBOes7bsnFJT/",
      "include_colab_link": true
    },
    "kernelspec": {
      "display_name": "Python 3",
      "name": "python3"
    }
  },
  "cells": [
    {
      "cell_type": "markdown",
      "metadata": {
        "id": "view-in-github",
        "colab_type": "text"
      },
      "source": [
        "<a href=\"https://colab.research.google.com/github/aminecloud9/PFE/blob/main/UNSW_NB15_Originaldata_Model.ipynb\" target=\"_parent\"><img src=\"https://colab.research.google.com/assets/colab-badge.svg\" alt=\"Open In Colab\"/></a>"
      ]
    },
    {
      "cell_type": "code",
      "metadata": {
        "colab": {
          "base_uri": "https://localhost:8080/"
        },
        "id": "zubbW2t0qkI4",
        "outputId": "07b43304-4ebe-4625-a088-de749bac0f05"
      },
      "source": [
        "%matplotlib inline\n",
        "import matplotlib.pyplot as plt\n",
        "import numpy as np\n",
        "import pandas as pd\n",
        "\n",
        "from __future__ import print_function\n",
        "import numpy as np\n",
        "np.random.seed(1337)  # for reproducibility\n",
        "from keras.preprocessing import sequence\n",
        "from keras.utils import np_utils\n",
        "from keras.models import Sequential\n",
        "from keras.optimizers import SGD\n",
        "from keras.layers import Dense, Dropout, Activation, Embedding\n",
        "from keras.layers import LSTM, SimpleRNN, GRU\n",
        "from keras.datasets import imdb\n",
        "from keras.utils.np_utils import to_categorical\n",
        "from sklearn.metrics import (precision_score, recall_score,\n",
        "                             f1_score, accuracy_score,mean_squared_error,mean_absolute_error)\n",
        "from sklearn import metrics\n",
        "from sklearn.preprocessing import Normalizer\n",
        "import h5py\n",
        "from keras import callbacks\n",
        "from keras import callbacks\n",
        "from keras.callbacks import ModelCheckpoint, EarlyStopping, ReduceLROnPlateau, CSVLogger\n",
        "from sklearn.preprocessing import StandardScaler\n",
        "from sklearn.preprocessing import OrdinalEncoder\n",
        "from collections import Counter\n",
        "from matplotlib import pyplot\n",
        "from sklearn.datasets import make_classification\n",
        "from imblearn.over_sampling import SMOTE\n",
        "from numpy import where\n",
        "import time"
      ],
      "execution_count": 1,
      "outputs": [
        {
          "output_type": "stream",
          "text": [
            "/usr/local/lib/python3.7/dist-packages/sklearn/externals/six.py:31: FutureWarning: The module is deprecated in version 0.21 and will be removed in version 0.23 since we've dropped support for Python 2.7. Please rely on the official version of six (https://pypi.org/project/six/).\n",
            "  \"(https://pypi.org/project/six/).\", FutureWarning)\n",
            "/usr/local/lib/python3.7/dist-packages/sklearn/utils/deprecation.py:144: FutureWarning: The sklearn.neighbors.base module is  deprecated in version 0.22 and will be removed in version 0.24. The corresponding classes / functions should instead be imported from sklearn.neighbors. Anything that cannot be imported from sklearn.neighbors is now part of the private API.\n",
            "  warnings.warn(message, FutureWarning)\n"
          ],
          "name": "stderr"
        }
      ]
    },
    {
      "cell_type": "code",
      "metadata": {
        "id": "ybE0wIioxC50"
      },
      "source": [
        "pip install git+https://github.com/artemmavrin/focal-loss.git"
      ],
      "execution_count": null,
      "outputs": []
    },
    {
      "cell_type": "code",
      "metadata": {
        "id": "idL_NlX4xXNa"
      },
      "source": [
        "pip install focal-loss"
      ],
      "execution_count": null,
      "outputs": []
    },
    {
      "cell_type": "markdown",
      "metadata": {
        "id": "Px30HHOq6ihg"
      },
      "source": [
        "Download dataset"
      ]
    },
    {
      "cell_type": "code",
      "metadata": {
        "id": "yGP9ArVErwIu"
      },
      "source": [
        "#data=pd.read_csv('/content/drive/MyDrive/CICIDS2017_multi_class_StandardScaler_NormalsationResults.csv')\n",
        "#train_data = pd.read_csv('/content/drive/MyDrive/KDDTrain+.csv', header = None,nrows=1) # read just first line for columns\n",
        "#columns = train_data.columns.tolist() # get the columns\n",
        "#cols_to_use = columns[:len(columns)-1] \n",
        "train_data=pd.read_csv('/content/drive/MyDrive/UNSW_NB15_training.csv')\n",
        "train_data = train_data.iloc[:, :-1]# drop the last one\n",
        "test_data=pd.read_csv('/content/drive/MyDrive/UNSW_NB15_testing.csv')\n",
        "test_data = test_data.iloc[:, :-1]# drop the last one"
      ],
      "execution_count": 2,
      "outputs": []
    },
    {
      "cell_type": "code",
      "metadata": {
        "colab": {
          "base_uri": "https://localhost:8080/",
          "height": 426
        },
        "id": "vxt6NqgGT4eF",
        "outputId": "074565d2-a1ae-4a49-e715-f95da71dfe65"
      },
      "source": [
        "train_data"
      ],
      "execution_count": null,
      "outputs": [
        {
          "output_type": "execute_result",
          "data": {
            "text/html": [
              "<div>\n",
              "<style scoped>\n",
              "    .dataframe tbody tr th:only-of-type {\n",
              "        vertical-align: middle;\n",
              "    }\n",
              "\n",
              "    .dataframe tbody tr th {\n",
              "        vertical-align: top;\n",
              "    }\n",
              "\n",
              "    .dataframe thead th {\n",
              "        text-align: right;\n",
              "    }\n",
              "</style>\n",
              "<table border=\"1\" class=\"dataframe\">\n",
              "  <thead>\n",
              "    <tr style=\"text-align: right;\">\n",
              "      <th></th>\n",
              "      <th>id</th>\n",
              "      <th>dur</th>\n",
              "      <th>proto</th>\n",
              "      <th>service</th>\n",
              "      <th>state</th>\n",
              "      <th>spkts</th>\n",
              "      <th>dpkts</th>\n",
              "      <th>sbytes</th>\n",
              "      <th>dbytes</th>\n",
              "      <th>rate</th>\n",
              "      <th>sttl</th>\n",
              "      <th>dttl</th>\n",
              "      <th>sload</th>\n",
              "      <th>dload</th>\n",
              "      <th>sloss</th>\n",
              "      <th>dloss</th>\n",
              "      <th>sinpkt</th>\n",
              "      <th>dinpkt</th>\n",
              "      <th>sjit</th>\n",
              "      <th>djit</th>\n",
              "      <th>swin</th>\n",
              "      <th>stcpb</th>\n",
              "      <th>dtcpb</th>\n",
              "      <th>dwin</th>\n",
              "      <th>tcprtt</th>\n",
              "      <th>synack</th>\n",
              "      <th>ackdat</th>\n",
              "      <th>smean</th>\n",
              "      <th>dmean</th>\n",
              "      <th>trans_depth</th>\n",
              "      <th>response_body_len</th>\n",
              "      <th>ct_srv_src</th>\n",
              "      <th>ct_state_ttl</th>\n",
              "      <th>ct_dst_ltm</th>\n",
              "      <th>ct_src_dport_ltm</th>\n",
              "      <th>ct_dst_sport_ltm</th>\n",
              "      <th>ct_dst_src_ltm</th>\n",
              "      <th>is_ftp_login</th>\n",
              "      <th>ct_ftp_cmd</th>\n",
              "      <th>ct_flw_http_mthd</th>\n",
              "      <th>ct_src_ltm</th>\n",
              "      <th>ct_srv_dst</th>\n",
              "      <th>is_sm_ips_ports</th>\n",
              "      <th>attack_cat</th>\n",
              "    </tr>\n",
              "  </thead>\n",
              "  <tbody>\n",
              "    <tr>\n",
              "      <th>0</th>\n",
              "      <td>1</td>\n",
              "      <td>0.121478</td>\n",
              "      <td>tcp</td>\n",
              "      <td>-</td>\n",
              "      <td>FIN</td>\n",
              "      <td>6</td>\n",
              "      <td>4</td>\n",
              "      <td>258</td>\n",
              "      <td>172</td>\n",
              "      <td>74.087490</td>\n",
              "      <td>252</td>\n",
              "      <td>254</td>\n",
              "      <td>1.415894e+04</td>\n",
              "      <td>8495.365234</td>\n",
              "      <td>0</td>\n",
              "      <td>0</td>\n",
              "      <td>24.295600</td>\n",
              "      <td>8.375000</td>\n",
              "      <td>30.177547</td>\n",
              "      <td>11.830604</td>\n",
              "      <td>255</td>\n",
              "      <td>621772692</td>\n",
              "      <td>2202533631</td>\n",
              "      <td>255</td>\n",
              "      <td>0.000000</td>\n",
              "      <td>0.000000</td>\n",
              "      <td>0.000000</td>\n",
              "      <td>43</td>\n",
              "      <td>43</td>\n",
              "      <td>0</td>\n",
              "      <td>0</td>\n",
              "      <td>1</td>\n",
              "      <td>0</td>\n",
              "      <td>1</td>\n",
              "      <td>1</td>\n",
              "      <td>1</td>\n",
              "      <td>1</td>\n",
              "      <td>0</td>\n",
              "      <td>0</td>\n",
              "      <td>0</td>\n",
              "      <td>1</td>\n",
              "      <td>1</td>\n",
              "      <td>0</td>\n",
              "      <td>Normal</td>\n",
              "    </tr>\n",
              "    <tr>\n",
              "      <th>1</th>\n",
              "      <td>2</td>\n",
              "      <td>0.649902</td>\n",
              "      <td>tcp</td>\n",
              "      <td>-</td>\n",
              "      <td>FIN</td>\n",
              "      <td>14</td>\n",
              "      <td>38</td>\n",
              "      <td>734</td>\n",
              "      <td>42014</td>\n",
              "      <td>78.473372</td>\n",
              "      <td>62</td>\n",
              "      <td>252</td>\n",
              "      <td>8.395112e+03</td>\n",
              "      <td>503571.312500</td>\n",
              "      <td>2</td>\n",
              "      <td>17</td>\n",
              "      <td>49.915000</td>\n",
              "      <td>15.432865</td>\n",
              "      <td>61.426934</td>\n",
              "      <td>1387.778330</td>\n",
              "      <td>255</td>\n",
              "      <td>1417884146</td>\n",
              "      <td>3077387971</td>\n",
              "      <td>255</td>\n",
              "      <td>0.000000</td>\n",
              "      <td>0.000000</td>\n",
              "      <td>0.000000</td>\n",
              "      <td>52</td>\n",
              "      <td>1106</td>\n",
              "      <td>0</td>\n",
              "      <td>0</td>\n",
              "      <td>43</td>\n",
              "      <td>1</td>\n",
              "      <td>1</td>\n",
              "      <td>1</td>\n",
              "      <td>1</td>\n",
              "      <td>2</td>\n",
              "      <td>0</td>\n",
              "      <td>0</td>\n",
              "      <td>0</td>\n",
              "      <td>1</td>\n",
              "      <td>6</td>\n",
              "      <td>0</td>\n",
              "      <td>Normal</td>\n",
              "    </tr>\n",
              "    <tr>\n",
              "      <th>2</th>\n",
              "      <td>3</td>\n",
              "      <td>1.623129</td>\n",
              "      <td>tcp</td>\n",
              "      <td>-</td>\n",
              "      <td>FIN</td>\n",
              "      <td>8</td>\n",
              "      <td>16</td>\n",
              "      <td>364</td>\n",
              "      <td>13186</td>\n",
              "      <td>14.170161</td>\n",
              "      <td>62</td>\n",
              "      <td>252</td>\n",
              "      <td>1.572272e+03</td>\n",
              "      <td>60929.230470</td>\n",
              "      <td>1</td>\n",
              "      <td>6</td>\n",
              "      <td>231.875571</td>\n",
              "      <td>102.737203</td>\n",
              "      <td>17179.586860</td>\n",
              "      <td>11420.926230</td>\n",
              "      <td>255</td>\n",
              "      <td>2116150707</td>\n",
              "      <td>2963114973</td>\n",
              "      <td>255</td>\n",
              "      <td>0.111897</td>\n",
              "      <td>0.061458</td>\n",
              "      <td>0.050439</td>\n",
              "      <td>46</td>\n",
              "      <td>824</td>\n",
              "      <td>0</td>\n",
              "      <td>0</td>\n",
              "      <td>7</td>\n",
              "      <td>1</td>\n",
              "      <td>2</td>\n",
              "      <td>1</td>\n",
              "      <td>1</td>\n",
              "      <td>3</td>\n",
              "      <td>0</td>\n",
              "      <td>0</td>\n",
              "      <td>0</td>\n",
              "      <td>2</td>\n",
              "      <td>6</td>\n",
              "      <td>0</td>\n",
              "      <td>Normal</td>\n",
              "    </tr>\n",
              "    <tr>\n",
              "      <th>3</th>\n",
              "      <td>4</td>\n",
              "      <td>1.681642</td>\n",
              "      <td>tcp</td>\n",
              "      <td>ftp</td>\n",
              "      <td>FIN</td>\n",
              "      <td>12</td>\n",
              "      <td>12</td>\n",
              "      <td>628</td>\n",
              "      <td>770</td>\n",
              "      <td>13.677108</td>\n",
              "      <td>62</td>\n",
              "      <td>252</td>\n",
              "      <td>2.740179e+03</td>\n",
              "      <td>3358.622070</td>\n",
              "      <td>1</td>\n",
              "      <td>3</td>\n",
              "      <td>152.876547</td>\n",
              "      <td>90.235726</td>\n",
              "      <td>259.080172</td>\n",
              "      <td>4991.784669</td>\n",
              "      <td>255</td>\n",
              "      <td>1107119177</td>\n",
              "      <td>1047442890</td>\n",
              "      <td>255</td>\n",
              "      <td>0.000000</td>\n",
              "      <td>0.000000</td>\n",
              "      <td>0.000000</td>\n",
              "      <td>52</td>\n",
              "      <td>64</td>\n",
              "      <td>0</td>\n",
              "      <td>0</td>\n",
              "      <td>1</td>\n",
              "      <td>1</td>\n",
              "      <td>2</td>\n",
              "      <td>1</td>\n",
              "      <td>1</td>\n",
              "      <td>3</td>\n",
              "      <td>1</td>\n",
              "      <td>1</td>\n",
              "      <td>0</td>\n",
              "      <td>2</td>\n",
              "      <td>1</td>\n",
              "      <td>0</td>\n",
              "      <td>Normal</td>\n",
              "    </tr>\n",
              "    <tr>\n",
              "      <th>4</th>\n",
              "      <td>5</td>\n",
              "      <td>0.449454</td>\n",
              "      <td>tcp</td>\n",
              "      <td>-</td>\n",
              "      <td>FIN</td>\n",
              "      <td>10</td>\n",
              "      <td>6</td>\n",
              "      <td>534</td>\n",
              "      <td>268</td>\n",
              "      <td>33.373826</td>\n",
              "      <td>254</td>\n",
              "      <td>252</td>\n",
              "      <td>8.561499e+03</td>\n",
              "      <td>3987.059814</td>\n",
              "      <td>2</td>\n",
              "      <td>1</td>\n",
              "      <td>47.750333</td>\n",
              "      <td>75.659602</td>\n",
              "      <td>2415.837634</td>\n",
              "      <td>115.807000</td>\n",
              "      <td>255</td>\n",
              "      <td>2436137549</td>\n",
              "      <td>1977154190</td>\n",
              "      <td>255</td>\n",
              "      <td>0.128381</td>\n",
              "      <td>0.071147</td>\n",
              "      <td>0.057234</td>\n",
              "      <td>53</td>\n",
              "      <td>45</td>\n",
              "      <td>0</td>\n",
              "      <td>0</td>\n",
              "      <td>43</td>\n",
              "      <td>1</td>\n",
              "      <td>2</td>\n",
              "      <td>2</td>\n",
              "      <td>1</td>\n",
              "      <td>40</td>\n",
              "      <td>0</td>\n",
              "      <td>0</td>\n",
              "      <td>0</td>\n",
              "      <td>2</td>\n",
              "      <td>39</td>\n",
              "      <td>0</td>\n",
              "      <td>Normal</td>\n",
              "    </tr>\n",
              "    <tr>\n",
              "      <th>...</th>\n",
              "      <td>...</td>\n",
              "      <td>...</td>\n",
              "      <td>...</td>\n",
              "      <td>...</td>\n",
              "      <td>...</td>\n",
              "      <td>...</td>\n",
              "      <td>...</td>\n",
              "      <td>...</td>\n",
              "      <td>...</td>\n",
              "      <td>...</td>\n",
              "      <td>...</td>\n",
              "      <td>...</td>\n",
              "      <td>...</td>\n",
              "      <td>...</td>\n",
              "      <td>...</td>\n",
              "      <td>...</td>\n",
              "      <td>...</td>\n",
              "      <td>...</td>\n",
              "      <td>...</td>\n",
              "      <td>...</td>\n",
              "      <td>...</td>\n",
              "      <td>...</td>\n",
              "      <td>...</td>\n",
              "      <td>...</td>\n",
              "      <td>...</td>\n",
              "      <td>...</td>\n",
              "      <td>...</td>\n",
              "      <td>...</td>\n",
              "      <td>...</td>\n",
              "      <td>...</td>\n",
              "      <td>...</td>\n",
              "      <td>...</td>\n",
              "      <td>...</td>\n",
              "      <td>...</td>\n",
              "      <td>...</td>\n",
              "      <td>...</td>\n",
              "      <td>...</td>\n",
              "      <td>...</td>\n",
              "      <td>...</td>\n",
              "      <td>...</td>\n",
              "      <td>...</td>\n",
              "      <td>...</td>\n",
              "      <td>...</td>\n",
              "      <td>...</td>\n",
              "    </tr>\n",
              "    <tr>\n",
              "      <th>175336</th>\n",
              "      <td>175337</td>\n",
              "      <td>0.000009</td>\n",
              "      <td>udp</td>\n",
              "      <td>dns</td>\n",
              "      <td>INT</td>\n",
              "      <td>2</td>\n",
              "      <td>0</td>\n",
              "      <td>114</td>\n",
              "      <td>0</td>\n",
              "      <td>111111.107200</td>\n",
              "      <td>254</td>\n",
              "      <td>0</td>\n",
              "      <td>5.066666e+07</td>\n",
              "      <td>0.000000</td>\n",
              "      <td>0</td>\n",
              "      <td>0</td>\n",
              "      <td>0.009000</td>\n",
              "      <td>0.000000</td>\n",
              "      <td>0.000000</td>\n",
              "      <td>0.000000</td>\n",
              "      <td>0</td>\n",
              "      <td>0</td>\n",
              "      <td>0</td>\n",
              "      <td>0</td>\n",
              "      <td>0.000000</td>\n",
              "      <td>0.000000</td>\n",
              "      <td>0.000000</td>\n",
              "      <td>57</td>\n",
              "      <td>0</td>\n",
              "      <td>0</td>\n",
              "      <td>0</td>\n",
              "      <td>24</td>\n",
              "      <td>2</td>\n",
              "      <td>24</td>\n",
              "      <td>24</td>\n",
              "      <td>13</td>\n",
              "      <td>24</td>\n",
              "      <td>0</td>\n",
              "      <td>0</td>\n",
              "      <td>0</td>\n",
              "      <td>24</td>\n",
              "      <td>24</td>\n",
              "      <td>0</td>\n",
              "      <td>Generic</td>\n",
              "    </tr>\n",
              "    <tr>\n",
              "      <th>175337</th>\n",
              "      <td>175338</td>\n",
              "      <td>0.505762</td>\n",
              "      <td>tcp</td>\n",
              "      <td>-</td>\n",
              "      <td>FIN</td>\n",
              "      <td>10</td>\n",
              "      <td>8</td>\n",
              "      <td>620</td>\n",
              "      <td>354</td>\n",
              "      <td>33.612649</td>\n",
              "      <td>254</td>\n",
              "      <td>252</td>\n",
              "      <td>8.826286e+03</td>\n",
              "      <td>4903.492188</td>\n",
              "      <td>2</td>\n",
              "      <td>1</td>\n",
              "      <td>54.400111</td>\n",
              "      <td>66.980570</td>\n",
              "      <td>3721.068786</td>\n",
              "      <td>120.177727</td>\n",
              "      <td>255</td>\n",
              "      <td>3518776216</td>\n",
              "      <td>3453092386</td>\n",
              "      <td>255</td>\n",
              "      <td>0.099440</td>\n",
              "      <td>0.036895</td>\n",
              "      <td>0.062545</td>\n",
              "      <td>62</td>\n",
              "      <td>44</td>\n",
              "      <td>0</td>\n",
              "      <td>0</td>\n",
              "      <td>1</td>\n",
              "      <td>1</td>\n",
              "      <td>1</td>\n",
              "      <td>1</td>\n",
              "      <td>1</td>\n",
              "      <td>2</td>\n",
              "      <td>0</td>\n",
              "      <td>0</td>\n",
              "      <td>0</td>\n",
              "      <td>1</td>\n",
              "      <td>1</td>\n",
              "      <td>0</td>\n",
              "      <td>Shellcode</td>\n",
              "    </tr>\n",
              "    <tr>\n",
              "      <th>175338</th>\n",
              "      <td>175339</td>\n",
              "      <td>0.000009</td>\n",
              "      <td>udp</td>\n",
              "      <td>dns</td>\n",
              "      <td>INT</td>\n",
              "      <td>2</td>\n",
              "      <td>0</td>\n",
              "      <td>114</td>\n",
              "      <td>0</td>\n",
              "      <td>111111.107200</td>\n",
              "      <td>254</td>\n",
              "      <td>0</td>\n",
              "      <td>5.066666e+07</td>\n",
              "      <td>0.000000</td>\n",
              "      <td>0</td>\n",
              "      <td>0</td>\n",
              "      <td>0.009000</td>\n",
              "      <td>0.000000</td>\n",
              "      <td>0.000000</td>\n",
              "      <td>0.000000</td>\n",
              "      <td>0</td>\n",
              "      <td>0</td>\n",
              "      <td>0</td>\n",
              "      <td>0</td>\n",
              "      <td>0.000000</td>\n",
              "      <td>0.000000</td>\n",
              "      <td>0.000000</td>\n",
              "      <td>57</td>\n",
              "      <td>0</td>\n",
              "      <td>0</td>\n",
              "      <td>0</td>\n",
              "      <td>12</td>\n",
              "      <td>2</td>\n",
              "      <td>3</td>\n",
              "      <td>3</td>\n",
              "      <td>3</td>\n",
              "      <td>13</td>\n",
              "      <td>0</td>\n",
              "      <td>0</td>\n",
              "      <td>0</td>\n",
              "      <td>3</td>\n",
              "      <td>12</td>\n",
              "      <td>0</td>\n",
              "      <td>Generic</td>\n",
              "    </tr>\n",
              "    <tr>\n",
              "      <th>175339</th>\n",
              "      <td>175340</td>\n",
              "      <td>0.000009</td>\n",
              "      <td>udp</td>\n",
              "      <td>dns</td>\n",
              "      <td>INT</td>\n",
              "      <td>2</td>\n",
              "      <td>0</td>\n",
              "      <td>114</td>\n",
              "      <td>0</td>\n",
              "      <td>111111.107200</td>\n",
              "      <td>254</td>\n",
              "      <td>0</td>\n",
              "      <td>5.066666e+07</td>\n",
              "      <td>0.000000</td>\n",
              "      <td>0</td>\n",
              "      <td>0</td>\n",
              "      <td>0.009000</td>\n",
              "      <td>0.000000</td>\n",
              "      <td>0.000000</td>\n",
              "      <td>0.000000</td>\n",
              "      <td>0</td>\n",
              "      <td>0</td>\n",
              "      <td>0</td>\n",
              "      <td>0</td>\n",
              "      <td>0.000000</td>\n",
              "      <td>0.000000</td>\n",
              "      <td>0.000000</td>\n",
              "      <td>57</td>\n",
              "      <td>0</td>\n",
              "      <td>0</td>\n",
              "      <td>0</td>\n",
              "      <td>30</td>\n",
              "      <td>2</td>\n",
              "      <td>30</td>\n",
              "      <td>30</td>\n",
              "      <td>14</td>\n",
              "      <td>30</td>\n",
              "      <td>0</td>\n",
              "      <td>0</td>\n",
              "      <td>0</td>\n",
              "      <td>30</td>\n",
              "      <td>30</td>\n",
              "      <td>0</td>\n",
              "      <td>Generic</td>\n",
              "    </tr>\n",
              "    <tr>\n",
              "      <th>175340</th>\n",
              "      <td>175341</td>\n",
              "      <td>0.000009</td>\n",
              "      <td>udp</td>\n",
              "      <td>dns</td>\n",
              "      <td>INT</td>\n",
              "      <td>2</td>\n",
              "      <td>0</td>\n",
              "      <td>114</td>\n",
              "      <td>0</td>\n",
              "      <td>111111.107200</td>\n",
              "      <td>254</td>\n",
              "      <td>0</td>\n",
              "      <td>5.066666e+07</td>\n",
              "      <td>0.000000</td>\n",
              "      <td>0</td>\n",
              "      <td>0</td>\n",
              "      <td>0.009000</td>\n",
              "      <td>0.000000</td>\n",
              "      <td>0.000000</td>\n",
              "      <td>0.000000</td>\n",
              "      <td>0</td>\n",
              "      <td>0</td>\n",
              "      <td>0</td>\n",
              "      <td>0</td>\n",
              "      <td>0.000000</td>\n",
              "      <td>0.000000</td>\n",
              "      <td>0.000000</td>\n",
              "      <td>57</td>\n",
              "      <td>0</td>\n",
              "      <td>0</td>\n",
              "      <td>0</td>\n",
              "      <td>30</td>\n",
              "      <td>2</td>\n",
              "      <td>30</td>\n",
              "      <td>30</td>\n",
              "      <td>16</td>\n",
              "      <td>30</td>\n",
              "      <td>0</td>\n",
              "      <td>0</td>\n",
              "      <td>0</td>\n",
              "      <td>30</td>\n",
              "      <td>30</td>\n",
              "      <td>0</td>\n",
              "      <td>Generic</td>\n",
              "    </tr>\n",
              "  </tbody>\n",
              "</table>\n",
              "<p>175341 rows × 44 columns</p>\n",
              "</div>"
            ],
            "text/plain": [
              "            id       dur proto  ... ct_srv_dst is_sm_ips_ports  attack_cat\n",
              "0            1  0.121478   tcp  ...          1               0      Normal\n",
              "1            2  0.649902   tcp  ...          6               0      Normal\n",
              "2            3  1.623129   tcp  ...          6               0      Normal\n",
              "3            4  1.681642   tcp  ...          1               0      Normal\n",
              "4            5  0.449454   tcp  ...         39               0      Normal\n",
              "...        ...       ...   ...  ...        ...             ...         ...\n",
              "175336  175337  0.000009   udp  ...         24               0     Generic\n",
              "175337  175338  0.505762   tcp  ...          1               0   Shellcode\n",
              "175338  175339  0.000009   udp  ...         12               0     Generic\n",
              "175339  175340  0.000009   udp  ...         30               0     Generic\n",
              "175340  175341  0.000009   udp  ...         30               0     Generic\n",
              "\n",
              "[175341 rows x 44 columns]"
            ]
          },
          "metadata": {
            "tags": []
          },
          "execution_count": 3
        }
      ]
    },
    {
      "cell_type": "markdown",
      "metadata": {
        "id": "5BEplQGjzx15"
      },
      "source": [
        "Data nemerisation"
      ]
    },
    {
      "cell_type": "code",
      "metadata": {
        "id": "a5_5KUiyzxSp"
      },
      "source": [
        "\n",
        "enc = OrdinalEncoder()\n",
        "train_data[[\"proto\"]] = enc.fit_transform(train_data[[\"proto\"]])\n",
        "test_data[[\"proto\"]] = enc.fit_transform(test_data[[\"proto\"]])\n",
        "\n",
        "train_data[[\"service\"]] = enc.fit_transform(train_data[[\"service\"]])\n",
        "test_data[[\"service\"]] = enc.fit_transform(test_data[[\"service\"]])\n",
        "\n",
        "train_data[[\"state\"]] = enc.fit_transform(train_data[[\"state\"]])\n",
        "test_data[[\"state\"]] = enc.fit_transform(test_data[[\"state\"]])\n"
      ],
      "execution_count": 3,
      "outputs": []
    },
    {
      "cell_type": "markdown",
      "metadata": {
        "id": "XaDvNxT97K_X"
      },
      "source": [
        "Train and test data formatting"
      ]
    },
    {
      "cell_type": "code",
      "metadata": {
        "id": "Vbi5xXhgsu1K"
      },
      "source": [
        "train_X = train_data.values[:,:-1]\n",
        "train_y = pd.factorize(train_data.values[:,-1])\n",
        "test_X = test_data.values[:,:-1]\n",
        "test_y = pd.factorize(test_data.values[:,-1])"
      ],
      "execution_count": 4,
      "outputs": []
    },
    {
      "cell_type": "markdown",
      "metadata": {
        "id": "bcwfilLCl5t3"
      },
      "source": [
        "Data scaling"
      ]
    },
    {
      "cell_type": "code",
      "metadata": {
        "id": "c7DFNv1M6H5G"
      },
      "source": [
        "scaler = StandardScaler()\n",
        "train_X=scaler.fit_transform(train_X)\n",
        "test_X = scaler.fit_transform(test_X)"
      ],
      "execution_count": 5,
      "outputs": []
    },
    {
      "cell_type": "code",
      "metadata": {
        "colab": {
          "base_uri": "https://localhost:8080/",
          "height": 442
        },
        "id": "xfxOdGY_ZdR9",
        "outputId": "6635caf2-7a24-49d8-9230-0a2174adc3ca"
      },
      "source": [
        "# summarize distribution\n",
        "counter = Counter(train_y[0])\n",
        "for k,v in counter.items():\n",
        "\tper = v / len(train_y) * 100\n",
        "\tprint('Class=%d, n=%d (%.3f%%)' % (k, v, per))\n",
        "# plot the distribution\n",
        "pyplot.bar(counter.keys(), counter.values())\n",
        "pyplot.show()"
      ],
      "execution_count": null,
      "outputs": [
        {
          "output_type": "stream",
          "text": [
            "Class=0, n=56000 (2800000.000%)\n",
            "Class=1, n=1746 (87300.000%)\n",
            "Class=2, n=2000 (100000.000%)\n",
            "Class=3, n=18184 (909200.000%)\n",
            "Class=4, n=1133 (56650.000%)\n",
            "Class=5, n=10491 (524550.000%)\n",
            "Class=6, n=33393 (1669650.000%)\n",
            "Class=7, n=12264 (613200.000%)\n",
            "Class=8, n=130 (6500.000%)\n",
            "Class=9, n=40000 (2000000.000%)\n"
          ],
          "name": "stdout"
        },
        {
          "output_type": "display_data",
          "data": {
            "image/png": "[encoded data removed]",
            "text/plain": [
              "<Figure size 432x288 with 1 Axes>"
            ]
          },
          "metadata": {
            "tags": []
          }
        }
      ]
    },
    {
      "cell_type": "markdown",
      "metadata": {
        "id": "xDEg_-8EJha4"
      },
      "source": [
        "Data augmentation"
      ]
    },
    {
      "cell_type": "code",
      "metadata": {
        "colab": {
          "base_uri": "https://localhost:8080/",
          "height": 890
        },
        "id": "oBF721-WJlxs",
        "outputId": "a899effb-b182-4b9c-9df5-5f19d74bfdac"
      },
      "source": [
        "# Oversample and plot imbalanced dataset with SMOTE\n",
        "\n",
        "# transform the dataset\n",
        "oversample = SMOTE()\n",
        "train_X, train_y = oversample.fit_resample(train_X, train_y[0])\n",
        "# summarize the new class distribution\n",
        "counter = Counter(train_y)\n",
        "print(counter)\n",
        "# scatter plot of examples by class label\n",
        "for label, _ in counter.items():\n",
        "\trow_ix = where(train_y == label)[0]\n",
        "\tpyplot.scatter(train_X[row_ix, 0], train_X[row_ix, 1], label=str(label))\n",
        "pyplot.legend()\n",
        "pyplot.show()\n",
        "\n",
        "pyplot.bar(counter.keys(), counter.values())\n",
        "pyplot.show()"
      ],
      "execution_count": 7,
      "outputs": [
        {
          "output_type": "stream",
          "text": [
            "/usr/local/lib/python3.7/dist-packages/sklearn/utils/deprecation.py:87: FutureWarning: Function safe_indexing is deprecated; safe_indexing is deprecated in version 0.22 and will be removed in version 0.24.\n",
            "  warnings.warn(msg, category=FutureWarning)\n",
            "/usr/local/lib/python3.7/dist-packages/sklearn/utils/deprecation.py:87: FutureWarning: Function safe_indexing is deprecated; safe_indexing is deprecated in version 0.22 and will be removed in version 0.24.\n",
            "  warnings.warn(msg, category=FutureWarning)\n",
            "/usr/local/lib/python3.7/dist-packages/sklearn/utils/deprecation.py:87: FutureWarning: Function safe_indexing is deprecated; safe_indexing is deprecated in version 0.22 and will be removed in version 0.24.\n",
            "  warnings.warn(msg, category=FutureWarning)\n",
            "/usr/local/lib/python3.7/dist-packages/sklearn/utils/deprecation.py:87: FutureWarning: Function safe_indexing is deprecated; safe_indexing is deprecated in version 0.22 and will be removed in version 0.24.\n",
            "  warnings.warn(msg, category=FutureWarning)\n",
            "/usr/local/lib/python3.7/dist-packages/sklearn/utils/deprecation.py:87: FutureWarning: Function safe_indexing is deprecated; safe_indexing is deprecated in version 0.22 and will be removed in version 0.24.\n",
            "  warnings.warn(msg, category=FutureWarning)\n",
            "/usr/local/lib/python3.7/dist-packages/sklearn/utils/deprecation.py:87: FutureWarning: Function safe_indexing is deprecated; safe_indexing is deprecated in version 0.22 and will be removed in version 0.24.\n",
            "  warnings.warn(msg, category=FutureWarning)\n",
            "/usr/local/lib/python3.7/dist-packages/sklearn/utils/deprecation.py:87: FutureWarning: Function safe_indexing is deprecated; safe_indexing is deprecated in version 0.22 and will be removed in version 0.24.\n",
            "  warnings.warn(msg, category=FutureWarning)\n",
            "/usr/local/lib/python3.7/dist-packages/sklearn/utils/deprecation.py:87: FutureWarning: Function safe_indexing is deprecated; safe_indexing is deprecated in version 0.22 and will be removed in version 0.24.\n",
            "  warnings.warn(msg, category=FutureWarning)\n",
            "/usr/local/lib/python3.7/dist-packages/sklearn/utils/deprecation.py:87: FutureWarning: Function safe_indexing is deprecated; safe_indexing is deprecated in version 0.22 and will be removed in version 0.24.\n",
            "  warnings.warn(msg, category=FutureWarning)\n"
          ],
          "name": "stderr"
        },
        {
          "output_type": "stream",
          "text": [
            "Counter({0: 56000, 1: 56000, 2: 56000, 3: 56000, 4: 56000, 5: 56000, 6: 56000, 7: 56000, 8: 56000, 9: 56000})\n"
          ],
          "name": "stdout"
        },
        {
          "output_type": "stream",
          "text": [
            "/usr/local/lib/python3.7/dist-packages/IPython/core/pylabtools.py:125: UserWarning: Creating legend with loc=\"best\" can be slow with large amounts of data.\n",
            "  fig.canvas.print_figure(bytes_io, **kw)\n"
          ],
          "name": "stderr"
        },
        {
          "output_type": "display_data",
          "data": {
            "image/png": "[encoded data removed]",
            "text/plain": [
              "<Figure size 432x288 with 1 Axes>"
            ]
          },
          "metadata": {
            "tags": [],
            "needs_background": "light"
          }
        },
        {
          "output_type": "display_data",
          "data": {
            "image/png": "[encoded data removed]",
            "text/plain": [
              "<Figure size 432x288 with 1 Axes>"
            ]
          },
          "metadata": {
            "tags": [],
            "needs_background": "light"
          }
        }
      ]
    },
    {
      "cell_type": "markdown",
      "metadata": {
        "id": "y14yBaZlm9LP"
      },
      "source": [
        "reshape input to be [samples, time steps, features]"
      ]
    },
    {
      "cell_type": "code",
      "metadata": {
        "id": "W7FOxrdJ2tye"
      },
      "source": [
        "import keras\n",
        "#X_train = np.reshape(data.values[:,:-1].astype('float32'), (data.values[:,:-1].shape[0], 1, data.values[:,:-1].shape[1]))\n",
        "X_train = np.reshape(train_X.astype('float32'), (train_X.shape[0], 1, train_X.shape[1]))\n",
        "X_test = np.reshape(test_X.astype('float32'), (test_X.shape[0], 1, test_X.shape[1]))\n",
        "#y_train = keras.utils.to_categorical(pd.factorize(data.values[:,77])[0],15)\n",
        "y_train = keras.utils.to_categorical(train_y,10)\n",
        "y_train = y_train.astype('int')\n",
        "y_train = np.reshape(y_train,(y_train.shape[0],1,y_train.shape[1]))\n",
        "y_test = keras.utils.to_categorical(test_y[0],10)\n",
        "y_test = y_test.astype('int')\n",
        "y_test = np.reshape(y_test,(y_test.shape[0],1,y_test.shape[1]))"
      ],
      "execution_count": 8,
      "outputs": []
    },
    {
      "cell_type": "markdown",
      "metadata": {
        "id": "sX2VddNf7iyt"
      },
      "source": [
        "Define the network"
      ]
    },
    {
      "cell_type": "code",
      "metadata": {
        "colab": {
          "background_save": true,
          "base_uri": "https://localhost:8080/"
        },
        "id": "rQD-GEKZccoo",
        "outputId": "c8400bcd-3bad-4502-d8dc-477d4b04d372"
      },
      "source": [
        "#train_object_num=len(train_data)\n",
        "#print(test[0])\n",
        "#model training\n",
        "batch_size = 1024\n",
        "lrate = .1\n",
        "DROPOUTRATE = .5\n",
        "model=Sequential()\n",
        "model.add(LSTM(X_train.shape[2],input_dim=X_train.shape[2],return_sequences=True,kernel_initializer='uniform',activation='relu'))\n",
        "model.add(Dropout(DROPOUTRATE))\n",
        "model.add(LSTM(32,kernel_initializer='uniform',return_sequences=True,activation='relu'))\n",
        "model.add(Dropout(DROPOUTRATE))\n",
        "model.add(LSTM(32,kernel_initializer='uniform',return_sequences=True,activation='relu'))\n",
        "model.add(Dropout(DROPOUTRATE))\n",
        "#model.add(Dense(256,activation='relu'))\n",
        "model.add(Dropout(DROPOUTRATE))\n",
        "model.add(Dense(128,activation='relu'))\n",
        "model.add(Dropout(DROPOUTRATE))\n",
        "model.add(Dense(64,activation='relu'))\n",
        "model.add(Dropout(DROPOUTRATE))\n",
        "model.add(Dense(16,activation='relu'))\n",
        "model.add(Dropout(DROPOUTRATE))\n",
        "model.add(Dense(y_train.shape[2],activation='sigmoid'))\n",
        "opt = SGD(lr=lrate)\n",
        "model.compile(loss='binary_crossentropy',optimizer='NADAM',metrics=['accuracy'])\n",
        "model.summary()\n",
        "start_time = time.time()\n",
        "history = model.fit(X_train,y_train,validation_split=.3,epochs=100,batch_size=batch_size,verbose=1)\n",
        "finish_time = time.time() - start_time\n",
        "#model.save(\"/content/drive/My Drive/model_CICIDS_brute_data_valsplit.3.h5\")"
      ],
      "execution_count": null,
      "outputs": [
        {
          "output_type": "stream",
          "text": [
            "Model: \"sequential_1\"\n",
            "_________________________________________________________________\n",
            "Layer (type)                 Output Shape              Param #   \n",
            "=================================================================\n",
            "lstm (LSTM)                  (None, None, 43)          14964     \n",
            "_________________________________________________________________\n",
            "dropout (Dropout)            (None, None, 43)          0         \n",
            "_________________________________________________________________\n",
            "lstm_1 (LSTM)                (None, None, 32)          9728      \n",
            "_________________________________________________________________\n",
            "dropout_1 (Dropout)          (None, None, 32)          0         \n",
            "_________________________________________________________________\n",
            "lstm_2 (LSTM)                (None, None, 32)          8320      \n",
            "_________________________________________________________________\n",
            "dropout_2 (Dropout)          (None, None, 32)          0         \n",
            "_________________________________________________________________\n",
            "dropout_3 (Dropout)          (None, None, 32)          0         \n",
            "_________________________________________________________________\n",
            "dense (Dense)                (None, None, 128)         4224      \n",
            "_________________________________________________________________\n",
            "dropout_4 (Dropout)          (None, None, 128)         0         \n",
            "_________________________________________________________________\n",
            "dense_1 (Dense)              (None, None, 64)          8256      \n",
            "_________________________________________________________________\n",
            "dropout_5 (Dropout)          (None, None, 64)          0         \n",
            "_________________________________________________________________\n",
            "dense_2 (Dense)              (None, None, 16)          1040      \n",
            "_________________________________________________________________\n",
            "dropout_6 (Dropout)          (None, None, 16)          0         \n",
            "_________________________________________________________________\n",
            "dense_3 (Dense)              (None, None, 10)          170       \n",
            "=================================================================\n",
            "Total params: 46,702\n",
            "Trainable params: 46,702\n",
            "Non-trainable params: 0\n",
            "_________________________________________________________________\n",
            "Epoch 1/100\n",
            "383/383 [==============================] - 18s 33ms/step - loss: 0.4497 - accuracy: 0.1226 - val_loss: 0.4642 - val_accuracy: 0.0000e+00\n",
            "Epoch 2/100\n",
            "383/383 [==============================] - 12s 31ms/step - loss: 0.3293 - accuracy: 0.1393 - val_loss: 0.5161 - val_accuracy: 0.0000e+00\n",
            "Epoch 3/100\n",
            "383/383 [==============================] - 12s 31ms/step - loss: 0.2935 - accuracy: 0.2469 - val_loss: 0.5709 - val_accuracy: 0.0000e+00\n",
            "Epoch 4/100\n",
            "383/383 [==============================] - 12s 31ms/step - loss: 0.2417 - accuracy: 0.3805 - val_loss: 0.5602 - val_accuracy: 0.0000e+00\n",
            "Epoch 5/100\n",
            "383/383 [==============================] - 12s 31ms/step - loss: 0.2334 - accuracy: 0.4081 - val_loss: 0.5477 - val_accuracy: 0.0926\n",
            "Epoch 6/100\n",
            "383/383 [==============================] - 12s 31ms/step - loss: 0.2165 - accuracy: 0.4810 - val_loss: 0.5894 - val_accuracy: 0.0927\n",
            "Epoch 7/100\n",
            "383/383 [==============================] - 12s 31ms/step - loss: 0.2062 - accuracy: 0.5041 - val_loss: 0.5864 - val_accuracy: 0.0928\n",
            "Epoch 8/100\n",
            "383/383 [==============================] - 12s 31ms/step - loss: 0.2025 - accuracy: 0.5153 - val_loss: 0.5743 - val_accuracy: 0.0927\n",
            "Epoch 9/100\n",
            "383/383 [==============================] - 12s 31ms/step - loss: 0.1996 - accuracy: 0.5255 - val_loss: 0.5673 - val_accuracy: 0.0929\n",
            "Epoch 10/100\n",
            "383/383 [==============================] - 12s 31ms/step - loss: 0.1979 - accuracy: 0.5348 - val_loss: 0.5647 - val_accuracy: 0.0927\n",
            "Epoch 11/100\n",
            "383/383 [==============================] - 12s 32ms/step - loss: 0.1954 - accuracy: 0.5429 - val_loss: 0.5498 - val_accuracy: 0.0931\n",
            "Epoch 12/100\n",
            "383/383 [==============================] - 12s 31ms/step - loss: 0.1941 - accuracy: 0.5483 - val_loss: 0.5384 - val_accuracy: 0.0930\n",
            "Epoch 13/100\n",
            "383/383 [==============================] - 12s 31ms/step - loss: 0.1915 - accuracy: 0.5560 - val_loss: 0.5424 - val_accuracy: 0.0928\n",
            "Epoch 14/100\n",
            "383/383 [==============================] - 12s 31ms/step - loss: 0.1907 - accuracy: 0.5578 - val_loss: 0.5444 - val_accuracy: 0.0930\n",
            "Epoch 15/100\n",
            "383/383 [==============================] - 12s 31ms/step - loss: 0.1898 - accuracy: 0.5610 - val_loss: 0.5545 - val_accuracy: 0.0931\n",
            "Epoch 16/100\n",
            "383/383 [==============================] - 12s 31ms/step - loss: 0.1882 - accuracy: 0.5657 - val_loss: 0.5525 - val_accuracy: 0.0930\n",
            "Epoch 17/100\n",
            "383/383 [==============================] - 12s 31ms/step - loss: 0.1879 - accuracy: 0.5662 - val_loss: 0.5630 - val_accuracy: 0.0930\n",
            "Epoch 18/100\n",
            "383/383 [==============================] - 12s 31ms/step - loss: 0.1869 - accuracy: 0.5680 - val_loss: 0.5679 - val_accuracy: 0.0930\n",
            "Epoch 19/100\n",
            "383/383 [==============================] - 12s 32ms/step - loss: 0.1865 - accuracy: 0.5704 - val_loss: 0.5548 - val_accuracy: 0.0929\n",
            "Epoch 20/100\n",
            "383/383 [==============================] - 12s 32ms/step - loss: 0.1845 - accuracy: 0.5745 - val_loss: 0.5630 - val_accuracy: 0.0930\n",
            "Epoch 21/100\n",
            "383/383 [==============================] - 12s 31ms/step - loss: 0.1850 - accuracy: 0.5750 - val_loss: 0.5523 - val_accuracy: 0.0930\n",
            "Epoch 22/100\n",
            "383/383 [==============================] - 12s 31ms/step - loss: 0.1836 - accuracy: 0.5772 - val_loss: 0.5400 - val_accuracy: 0.0929\n",
            "Epoch 23/100\n",
            "383/383 [==============================] - 12s 31ms/step - loss: 0.1820 - accuracy: 0.5796 - val_loss: 0.5428 - val_accuracy: 0.0931\n",
            "Epoch 24/100\n",
            "383/383 [==============================] - 12s 31ms/step - loss: 0.1821 - accuracy: 0.5811 - val_loss: 0.5508 - val_accuracy: 0.0931\n",
            "Epoch 25/100\n",
            "383/383 [==============================] - 12s 31ms/step - loss: 0.1807 - accuracy: 0.5836 - val_loss: 0.5464 - val_accuracy: 0.0930\n",
            "Epoch 26/100\n",
            "383/383 [==============================] - 12s 31ms/step - loss: 0.1797 - accuracy: 0.5843 - val_loss: 0.5380 - val_accuracy: 0.0929\n",
            "Epoch 27/100\n",
            "383/383 [==============================] - 12s 31ms/step - loss: 0.1795 - accuracy: 0.5852 - val_loss: 0.5304 - val_accuracy: 0.0929\n",
            "Epoch 28/100\n",
            "383/383 [==============================] - 12s 31ms/step - loss: 0.1795 - accuracy: 0.5862 - val_loss: 0.5324 - val_accuracy: 0.0929\n",
            "Epoch 29/100\n",
            "383/383 [==============================] - 12s 31ms/step - loss: 0.1792 - accuracy: 0.5875 - val_loss: 0.5327 - val_accuracy: 0.0929\n",
            "Epoch 30/100\n",
            "383/383 [==============================] - 12s 31ms/step - loss: 0.1799 - accuracy: 0.5855 - val_loss: 0.5385 - val_accuracy: 0.0929\n",
            "Epoch 31/100\n",
            "383/383 [==============================] - 12s 31ms/step - loss: 0.1791 - accuracy: 0.5875 - val_loss: 0.5351 - val_accuracy: 0.0927\n",
            "Epoch 32/100\n",
            "383/383 [==============================] - 12s 31ms/step - loss: 0.1787 - accuracy: 0.5890 - val_loss: 0.5237 - val_accuracy: 0.0929\n",
            "Epoch 33/100\n",
            "383/383 [==============================] - 12s 31ms/step - loss: 0.1785 - accuracy: 0.5897 - val_loss: 0.5165 - val_accuracy: 0.0930\n",
            "Epoch 34/100\n",
            "383/383 [==============================] - 12s 31ms/step - loss: 0.1783 - accuracy: 0.5899 - val_loss: 0.5280 - val_accuracy: 0.0929\n",
            "Epoch 35/100\n",
            "383/383 [==============================] - 12s 31ms/step - loss: 0.1782 - accuracy: 0.5902 - val_loss: 0.5194 - val_accuracy: 0.0931\n",
            "Epoch 36/100\n",
            "383/383 [==============================] - 12s 31ms/step - loss: 0.1776 - accuracy: 0.5914 - val_loss: 0.5110 - val_accuracy: 0.0931\n",
            "Epoch 37/100\n",
            "383/383 [==============================] - 12s 31ms/step - loss: 0.1773 - accuracy: 0.5909 - val_loss: 0.5184 - val_accuracy: 0.0931\n",
            "Epoch 38/100\n",
            "383/383 [==============================] - 12s 31ms/step - loss: 0.1774 - accuracy: 0.5932 - val_loss: 0.5070 - val_accuracy: 0.0931\n",
            "Epoch 39/100\n",
            "383/383 [==============================] - 12s 31ms/step - loss: 0.1765 - accuracy: 0.5935 - val_loss: 0.5112 - val_accuracy: 0.0929\n",
            "Epoch 40/100\n",
            "383/383 [==============================] - 12s 31ms/step - loss: 0.1775 - accuracy: 0.5920 - val_loss: 0.5007 - val_accuracy: 0.0927\n",
            "Epoch 41/100\n",
            "383/383 [==============================] - 12s 31ms/step - loss: 0.1765 - accuracy: 0.5951 - val_loss: 0.5113 - val_accuracy: 0.0929\n",
            "Epoch 42/100\n",
            "383/383 [==============================] - 12s 31ms/step - loss: 0.1772 - accuracy: 0.5916 - val_loss: 0.5079 - val_accuracy: 0.0930\n",
            "Epoch 43/100\n",
            "383/383 [==============================] - 12s 30ms/step - loss: 0.1762 - accuracy: 0.5953 - val_loss: 0.4999 - val_accuracy: 0.0928\n",
            "Epoch 44/100\n",
            "383/383 [==============================] - 11s 29ms/step - loss: 0.1773 - accuracy: 0.5925 - val_loss: 0.5015 - val_accuracy: 0.0929\n",
            "Epoch 45/100\n",
            "383/383 [==============================] - 11s 30ms/step - loss: 0.1771 - accuracy: 0.5929 - val_loss: 0.4960 - val_accuracy: 0.0931\n",
            "Epoch 46/100\n",
            "383/383 [==============================] - 12s 30ms/step - loss: 0.1756 - accuracy: 0.5945 - val_loss: 0.4979 - val_accuracy: 0.0930\n",
            "Epoch 47/100\n",
            "383/383 [==============================] - 12s 31ms/step - loss: 0.1820 - accuracy: 0.5946 - val_loss: 0.4938 - val_accuracy: 0.0930\n",
            "Epoch 48/100\n",
            "383/383 [==============================] - 12s 30ms/step - loss: 0.1768 - accuracy: 0.5942 - val_loss: 0.4972 - val_accuracy: 0.0928\n",
            "Epoch 49/100\n",
            "383/383 [==============================] - 11s 30ms/step - loss: 0.1760 - accuracy: 0.5954 - val_loss: 0.5019 - val_accuracy: 0.0928\n",
            "Epoch 50/100\n",
            "383/383 [==============================] - 11s 30ms/step - loss: 0.1756 - accuracy: 0.5956 - val_loss: 0.5007 - val_accuracy: 0.0931\n",
            "Epoch 51/100\n",
            "383/383 [==============================] - 11s 30ms/step - loss: 0.1766 - accuracy: 0.5941 - val_loss: 0.5008 - val_accuracy: 0.0930\n",
            "Epoch 52/100\n",
            "383/383 [==============================] - 11s 30ms/step - loss: 0.1757 - accuracy: 0.5963 - val_loss: 0.4984 - val_accuracy: 0.0930\n",
            "Epoch 53/100\n",
            "383/383 [==============================] - 11s 30ms/step - loss: 0.1754 - accuracy: 0.5970 - val_loss: 0.4918 - val_accuracy: 0.0929\n",
            "Epoch 54/100\n",
            "383/383 [==============================] - 11s 30ms/step - loss: 0.1750 - accuracy: 0.5973 - val_loss: 0.4954 - val_accuracy: 0.0931\n",
            "Epoch 55/100\n",
            "383/383 [==============================] - 12s 30ms/step - loss: 0.1749 - accuracy: 0.5973 - val_loss: 0.4977 - val_accuracy: 0.0931\n",
            "Epoch 56/100\n",
            "383/383 [==============================] - 11s 30ms/step - loss: 0.1748 - accuracy: 0.5986 - val_loss: 0.4971 - val_accuracy: 0.0927\n",
            "Epoch 57/100\n",
            "383/383 [==============================] - 11s 30ms/step - loss: 0.1750 - accuracy: 0.5972 - val_loss: 0.4941 - val_accuracy: 0.0930\n",
            "Epoch 58/100\n",
            "383/383 [==============================] - 11s 30ms/step - loss: 0.1750 - accuracy: 0.5990 - val_loss: 0.4921 - val_accuracy: 0.0928\n",
            "Epoch 59/100\n",
            "383/383 [==============================] - 11s 29ms/step - loss: 0.1753 - accuracy: 0.5984 - val_loss: 0.4944 - val_accuracy: 0.0931\n",
            "Epoch 60/100\n",
            "383/383 [==============================] - 11s 29ms/step - loss: 0.1740 - accuracy: 0.5987 - val_loss: 0.4939 - val_accuracy: 0.0928\n",
            "Epoch 61/100\n",
            "383/383 [==============================] - 11s 29ms/step - loss: 0.1753 - accuracy: 0.5983 - val_loss: 0.4975 - val_accuracy: 0.0925\n",
            "Epoch 62/100\n",
            "383/383 [==============================] - 11s 29ms/step - loss: 0.1746 - accuracy: 0.5993 - val_loss: 0.4910 - val_accuracy: 0.0925\n",
            "Epoch 63/100\n",
            "383/383 [==============================] - 11s 29ms/step - loss: 0.1741 - accuracy: 0.5994 - val_loss: 0.4936 - val_accuracy: 0.0926\n",
            "Epoch 64/100\n",
            "383/383 [==============================] - 11s 29ms/step - loss: 0.1747 - accuracy: 0.5996 - val_loss: 0.4972 - val_accuracy: 0.0925\n",
            "Epoch 65/100\n",
            "383/383 [==============================] - 11s 29ms/step - loss: 0.1750 - accuracy: 0.5999 - val_loss: 0.4899 - val_accuracy: 0.0927\n",
            "Epoch 66/100\n",
            "383/383 [==============================] - 11s 29ms/step - loss: 0.1760 - accuracy: 0.5972 - val_loss: 0.4976 - val_accuracy: 0.0929\n",
            "Epoch 67/100\n",
            "383/383 [==============================] - 11s 28ms/step - loss: 0.1752 - accuracy: 0.6008 - val_loss: 0.4905 - val_accuracy: 0.0930\n",
            "Epoch 68/100\n",
            "383/383 [==============================] - 11s 28ms/step - loss: 0.1754 - accuracy: 0.5997 - val_loss: 0.4969 - val_accuracy: 0.0928\n",
            "Epoch 69/100\n",
            "383/383 [==============================] - 11s 29ms/step - loss: 0.1746 - accuracy: 0.5997 - val_loss: 0.4936 - val_accuracy: 0.0931\n",
            "Epoch 70/100\n",
            "383/383 [==============================] - 11s 29ms/step - loss: 0.1744 - accuracy: 0.5998 - val_loss: 0.4952 - val_accuracy: 0.0930\n",
            "Epoch 71/100\n",
            "383/383 [==============================] - 11s 28ms/step - loss: 0.1736 - accuracy: 0.6013 - val_loss: 0.4959 - val_accuracy: 0.0931\n",
            "Epoch 72/100\n",
            "383/383 [==============================] - 11s 29ms/step - loss: 0.1744 - accuracy: 0.6000 - val_loss: 0.4943 - val_accuracy: 0.0930\n",
            "Epoch 73/100\n",
            "383/383 [==============================] - 11s 29ms/step - loss: 0.1741 - accuracy: 0.6019 - val_loss: 0.4937 - val_accuracy: 0.0930\n",
            "Epoch 74/100\n",
            "383/383 [==============================] - 11s 29ms/step - loss: 0.1735 - accuracy: 0.6026 - val_loss: 0.4964 - val_accuracy: 0.0931\n",
            "Epoch 75/100\n",
            "383/383 [==============================] - 11s 29ms/step - loss: 0.1732 - accuracy: 0.6031 - val_loss: 0.4966 - val_accuracy: 0.0929\n",
            "Epoch 76/100\n",
            "383/383 [==============================] - 11s 29ms/step - loss: 0.1741 - accuracy: 0.6014 - val_loss: 0.4952 - val_accuracy: 0.0930\n",
            "Epoch 77/100\n",
            "383/383 [==============================] - 11s 29ms/step - loss: 0.1739 - accuracy: 0.6008 - val_loss: 0.4966 - val_accuracy: 0.0931\n",
            "Epoch 78/100\n",
            "383/383 [==============================] - 11s 28ms/step - loss: 0.1745 - accuracy: 0.5995 - val_loss: 0.4982 - val_accuracy: 0.0930\n",
            "Epoch 79/100\n",
            "383/383 [==============================] - 11s 29ms/step - loss: 0.1734 - accuracy: 0.6028 - val_loss: 0.5030 - val_accuracy: 0.0931\n",
            "Epoch 80/100\n",
            "383/383 [==============================] - 11s 28ms/step - loss: 0.1742 - accuracy: 0.6034 - val_loss: 0.4970 - val_accuracy: 0.0931\n",
            "Epoch 81/100\n",
            "383/383 [==============================] - 11s 28ms/step - loss: 0.1731 - accuracy: 0.6028 - val_loss: 0.4963 - val_accuracy: 0.0928\n",
            "Epoch 82/100\n",
            "383/383 [==============================] - 11s 28ms/step - loss: 0.1744 - accuracy: 0.6019 - val_loss: 0.4975 - val_accuracy: 0.0931\n",
            "Epoch 83/100\n",
            "383/383 [==============================] - 11s 29ms/step - loss: 0.1745 - accuracy: 0.6004 - val_loss: 0.4924 - val_accuracy: 0.0917\n",
            "Epoch 84/100\n",
            "383/383 [==============================] - 11s 28ms/step - loss: 0.1745 - accuracy: 0.6008 - val_loss: 0.4969 - val_accuracy: 0.0930\n",
            "Epoch 85/100\n",
            "383/383 [==============================] - 11s 29ms/step - loss: 0.1731 - accuracy: 0.6029 - val_loss: 0.4944 - val_accuracy: 0.0930\n",
            "Epoch 86/100\n",
            "383/383 [==============================] - 11s 28ms/step - loss: 0.1738 - accuracy: 0.6009 - val_loss: 0.4904 - val_accuracy: 0.0929\n",
            "Epoch 87/100\n",
            "383/383 [==============================] - 11s 29ms/step - loss: 0.1740 - accuracy: 0.6026 - val_loss: 0.4979 - val_accuracy: 0.0930\n",
            "Epoch 88/100\n",
            "383/383 [==============================] - 11s 29ms/step - loss: 0.1742 - accuracy: 0.6011 - val_loss: 0.4963 - val_accuracy: 0.0927\n",
            "Epoch 89/100\n",
            "383/383 [==============================] - 11s 28ms/step - loss: 0.1739 - accuracy: 0.6025 - val_loss: 0.4938 - val_accuracy: 0.0927\n",
            "Epoch 90/100\n",
            "383/383 [==============================] - 11s 28ms/step - loss: 0.1737 - accuracy: 0.6021 - val_loss: 0.4959 - val_accuracy: 0.0928\n",
            "Epoch 91/100\n",
            "383/383 [==============================] - 11s 28ms/step - loss: 0.1739 - accuracy: 0.6040 - val_loss: 0.4950 - val_accuracy: 0.0929\n",
            "Epoch 92/100\n",
            "383/383 [==============================] - 11s 28ms/step - loss: 0.1737 - accuracy: 0.6035 - val_loss: 0.4979 - val_accuracy: 0.0929\n",
            "Epoch 93/100\n",
            "383/383 [==============================] - 11s 28ms/step - loss: 0.1755 - accuracy: 0.6003 - val_loss: 0.5008 - val_accuracy: 0.0927\n",
            "Epoch 94/100\n",
            "383/383 [==============================] - 11s 28ms/step - loss: 0.1734 - accuracy: 0.6045 - val_loss: 0.4971 - val_accuracy: 0.0926\n",
            "Epoch 95/100\n",
            "383/383 [==============================] - 11s 28ms/step - loss: 0.1732 - accuracy: 0.6059 - val_loss: 0.4962 - val_accuracy: 0.0927\n",
            "Epoch 96/100\n",
            "383/383 [==============================] - 11s 29ms/step - loss: 0.1753 - accuracy: 0.6009 - val_loss: 0.4981 - val_accuracy: 0.0929\n",
            "Epoch 97/100\n",
            "383/383 [==============================] - 11s 28ms/step - loss: 0.1728 - accuracy: 0.6052 - val_loss: 0.4976 - val_accuracy: 0.0913\n",
            "Epoch 98/100\n",
            "383/383 [==============================] - 11s 28ms/step - loss: 0.1737 - accuracy: 0.6047 - val_loss: 0.4960 - val_accuracy: 0.0929\n",
            "Epoch 99/100\n",
            "383/383 [==============================] - 11s 28ms/step - loss: 0.1731 - accuracy: 0.6059 - val_loss: 0.5013 - val_accuracy: 0.0931\n",
            "Epoch 100/100\n",
            "383/383 [==============================] - 11s 28ms/step - loss: 0.1727 - accuracy: 0.6060 - val_loss: 0.4943 - val_accuracy: 0.0931\n"
          ],
          "name": "stdout"
        }
      ]
    },
    {
      "cell_type": "code",
      "metadata": {
        "id": "ZgFh6eY-RogJ"
      },
      "source": [
        "from sklearn.metrics import classification_report\n",
        "from sklearn.metrics import precision_recall_fscore_support\n",
        "loss, accuracy = model.evaluate(X_test,y_test)\n",
        "print(\"\\nLoss: %.2f, Accuracy: %.2f%%\" % (loss, accuracy*100))\n",
        "y_pred = model.predict_classes(X_train)\n",
        "target_names = ['Normal', 'Dos', 'Probe','R2L', 'U2R']\n",
        "print(classification_report(y_true = np.transpose(test_y[0]), y_pred = y_pred))\n",
        "#print(accuracy_score(y_true = np.transpose(test_y[0]), y_pred = y_pred))\n",
        "print(\"execution time :  \",finish_time)"
      ],
      "execution_count": null,
      "outputs": []
    },
    {
      "cell_type": "markdown",
      "metadata": {
        "id": "moFJO80m0D9v"
      },
      "source": [
        "saving model"
      ]
    },
    {
      "cell_type": "code",
      "metadata": {
        "id": "ieGpV2zYXZwV"
      },
      "source": [
        "model.save(\"/content/drive/MyDrive/NSL-KDD_42norm_results_5Dense_po_Dropout_200epoch_1024batch_model.h5\")"
      ],
      "execution_count": null,
      "outputs": []
    },
    {
      "cell_type": "code",
      "metadata": {
        "colab": {
          "background_save": true
        },
        "id": "5xLvXBh0SyWh",
        "outputId": "b0171892-a2a5-4793-d590-05cbb69f3b69"
      },
      "source": [
        "from keras.models import load_model\n",
        "#model = load_model('/content/drive/MyDrive/NSL-KDD_results_SimpleRNN_model.hdf5')\n",
        "loss, accuracy = model.evaluate(X_test, y_test)\n",
        "print(\"\\nLoss: %.2f, Accuracy: %.2f%%\" % (loss, accuracy*100))\n",
        "\n",
        "#print(\"--- %s seconds ---\",finish_time)\n",
        "y_pred = model.predict(X_train)\n",
        "#np.savetxt('/content/drive/MyDrive/NSL-KDD_results_SimpleRNN_predicted.txt', np.transpose([y_test,y_pred]), fmt='%s')"
      ],
      "execution_count": null,
      "outputs": [
        {
          "output_type": "stream",
          "text": [
            "2573/2573 [==============================] - 4s 2ms/step - loss: 6.5163 - accuracy: 0.3234\n",
            "\n",
            "Loss: 6.52, Accuracy: 32.34%\n"
          ],
          "name": "stdout"
        }
      ]
    },
    {
      "cell_type": "code",
      "metadata": {
        "id": "kqAFEhU4_CMH"
      },
      "source": [
        "42 col pca 80% : b_s=256 epochs= 300 Lstm(32,32)->Dense(256,128,64,ytrain.shape(2))   ->   accuracy = 62.8%\n",
        "\n",
        "\n",
        "24 col normalisé : b_s=1024 epochs= 100 Lstm(32,32)->Dense(256,128,64,16,ytrain.shape(2))   ->   accuracy = 83.73%\n",
        "24 col pca 80% : b_s=1024 epochs= 100 Lstm(32,32)->Dense(256,128,64,16,ytrain.shape(2))   ->   accuracy = 40.28%\n",
        "42 col normalisé : b_s=1024 epochs= 100 Lstm(32,32)->Dense(256,128,64,16,ytrain.shape(2))   ->   accuracy = 48.52%\n",
        "42 col pca 80% : b_s=1024 epochs= 100 Lstm(32,32)->Dense(256,128,64,16,ytrain.shape(2))   ->   accuracy = 45.22%\n"
      ],
      "execution_count": null,
      "outputs": []
    },
    {
      "cell_type": "code",
      "metadata": {
        "colab": {
          "base_uri": "https://localhost:8080/"
        },
        "id": "ZpW4B3GT5_ac",
        "outputId": "7e862738-b668-41eb-9d2a-0ec70b5fa22a"
      },
      "source": [
        "batch_size= 1024\n",
        "lrate = 0.1\n",
        "DROPOUTRATE = 0.3\n",
        "model = Sequential()\n",
        "model.add(Dense(X_train.shape[2], input_dim=X_train.shape[2], activation='relu', kernel_initializer='he_uniform'))\n",
        "model.add(Dense(1024, activation='relu'))\n",
        "model.add(Dropout(DROPOUTRATE))\n",
        "model.add(Dense(768, activation='relu'))\n",
        "model.add(Dropout(DROPOUTRATE))\n",
        "model.add(Dense(512, activation='relu'))\n",
        "model.add(Dropout(DROPOUTRATE))\n",
        "model.add(Dense(256, activation='relu'))\n",
        "model.add(Dropout(DROPOUTRATE))\n",
        "model.add(Dense(128, activation='relu'))\n",
        "model.add(Dropout(DROPOUTRATE))\n",
        "model.add(Dense(y_train.shape[2], activation='softmax'))\n",
        "\t# compile model\n",
        "opt = SGD(lr=lrate)\n",
        "#loss = categorical_focal_loss([67343,45927,995,11656,52])\n",
        "model.compile(loss= 'categorical_crossentropy', optimizer=opt, metrics=['accuracy'])\n",
        "# fit model\n",
        "history = model.fit(X_train, y_train, validation_split=.3,batch_size=batch_size, epochs=10, verbose=1)"
      ],
      "execution_count": null,
      "outputs": [
        {
          "output_type": "stream",
          "text": [
            "Epoch 1/10\n",
            "WARNING:tensorflow:Model was constructed with shape (None, 43) for input KerasTensor(type_spec=TensorSpec(shape=(None, 43), dtype=tf.float32, name='dense_input'), name='dense_input', description=\"created by layer 'dense_input'\"), but it was called on an input with incompatible shape (None, 1, 43).\n",
            "WARNING:tensorflow:Model was constructed with shape (None, 43) for input KerasTensor(type_spec=TensorSpec(shape=(None, 43), dtype=tf.float32, name='dense_input'), name='dense_input', description=\"created by layer 'dense_input'\"), but it was called on an input with incompatible shape (None, 1, 43).\n",
            "383/383 [==============================] - ETA: 0s - loss: 1.3683 - accuracy: 0.5232WARNING:tensorflow:Model was constructed with shape (None, 43) for input KerasTensor(type_spec=TensorSpec(shape=(None, 43), dtype=tf.float32, name='dense_input'), name='dense_input', description=\"created by layer 'dense_input'\"), but it was called on an input with incompatible shape (None, 1, 43).\n",
            "383/383 [==============================] - 73s 189ms/step - loss: 1.3678 - accuracy: 0.5234 - val_loss: 3.4806 - val_accuracy: 0.1649\n",
            "Epoch 2/10\n",
            "383/383 [==============================] - 71s 187ms/step - loss: 0.9487 - accuracy: 0.6404 - val_loss: 3.4781 - val_accuracy: 0.1765\n",
            "Epoch 3/10\n",
            "383/383 [==============================] - 71s 187ms/step - loss: 0.8776 - accuracy: 0.6625 - val_loss: 3.3949 - val_accuracy: 0.1920\n",
            "Epoch 4/10\n",
            "383/383 [==============================] - 71s 186ms/step - loss: 0.8356 - accuracy: 0.6779 - val_loss: 3.4196 - val_accuracy: 0.2177\n",
            "Epoch 5/10\n",
            "383/383 [==============================] - 72s 187ms/step - loss: 0.8014 - accuracy: 0.6901 - val_loss: 3.4427 - val_accuracy: 0.2463\n",
            "Epoch 6/10\n",
            "383/383 [==============================] - 72s 187ms/step - loss: 0.7801 - accuracy: 0.6994 - val_loss: 3.2567 - val_accuracy: 0.2503\n",
            "Epoch 7/10\n",
            "383/383 [==============================] - 72s 187ms/step - loss: 0.7626 - accuracy: 0.7057 - val_loss: 3.0615 - val_accuracy: 0.2910\n",
            "Epoch 8/10\n",
            "383/383 [==============================] - 72s 187ms/step - loss: 0.7440 - accuracy: 0.7125 - val_loss: 3.0052 - val_accuracy: 0.2825\n",
            "Epoch 9/10\n",
            "383/383 [==============================] - 72s 188ms/step - loss: 0.7288 - accuracy: 0.7202 - val_loss: 2.8808 - val_accuracy: 0.2805\n",
            "Epoch 10/10\n",
            "383/383 [==============================] - 72s 188ms/step - loss: 0.7125 - accuracy: 0.7268 - val_loss: 2.9173 - val_accuracy: 0.2392\n"
          ],
          "name": "stdout"
        }
      ]
    },
    {
      "cell_type": "code",
      "metadata": {
        "colab": {
          "base_uri": "https://localhost:8080/",
          "height": 295
        },
        "id": "PW_Mq1ZZS1Nc",
        "outputId": "bc77040d-cd23-406c-9e1a-87395536b680"
      },
      "source": [
        "from matplotlib import pyplot\n",
        "# plot accuracy\n",
        "pyplot.plot(history.history['accuracy'], label='train')\n",
        "pyplot.plot(history.history['val_accuracy'], label='test')\n",
        "pyplot.title('lrate='+str(lrate), pad=-50)\n"
      ],
      "execution_count": null,
      "outputs": [
        {
          "output_type": "execute_result",
          "data": {
            "text/plain": [
              "Text(0.5, 1.0, 'lrate=0.1')"
            ]
          },
          "metadata": {
            "tags": []
          },
          "execution_count": 61
        },
        {
          "output_type": "display_data",
          "data": {
            "image/png": "[encoded data removed]",
            "text/plain": [
              "<Figure size 432x288 with 1 Axes>"
            ]
          },
          "metadata": {
            "tags": []
          }
        }
      ]
    },
    {
      "cell_type": "code",
      "metadata": {
        "colab": {
          "base_uri": "https://localhost:8080/",
          "height": 295
        },
        "id": "vV49FqMAb9E6",
        "outputId": "ffa8ece8-5df1-4994-bafd-4fbd0be906de"
      },
      "source": [
        "\n",
        "# plot leoss\n",
        "pyplot.plot(history.history['loss'], label='train')\n",
        "pyplot.plot(history.history['val_loss'], label='test')\n",
        "pyplot.title('lrate='+str(lrate), pad=-50)"
      ],
      "execution_count": null,
      "outputs": [
        {
          "output_type": "execute_result",
          "data": {
            "text/plain": [
              "Text(0.5, 1.0, 'lrate=0.1')"
            ]
          },
          "metadata": {
            "tags": []
          },
          "execution_count": 62
        },
        {
          "output_type": "display_data",
          "data": {
            "image/png": "[encoded data removed]",
            "text/plain": [
              "<Figure size 432x288 with 1 Axes>"
            ]
          },
          "metadata": {
            "tags": []
          }
        }
      ]
    }
  ]
}