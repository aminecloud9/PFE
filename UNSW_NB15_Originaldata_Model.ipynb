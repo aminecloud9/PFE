{
  "nbformat": 4,
  "nbformat_minor": 0,
  "metadata": {
    "colab": {
      "name": "UNSW-NB15_Originaldata_Model.ipynb",
      "provenance": [],
      "collapsed_sections": [],
      "mount_file_id": "1ARvCIQsFDBUK_RLeyKToax0W3vj0-2xF",
      "authorship_tag": "ABX9TyMt3z9k6LttYSmCKJ5DVSv2",
      "include_colab_link": true
    },
    "kernelspec": {
      "display_name": "Python 3",
      "name": "python3"
    }
  },
  "cells": [
    {
      "cell_type": "markdown",
      "metadata": {
        "id": "view-in-github",
        "colab_type": "text"
      },
      "source": [
        "<a href=\"https://colab.research.google.com/github/aminecloud9/PFE/blob/main/UNSW_NB15_Originaldata_Model.ipynb\" target=\"_parent\"><img src=\"https://colab.research.google.com/assets/colab-badge.svg\" alt=\"Open In Colab\"/></a>"
      ]
    },
    {
      "cell_type": "code",
      "metadata": {
        "id": "zubbW2t0qkI4"
      },
      "source": [
        "%matplotlib inline\n",
        "import matplotlib.pyplot as plt\n",
        "import numpy as np\n",
        "import pandas as pd\n",
        "\n",
        "from __future__ import print_function\n",
        "import numpy as np\n",
        "np.random.seed(1337)  # for reproducibility\n",
        "from keras.preprocessing import sequence\n",
        "from keras.utils import np_utils\n",
        "from keras.models import Sequential\n",
        "from keras.optimizers import SGD\n",
        "from keras.layers import Dense, Dropout, Activation, Embedding\n",
        "from keras.layers import LSTM, SimpleRNN, GRU\n",
        "from keras.datasets import imdb\n",
        "from keras.utils.np_utils import to_categorical\n",
        "from sklearn.metrics import (precision_score, recall_score,\n",
        "                             f1_score, accuracy_score,mean_squared_error,mean_absolute_error)\n",
        "from sklearn import metrics\n",
        "from sklearn.preprocessing import Normalizer\n",
        "import h5py\n",
        "from keras import callbacks\n",
        "from keras import callbacks\n",
        "from keras.callbacks import ModelCheckpoint, EarlyStopping, ReduceLROnPlateau, CSVLogger"
      ],
      "execution_count": 47,
      "outputs": []
    },
    {
      "cell_type": "code",
      "metadata": {
        "id": "ybE0wIioxC50"
      },
      "source": [
        "pip install git+https://github.com/artemmavrin/focal-loss.git"
      ],
      "execution_count": null,
      "outputs": []
    },
    {
      "cell_type": "code",
      "metadata": {
        "id": "idL_NlX4xXNa"
      },
      "source": [
        "pip install focal-loss"
      ],
      "execution_count": null,
      "outputs": []
    },
    {
      "cell_type": "markdown",
      "metadata": {
        "id": "Px30HHOq6ihg"
      },
      "source": [
        "Download dataset"
      ]
    },
    {
      "cell_type": "code",
      "metadata": {
        "id": "yGP9ArVErwIu"
      },
      "source": [
        "#data=pd.read_csv('/content/drive/MyDrive/CICIDS2017_multi_class_StandardScaler_NormalsationResults.csv')\n",
        "#train_data = pd.read_csv('/content/drive/MyDrive/KDDTrain+.csv', header = None,nrows=1) # read just first line for columns\n",
        "#columns = train_data.columns.tolist() # get the columns\n",
        "#cols_to_use = columns[:len(columns)-1] \n",
        "train_data=pd.read_csv('/content/drive/MyDrive/UNSW_NB15_training.csv')\n",
        "train_data = train_data.iloc[:, :-1]# drop the last one\n",
        "test_data=pd.read_csv('/content/drive/MyDrive/UNSW_NB15_testing.csv')\n",
        "test_data = test_data.iloc[:, :-1]# drop the last one"
      ],
      "execution_count": 48,
      "outputs": []
    },
    {
      "cell_type": "code",
      "metadata": {
        "colab": {
          "base_uri": "https://localhost:8080/"
        },
        "id": "vxt6NqgGT4eF",
        "outputId": "6c9fad0d-2128-4d14-e8e6-c3516a4b0b53"
      },
      "source": [
        "train_y[0]"
      ],
      "execution_count": 58,
      "outputs": [
        {
          "output_type": "execute_result",
          "data": {
            "text/plain": [
              "array([0, 0, 0, ..., 0, 0, 0])"
            ]
          },
          "metadata": {
            "tags": []
          },
          "execution_count": 58
        }
      ]
    },
    {
      "cell_type": "markdown",
      "metadata": {
        "id": "5BEplQGjzx15"
      },
      "source": [
        "Data nemerisation"
      ]
    },
    {
      "cell_type": "code",
      "metadata": {
        "id": "a5_5KUiyzxSp"
      },
      "source": [
        "from sklearn.preprocessing import OrdinalEncoder\n",
        "enc = OrdinalEncoder()\n",
        "train_data[[\"proto\"]] = enc.fit_transform(train_data[[\"proto\"]])\n",
        "test_data[[\"proto\"]] = enc.fit_transform(test_data[[\"proto\"]])\n",
        "\n",
        "train_data[[\"service\"]] = enc.fit_transform(train_data[[\"service\"]])\n",
        "test_data[[\"service\"]] = enc.fit_transform(test_data[[\"service\"]])\n",
        "\n",
        "train_data[[\"state\"]] = enc.fit_transform(train_data[[\"state\"]])\n",
        "test_data[[\"state\"]] = enc.fit_transform(test_data[[\"state\"]])\n"
      ],
      "execution_count": 56,
      "outputs": []
    },
    {
      "cell_type": "markdown",
      "metadata": {
        "id": "XaDvNxT97K_X"
      },
      "source": [
        "Train and test data formatting"
      ]
    },
    {
      "cell_type": "code",
      "metadata": {
        "id": "Vbi5xXhgsu1K"
      },
      "source": [
        "train_X = train_data.values[:,:-1]\n",
        "train_y = pd.factorize(train_data.values[:,-1])\n",
        "test_X = test_data.values[:,:-1]\n",
        "test_y = pd.factorize(test_data.values[:,-1])"
      ],
      "execution_count": 64,
      "outputs": []
    },
    {
      "cell_type": "markdown",
      "metadata": {
        "id": "bcwfilLCl5t3"
      },
      "source": [
        "Data scaling"
      ]
    },
    {
      "cell_type": "code",
      "metadata": {
        "id": "c7DFNv1M6H5G"
      },
      "source": [
        "from sklearn.preprocessing import StandardScaler\n",
        "scaler = StandardScaler()\n",
        "train_X=scaler.fit_transform(train_X)\n",
        "test_X = scaler.fit_transform(test_X)"
      ],
      "execution_count": 65,
      "outputs": []
    },
    {
      "cell_type": "code",
      "metadata": {
        "colab": {
          "base_uri": "https://localhost:8080/",
          "height": 442
        },
        "id": "xfxOdGY_ZdR9",
        "outputId": "5bf196af-59d7-42a2-e11e-b8df9625e1dd"
      },
      "source": [
        "# summarize distribution\n",
        "from collections import Counter\n",
        "counter = Counter(train_y[0])\n",
        "for k,v in counter.items():\n",
        "\tper = v / len(train_y) * 100\n",
        "\tprint('Class=%d, n=%d (%.3f%%)' % (k, v, per))\n",
        "# plot the distribution\n",
        "pyplot.bar(counter.keys(), counter.values())\n",
        "pyplot.show()"
      ],
      "execution_count": 66,
      "outputs": [
        {
          "output_type": "stream",
          "text": [
            "Class=0, n=56000 (2800000.000%)\n",
            "Class=1, n=1746 (87300.000%)\n",
            "Class=2, n=2000 (100000.000%)\n",
            "Class=3, n=18184 (909200.000%)\n",
            "Class=4, n=1133 (56650.000%)\n",
            "Class=5, n=10491 (524550.000%)\n",
            "Class=6, n=33393 (1669650.000%)\n",
            "Class=7, n=12264 (613200.000%)\n",
            "Class=8, n=130 (6500.000%)\n",
            "Class=9, n=40000 (2000000.000%)\n"
          ],
          "name": "stdout"
        },
        {
          "output_type": "display_data",
          "data": {
            "image/png": "[encoded data removed]",
            "text/plain": [
              "<Figure size 432x288 with 1 Axes>"
            ]
          },
          "metadata": {
            "tags": [],
            "needs_background": "light"
          }
        }
      ]
    },
    {
      "cell_type": "markdown",
      "metadata": {
        "id": "xDEg_-8EJha4"
      },
      "source": [
        "Data augmentation"
      ]
    },
    {
      "cell_type": "code",
      "metadata": {
        "id": "oBF721-WJlxs"
      },
      "source": [
        "# Oversample and plot imbalanced dataset with SMOTE\n",
        "from collections import Counter\n",
        "from sklearn.datasets import make_classification\n",
        "from imblearn.over_sampling import SMOTE\n",
        "from matplotlib import pyplot\n",
        "from numpy import where\n",
        "# transform the dataset\n",
        "oversample = SMOTE()\n",
        "train_X, train_y = oversample.fit_resample(train_X, train_y[0])\n",
        "# summarize the new class distribution\n",
        "counter = Counter(train_y)\n",
        "print(counter)\n",
        "# scatter plot of examples by class label\n",
        "for label, _ in counter.items():\n",
        "\trow_ix = where(train_y == label)[0]\n",
        "\tpyplot.scatter(train_X[row_ix, 0], train_X[row_ix, 1], label=str(label))\n",
        "pyplot.legend()\n",
        "pyplot.show()\n",
        "\n",
        "pyplot.bar(counter.keys(), counter.values())\n",
        "pyplot.show()"
      ],
      "execution_count": null,
      "outputs": []
    },
    {
      "cell_type": "markdown",
      "metadata": {
        "id": "y14yBaZlm9LP"
      },
      "source": [
        "reshape input to be [samples, time steps, features]"
      ]
    },
    {
      "cell_type": "code",
      "metadata": {
        "id": "W7FOxrdJ2tye"
      },
      "source": [
        "import keras\n",
        "#X_train = np.reshape(data.values[:,:-1].astype('float32'), (data.values[:,:-1].shape[0], 1, data.values[:,:-1].shape[1]))\n",
        "X_train = np.reshape(train_X.astype('float32'), (train_X.shape[0], 1, train_X.shape[1]))\n",
        "X_test = np.reshape(test_X.astype('float32'), (test_X.shape[0], 1, test_X.shape[1]))\n",
        "#y_train = keras.utils.to_categorical(pd.factorize(data.values[:,77])[0],15)\n",
        "y_train = keras.utils.to_categorical(train_y[0],train_y[1].shape[0])\n",
        "y_train = y_train.astype('int')\n",
        "y_train = np.reshape(y_train,(y_train.shape[0],1,y_train.shape[1]))\n",
        "y_test = keras.utils.to_categorical(test_y[0],train_y[1].shape[0])\n",
        "y_test = y_test.astype('int')\n",
        "y_test = np.reshape(y_test,(y_test.shape[0],1,y_test.shape[1]))"
      ],
      "execution_count": 67,
      "outputs": []
    },
    {
      "cell_type": "code",
      "metadata": {
        "colab": {
          "base_uri": "https://localhost:8080/"
        },
        "id": "yDpNDtwEbELF",
        "outputId": "5c8b06e2-7405-4da8-e916-f2d48aed865f"
      },
      "source": [
        "X_test.shape"
      ],
      "execution_count": 70,
      "outputs": [
        {
          "output_type": "execute_result",
          "data": {
            "text/plain": [
              "(82332, 1, 43)"
            ]
          },
          "metadata": {
            "tags": []
          },
          "execution_count": 70
        }
      ]
    },
    {
      "cell_type": "markdown",
      "metadata": {
        "id": "sX2VddNf7iyt"
      },
      "source": [
        "Define the network"
      ]
    },
    {
      "cell_type": "code",
      "metadata": {
        "id": "Z2X1EbkTFiow"
      },
      "source": [
        "import time\n",
        "#train_object_num=len(train_data)\n",
        "#print(test[0])\n",
        "#model training\n",
        "batch_size = 1024\n",
        "model=Sequential()\n",
        "model.add(LSTM(X_train.shape[2],input_dim=X_train.shape[2],return_sequences=True,kernel_initializer='uniform',activation='relu'))\n",
        "model.add(LSTM(32,kernel_initializer='uniform',return_sequences=True,activation='relu'))\n",
        "model.add(LSTM(32,kernel_initializer='uniform',activation='relu'))\n",
        "model.add(Dense(256,activation='relu'))\n",
        "model.add(Dense(128,activation='relu'))\n",
        "model.add(Dense(64,activation='relu'))\n",
        "model.add(Dense(16,activation='relu'))\n",
        "model.add(Dense(y_train.shape[2],activation='sigmoid'))\n",
        "model.compile(loss='binary_crossentropy',optimizer='NADAM',metrics=['accuracy'])\n",
        "model.summary()\n",
        "start_time = time.time()\n",
        "history = model.fit(train_X,train_y,validation_split=.3,epochs=100,batch_size=batch_size,verbose=1)\n",
        "finish_time = time.time() - start_time\n",
        "model.save(\"/content/drive/My Drive/model_NSL-KDD_scaled_Multiclass_valsplit.3_bs1024_100ep.h5\")"
      ],
      "execution_count": null,
      "outputs": []
    },
    {
      "cell_type": "code",
      "metadata": {
        "colab": {
          "base_uri": "https://localhost:8080/",
          "height": 632
        },
        "id": "ZgFh6eY-RogJ",
        "outputId": "654814e9-53bc-4942-aeec-99eda58aa387"
      },
      "source": [
        "from sklearn.metrics import classification_report\n",
        "from sklearn.metrics import precision_recall_fscore_support\n",
        "loss, accuracy = model.evaluate(X_test,y_test)\n",
        "print(\"\\nLoss: %.2f, Accuracy: %.2f%%\" % (loss, accuracy*100))\n",
        "y_pred = model.predict_classes(X_test)\n",
        "target_names = ['Normal', 'Dos', 'Probe','R2L', 'U2R']\n",
        "print(classification_report(y_true = np.transpose(test_y[0]), y_pred = y_pred))\n",
        "#print(accuracy_score(y_true = np.transpose(test_y[0]), y_pred = y_pred))\n",
        "print(\"execution time :  \",finish_time)"
      ],
      "execution_count": 74,
      "outputs": [
        {
          "output_type": "stream",
          "text": [
            "2573/2573 [==============================] - 13s 5ms/step - loss: 2.8046 - accuracy: 0.4766\n",
            "\n",
            "Loss: 2.80, Accuracy: 47.66%\n",
            "WARNING:tensorflow:Model was constructed with shape (None, 43) for input KerasTensor(type_spec=TensorSpec(shape=(None, 43), dtype=tf.float32, name='dense_14_input'), name='dense_14_input', description=\"created by layer 'dense_14_input'\"), but it was called on an input with incompatible shape (None, 1, 43).\n"
          ],
          "name": "stdout"
        },
        {
          "output_type": "stream",
          "text": [
            "/usr/local/lib/python3.7/dist-packages/tensorflow/python/keras/engine/sequential.py:450: UserWarning: `model.predict_classes()` is deprecated and will be removed after 2021-01-01. Please use instead:* `np.argmax(model.predict(x), axis=-1)`,   if your model does multi-class classification   (e.g. if it uses a `softmax` last-layer activation).* `(model.predict(x) > 0.5).astype(\"int32\")`,   if your model does binary classification   (e.g. if it uses a `sigmoid` last-layer activation).\n",
            "  warnings.warn('`model.predict_classes()` is deprecated and '\n"
          ],
          "name": "stderr"
        },
        {
          "output_type": "stream",
          "text": [
            "              precision    recall  f1-score   support\n",
            "\n",
            "           0       0.70      0.56      0.62     37000\n",
            "           1       0.06      0.01      0.01      3496\n",
            "           2       0.00      0.00      0.00       583\n",
            "           3       0.02      0.07      0.02      4089\n",
            "           4       0.00      0.00      0.00     11132\n",
            "           5       0.00      0.00      0.00       677\n",
            "           6       0.06      0.13      0.08      6062\n",
            "           7       0.00      0.00      0.00        44\n",
            "           8       0.00      0.00      0.00       378\n",
            "           9       0.99      0.92      0.95     18871\n",
            "\n",
            "    accuracy                           0.48     82332\n",
            "   macro avg       0.18      0.17      0.17     82332\n",
            "weighted avg       0.55      0.48      0.51     82332\n",
            "\n"
          ],
          "name": "stdout"
        },
        {
          "output_type": "error",
          "ename": "NameError",
          "evalue": "ignored",
          "traceback": [
            "\u001b[0;31m---------------------------------------------------------------------------\u001b[0m",
            "\u001b[0;31mNameError\u001b[0m                                 Traceback (most recent call last)",
            "\u001b[0;32m<ipython-input-74-3d17ca7fe33e>\u001b[0m in \u001b[0;36m<module>\u001b[0;34m()\u001b[0m\n\u001b[1;32m      7\u001b[0m \u001b[0mprint\u001b[0m\u001b[0;34m(\u001b[0m\u001b[0mclassification_report\u001b[0m\u001b[0;34m(\u001b[0m\u001b[0my_true\u001b[0m \u001b[0;34m=\u001b[0m \u001b[0mnp\u001b[0m\u001b[0;34m.\u001b[0m\u001b[0mtranspose\u001b[0m\u001b[0;34m(\u001b[0m\u001b[0mtest_y\u001b[0m\u001b[0;34m[\u001b[0m\u001b[0;36m0\u001b[0m\u001b[0;34m]\u001b[0m\u001b[0;34m)\u001b[0m\u001b[0;34m,\u001b[0m \u001b[0my_pred\u001b[0m \u001b[0;34m=\u001b[0m \u001b[0my_pred\u001b[0m\u001b[0;34m)\u001b[0m\u001b[0;34m)\u001b[0m\u001b[0;34m\u001b[0m\u001b[0;34m\u001b[0m\u001b[0m\n\u001b[1;32m      8\u001b[0m \u001b[0;31m#print(accuracy_score(y_true = np.transpose(test_y[0]), y_pred = y_pred))\u001b[0m\u001b[0;34m\u001b[0m\u001b[0;34m\u001b[0m\u001b[0;34m\u001b[0m\u001b[0m\n\u001b[0;32m----> 9\u001b[0;31m \u001b[0mprint\u001b[0m\u001b[0;34m(\u001b[0m\u001b[0;34m\"execution time :  \"\u001b[0m\u001b[0;34m,\u001b[0m\u001b[0mfinish_time\u001b[0m\u001b[0;34m)\u001b[0m\u001b[0;34m\u001b[0m\u001b[0;34m\u001b[0m\u001b[0m\n\u001b[0m",
            "\u001b[0;31mNameError\u001b[0m: name 'finish_time' is not defined"
          ]
        }
      ]
    },
    {
      "cell_type": "markdown",
      "metadata": {
        "id": "moFJO80m0D9v"
      },
      "source": [
        "saving model"
      ]
    },
    {
      "cell_type": "code",
      "metadata": {
        "id": "ieGpV2zYXZwV"
      },
      "source": [
        "model.save(\"/content/drive/MyDrive/NSL-KDD_42norm_results_5Dense_po_Dropout_200epoch_1024batch_model.h5\")"
      ],
      "execution_count": null,
      "outputs": []
    },
    {
      "cell_type": "code",
      "metadata": {
        "id": "5xLvXBh0SyWh"
      },
      "source": [
        "from keras.models import load_model\n",
        "#model = load_model('/content/drive/MyDrive/NSL-KDD_results_SimpleRNN_model.hdf5')\n",
        "loss, accuracy = model.evaluate(X_test, y_test)\n",
        "print(\"\\nLoss: %.2f, Accuracy: %.2f%%\" % (loss, accuracy*100))\n",
        "\n",
        "#print(\"--- %s seconds ---\",finish_time)\n",
        "y_pred = model.predict(X_train)\n",
        "#np.savetxt('/content/drive/MyDrive/NSL-KDD_results_SimpleRNN_predicted.txt', np.transpose([y_test,y_pred]), fmt='%s')"
      ],
      "execution_count": null,
      "outputs": []
    },
    {
      "cell_type": "code",
      "metadata": {
        "id": "QRdRVMFrQSrR"
      },
      "source": [
        "y_pred"
      ],
      "execution_count": null,
      "outputs": []
    },
    {
      "cell_type": "code",
      "metadata": {
        "id": "kqAFEhU4_CMH"
      },
      "source": [
        "42 col pca 80% : b_s=256 epochs= 300 Lstm(32,32)->Dense(256,128,64,ytrain.shape(2))   ->   accuracy = 62.8%\n",
        "\n",
        "\n",
        "24 col normalisé : b_s=1024 epochs= 100 Lstm(32,32)->Dense(256,128,64,16,ytrain.shape(2))   ->   accuracy = 83.73%\n",
        "24 col pca 80% : b_s=1024 epochs= 100 Lstm(32,32)->Dense(256,128,64,16,ytrain.shape(2))   ->   accuracy = 40.28%\n",
        "42 col normalisé : b_s=1024 epochs= 100 Lstm(32,32)->Dense(256,128,64,16,ytrain.shape(2))   ->   accuracy = 48.52%\n",
        "42 col pca 80% : b_s=1024 epochs= 100 Lstm(32,32)->Dense(256,128,64,16,ytrain.shape(2))   ->   accuracy = 45.22%\n"
      ],
      "execution_count": null,
      "outputs": []
    },
    {
      "cell_type": "code",
      "metadata": {
        "colab": {
          "base_uri": "https://localhost:8080/"
        },
        "id": "ZpW4B3GT5_ac",
        "outputId": "77be0633-abbc-4d31-c9b4-441f010b2ed2"
      },
      "source": [
        "batch_size= 1024\n",
        "lrate = 0.1\n",
        "model = Sequential()\n",
        "model.add(Dense(X_train.shape[2], input_dim=X_train.shape[2], activation='relu', kernel_initializer='he_uniform'))\n",
        "model.add(Dense(1024, input_dim=X_train.shape[2], activation='relu', kernel_initializer='he_uniform'))\n",
        "#model.add(Dropout(0.1))\n",
        "model.add(Dense(768, input_dim=X_train.shape[2], activation='relu', kernel_initializer='he_uniform'))\n",
        "#model.add(Dropout(0.1))\n",
        "model.add(Dense(512, input_dim=X_train.shape[2], activation='relu', kernel_initializer='he_uniform'))\n",
        "#model.add(Dropout(0.1))\n",
        "model.add(Dense(256, input_dim=X_train.shape[2], activation='relu', kernel_initializer='he_uniform'))\n",
        "#model.add(Dropout(0.1))\n",
        "model.add(Dense(128, input_dim=X_train.shape[2], activation='relu', kernel_initializer='he_uniform'))\n",
        "#model.add(Dropout(0.1))\n",
        "model.add(Dense(y_train.shape[2], activation='softmax'))\n",
        "\t# compile model\n",
        "opt = SGD(lr=lrate)\n",
        "#loss = categorical_focal_loss([67343,45927,995,11656,52])\n",
        "model.compile(loss= 'categorical_crossentropy', optimizer=opt, metrics=['accuracy'])\n",
        "# fit model\n",
        "history = model.fit(X_train, y_train, validation_split=.3,batch_size=batch_size, epochs=10, verbose=1)"
      ],
      "execution_count": 71,
      "outputs": [
        {
          "output_type": "stream",
          "text": [
            "Epoch 1/10\n",
            "WARNING:tensorflow:Model was constructed with shape (None, 43) for input KerasTensor(type_spec=TensorSpec(shape=(None, 43), dtype=tf.float32, name='dense_14_input'), name='dense_14_input', description=\"created by layer 'dense_14_input'\"), but it was called on an input with incompatible shape (None, 1, 43).\n",
            "WARNING:tensorflow:Model was constructed with shape (None, 43) for input KerasTensor(type_spec=TensorSpec(shape=(None, 43), dtype=tf.float32, name='dense_14_input'), name='dense_14_input', description=\"created by layer 'dense_14_input'\"), but it was called on an input with incompatible shape (None, 1, 43).\n",
            "120/120 [==============================] - ETA: 0s - loss: 1.1630 - accuracy: 0.6097WARNING:tensorflow:Model was constructed with shape (None, 43) for input KerasTensor(type_spec=TensorSpec(shape=(None, 43), dtype=tf.float32, name='dense_14_input'), name='dense_14_input', description=\"created by layer 'dense_14_input'\"), but it was called on an input with incompatible shape (None, 1, 43).\n",
            "120/120 [==============================] - 23s 187ms/step - loss: 1.1609 - accuracy: 0.6103 - val_loss: 0.5348 - val_accuracy: 0.8516\n",
            "Epoch 2/10\n",
            "120/120 [==============================] - 22s 185ms/step - loss: 0.7185 - accuracy: 0.7291 - val_loss: 0.4747 - val_accuracy: 0.8631\n",
            "Epoch 3/10\n",
            "120/120 [==============================] - 22s 186ms/step - loss: 0.6791 - accuracy: 0.7404 - val_loss: 0.4564 - val_accuracy: 0.8658\n",
            "Epoch 4/10\n",
            "120/120 [==============================] - 22s 185ms/step - loss: 0.6485 - accuracy: 0.7518 - val_loss: 0.4340 - val_accuracy: 0.8723\n",
            "Epoch 5/10\n",
            "120/120 [==============================] - 22s 185ms/step - loss: 0.6277 - accuracy: 0.7600 - val_loss: 0.4362 - val_accuracy: 0.8719\n",
            "Epoch 6/10\n",
            "120/120 [==============================] - 22s 185ms/step - loss: 0.6107 - accuracy: 0.7636 - val_loss: 0.4210 - val_accuracy: 0.8734\n",
            "Epoch 7/10\n",
            "120/120 [==============================] - 22s 186ms/step - loss: 0.6058 - accuracy: 0.7641 - val_loss: 0.4206 - val_accuracy: 0.8699\n",
            "Epoch 8/10\n",
            "120/120 [==============================] - 22s 186ms/step - loss: 0.5932 - accuracy: 0.7692 - val_loss: 0.4172 - val_accuracy: 0.8742\n",
            "Epoch 9/10\n",
            "120/120 [==============================] - 22s 186ms/step - loss: 0.5806 - accuracy: 0.7746 - val_loss: 0.4136 - val_accuracy: 0.8770\n",
            "Epoch 10/10\n",
            "120/120 [==============================] - 22s 185ms/step - loss: 0.5743 - accuracy: 0.7769 - val_loss: 0.4035 - val_accuracy: 0.8785\n"
          ],
          "name": "stdout"
        }
      ]
    },
    {
      "cell_type": "code",
      "metadata": {
        "colab": {
          "base_uri": "https://localhost:8080/",
          "height": 295
        },
        "id": "PW_Mq1ZZS1Nc",
        "outputId": "d8d4a390-13c9-455e-ad4f-a7a83e4f44be"
      },
      "source": [
        "from matplotlib import pyplot\n",
        "# plot accuracy\n",
        "pyplot.plot(history.history['accuracy'], label='train')\n",
        "pyplot.plot(history.history['val_accuracy'], label='test')\n",
        "pyplot.title('lrate='+str(lrate), pad=-50)\n"
      ],
      "execution_count": 72,
      "outputs": [
        {
          "output_type": "execute_result",
          "data": {
            "text/plain": [
              "Text(0.5, 1.0, 'lrate=0.1')"
            ]
          },
          "metadata": {
            "tags": []
          },
          "execution_count": 72
        },
        {
          "output_type": "display_data",
          "data": {
            "image/png": "[encoded data removed]",
            "text/plain": [
              "<Figure size 432x288 with 1 Axes>"
            ]
          },
          "metadata": {
            "tags": [],
            "needs_background": "light"
          }
        }
      ]
    },
    {
      "cell_type": "code",
      "metadata": {
        "colab": {
          "base_uri": "https://localhost:8080/",
          "height": 295
        },
        "id": "vV49FqMAb9E6",
        "outputId": "b1b3e76d-dff2-4b01-fa23-6e7da354e0aa"
      },
      "source": [
        "\n",
        "# plot leoss\n",
        "pyplot.plot(history.history['loss'], label='train')\n",
        "pyplot.plot(history.history['val_loss'], label='test')\n",
        "pyplot.title('lrate='+str(lrate), pad=-50)"
      ],
      "execution_count": 73,
      "outputs": [
        {
          "output_type": "execute_result",
          "data": {
            "text/plain": [
              "Text(0.5, 1.0, 'lrate=0.1')"
            ]
          },
          "metadata": {
            "tags": []
          },
          "execution_count": 73
        },
        {
          "output_type": "display_data",
          "data": {
            "image/png": "[encoded data removed]",
            "text/plain": [
              "<Figure size 432x288 with 1 Axes>"
            ]
          },
          "metadata": {
            "tags": [],
            "needs_background": "light"
          }
        }
      ]
    }
  ]
}